{
  "nbformat": 4,
  "nbformat_minor": 0,
  "metadata": {
    "colab": {
      "name": "Credit_card_fraud_detection.ipynb",
      "provenance": [],
      "collapsed_sections": [],
      "mount_file_id": "1zObGIQ7RJb3mMTBaBOhH1H0_JsmCgCAr",
      "authorship_tag": "ABX9TyPFL/99FT7c4NvHyCMuLOFQ",
      "include_colab_link": true
    },
    "kernelspec": {
      "name": "python3",
      "display_name": "Python 3"
    },
    "accelerator": "GPU",
    "widgets": {
      "application/vnd.jupyter.widget-state+json": {
        "9de6e9c3def24822ab1d4ddff1617b48": {
          "model_module": "@jupyter-widgets/controls",
          "model_name": "IntProgressModel",
          "state": {
            "_view_name": "ProgressView",
            "style": "IPY_MODEL_8ad72adb3eab4ecea4b874f7030877d1",
            "_dom_classes": [],
            "description": "Processing: ",
            "_model_name": "IntProgressModel",
            "bar_style": "",
            "max": 13,
            "_view_module": "@jupyter-widgets/controls",
            "_model_module_version": "1.5.0",
            "value": 12,
            "_view_count": null,
            "_view_module_version": "1.5.0",
            "orientation": "horizontal",
            "min": 0,
            "description_tooltip": null,
            "_model_module": "@jupyter-widgets/controls",
            "layout": "IPY_MODEL_9b64135756434f66bbc05685c035d3e2"
          }
        },
        "8ad72adb3eab4ecea4b874f7030877d1": {
          "model_module": "@jupyter-widgets/controls",
          "model_name": "ProgressStyleModel",
          "state": {
            "_view_name": "StyleView",
            "_model_name": "ProgressStyleModel",
            "description_width": "",
            "_view_module": "@jupyter-widgets/base",
            "_model_module_version": "1.5.0",
            "_view_count": null,
            "_view_module_version": "1.2.0",
            "bar_color": null,
            "_model_module": "@jupyter-widgets/controls"
          }
        },
        "9b64135756434f66bbc05685c035d3e2": {
          "model_module": "@jupyter-widgets/base",
          "model_name": "LayoutModel",
          "state": {
            "_view_name": "LayoutView",
            "grid_template_rows": null,
            "right": null,
            "justify_content": null,
            "_view_module": "@jupyter-widgets/base",
            "overflow": null,
            "_model_module_version": "1.2.0",
            "_view_count": null,
            "flex_flow": null,
            "width": null,
            "min_width": null,
            "border": null,
            "align_items": null,
            "bottom": null,
            "_model_module": "@jupyter-widgets/base",
            "top": null,
            "grid_column": null,
            "overflow_y": null,
            "overflow_x": null,
            "grid_auto_flow": null,
            "grid_area": null,
            "grid_template_columns": null,
            "flex": null,
            "_model_name": "LayoutModel",
            "justify_items": null,
            "grid_row": null,
            "max_height": null,
            "align_content": null,
            "visibility": null,
            "align_self": null,
            "height": null,
            "min_height": null,
            "padding": null,
            "grid_auto_rows": null,
            "grid_gap": null,
            "max_width": null,
            "order": null,
            "_view_module_version": "1.2.0",
            "grid_template_areas": null,
            "object_position": null,
            "object_fit": null,
            "grid_auto_columns": null,
            "margin": null,
            "display": null,
            "left": null
          }
        },
        "e3462b403aa84537b766114ad0888269": {
          "model_module": "@jupyter-widgets/controls",
          "model_name": "TextModel",
          "state": {
            "_view_name": "TextView",
            "style": "IPY_MODEL_cd77328e0a114f06850c6610637bc146",
            "_dom_classes": [],
            "description": "",
            "_model_name": "TextModel",
            "placeholder": "​",
            "_view_module": "@jupyter-widgets/controls",
            "_model_module_version": "1.5.0",
            "value": "Following data types have been inferred automatically, if they are correct press enter to continue or type 'quit' otherwise.",
            "_view_count": null,
            "disabled": false,
            "_view_module_version": "1.5.0",
            "continuous_update": true,
            "description_tooltip": null,
            "_model_module": "@jupyter-widgets/controls",
            "layout": "IPY_MODEL_afacbea6d7e240949ba6b2030ef81f81"
          }
        },
        "cd77328e0a114f06850c6610637bc146": {
          "model_module": "@jupyter-widgets/controls",
          "model_name": "DescriptionStyleModel",
          "state": {
            "_view_name": "StyleView",
            "_model_name": "DescriptionStyleModel",
            "description_width": "",
            "_view_module": "@jupyter-widgets/base",
            "_model_module_version": "1.5.0",
            "_view_count": null,
            "_view_module_version": "1.2.0",
            "_model_module": "@jupyter-widgets/controls"
          }
        },
        "afacbea6d7e240949ba6b2030ef81f81": {
          "model_module": "@jupyter-widgets/base",
          "model_name": "LayoutModel",
          "state": {
            "_view_name": "LayoutView",
            "grid_template_rows": null,
            "right": null,
            "justify_content": null,
            "_view_module": "@jupyter-widgets/base",
            "overflow": null,
            "_model_module_version": "1.2.0",
            "_view_count": null,
            "flex_flow": null,
            "width": "100%",
            "min_width": null,
            "border": null,
            "align_items": null,
            "bottom": null,
            "_model_module": "@jupyter-widgets/base",
            "top": null,
            "grid_column": null,
            "overflow_y": null,
            "overflow_x": null,
            "grid_auto_flow": null,
            "grid_area": null,
            "grid_template_columns": null,
            "flex": null,
            "_model_name": "LayoutModel",
            "justify_items": null,
            "grid_row": null,
            "max_height": null,
            "align_content": null,
            "visibility": null,
            "align_self": null,
            "height": null,
            "min_height": null,
            "padding": null,
            "grid_auto_rows": null,
            "grid_gap": null,
            "max_width": null,
            "order": null,
            "_view_module_version": "1.2.0",
            "grid_template_areas": null,
            "object_position": null,
            "object_fit": null,
            "grid_auto_columns": null,
            "margin": null,
            "display": null,
            "left": null
          }
        },
        "93f4bcbc18cf4bbcb911db38271f841d": {
          "model_module": "@jupyter-widgets/controls",
          "model_name": "IntProgressModel",
          "state": {
            "_view_name": "ProgressView",
            "style": "IPY_MODEL_58424585844a4bf0af06e537fd4e2fa1",
            "_dom_classes": [],
            "description": "Processing: ",
            "_model_name": "IntProgressModel",
            "bar_style": "",
            "max": 178,
            "_view_module": "@jupyter-widgets/controls",
            "_model_module_version": "1.5.0",
            "value": 174,
            "_view_count": null,
            "_view_module_version": "1.5.0",
            "orientation": "horizontal",
            "min": 0,
            "description_tooltip": null,
            "_model_module": "@jupyter-widgets/controls",
            "layout": "IPY_MODEL_4b51bb43d7804282b3a4b52c46832217"
          }
        },
        "58424585844a4bf0af06e537fd4e2fa1": {
          "model_module": "@jupyter-widgets/controls",
          "model_name": "ProgressStyleModel",
          "state": {
            "_view_name": "StyleView",
            "_model_name": "ProgressStyleModel",
            "description_width": "",
            "_view_module": "@jupyter-widgets/base",
            "_model_module_version": "1.5.0",
            "_view_count": null,
            "_view_module_version": "1.2.0",
            "bar_color": null,
            "_model_module": "@jupyter-widgets/controls"
          }
        },
        "4b51bb43d7804282b3a4b52c46832217": {
          "model_module": "@jupyter-widgets/base",
          "model_name": "LayoutModel",
          "state": {
            "_view_name": "LayoutView",
            "grid_template_rows": null,
            "right": null,
            "justify_content": null,
            "_view_module": "@jupyter-widgets/base",
            "overflow": null,
            "_model_module_version": "1.2.0",
            "_view_count": null,
            "flex_flow": null,
            "width": null,
            "min_width": null,
            "border": null,
            "align_items": null,
            "bottom": null,
            "_model_module": "@jupyter-widgets/base",
            "top": null,
            "grid_column": null,
            "overflow_y": null,
            "overflow_x": null,
            "grid_auto_flow": null,
            "grid_area": null,
            "grid_template_columns": null,
            "flex": null,
            "_model_name": "LayoutModel",
            "justify_items": null,
            "grid_row": null,
            "max_height": null,
            "align_content": null,
            "visibility": null,
            "align_self": null,
            "height": null,
            "min_height": null,
            "padding": null,
            "grid_auto_rows": null,
            "grid_gap": null,
            "max_width": null,
            "order": null,
            "_view_module_version": "1.2.0",
            "grid_template_areas": null,
            "object_position": null,
            "object_fit": null,
            "grid_auto_columns": null,
            "margin": null,
            "display": null,
            "left": null
          }
        },
        "229375c2742744edb43c24064612d15a": {
          "model_module": "@jupyter-widgets/controls",
          "model_name": "IntProgressModel",
          "state": {
            "_view_name": "ProgressView",
            "style": "IPY_MODEL_2942c5651f5849a3a47db45dfda77082",
            "_dom_classes": [],
            "description": "Processing: ",
            "_model_name": "IntProgressModel",
            "bar_style": "",
            "max": 14,
            "_view_module": "@jupyter-widgets/controls",
            "_model_module_version": "1.5.0",
            "value": 14,
            "_view_count": null,
            "_view_module_version": "1.5.0",
            "orientation": "horizontal",
            "min": 0,
            "description_tooltip": null,
            "_model_module": "@jupyter-widgets/controls",
            "layout": "IPY_MODEL_d17580e626ba4216b4261a99377cc897"
          }
        },
        "2942c5651f5849a3a47db45dfda77082": {
          "model_module": "@jupyter-widgets/controls",
          "model_name": "ProgressStyleModel",
          "state": {
            "_view_name": "StyleView",
            "_model_name": "ProgressStyleModel",
            "description_width": "",
            "_view_module": "@jupyter-widgets/base",
            "_model_module_version": "1.5.0",
            "_view_count": null,
            "_view_module_version": "1.2.0",
            "bar_color": null,
            "_model_module": "@jupyter-widgets/controls"
          }
        },
        "d17580e626ba4216b4261a99377cc897": {
          "model_module": "@jupyter-widgets/base",
          "model_name": "LayoutModel",
          "state": {
            "_view_name": "LayoutView",
            "grid_template_rows": null,
            "right": null,
            "justify_content": null,
            "_view_module": "@jupyter-widgets/base",
            "overflow": null,
            "_model_module_version": "1.2.0",
            "_view_count": null,
            "flex_flow": null,
            "width": null,
            "min_width": null,
            "border": null,
            "align_items": null,
            "bottom": null,
            "_model_module": "@jupyter-widgets/base",
            "top": null,
            "grid_column": null,
            "overflow_y": null,
            "overflow_x": null,
            "grid_auto_flow": null,
            "grid_area": null,
            "grid_template_columns": null,
            "flex": null,
            "_model_name": "LayoutModel",
            "justify_items": null,
            "grid_row": null,
            "max_height": null,
            "align_content": null,
            "visibility": null,
            "align_self": null,
            "height": null,
            "min_height": null,
            "padding": null,
            "grid_auto_rows": null,
            "grid_gap": null,
            "max_width": null,
            "order": null,
            "_view_module_version": "1.2.0",
            "grid_template_areas": null,
            "object_position": null,
            "object_fit": null,
            "grid_auto_columns": null,
            "margin": null,
            "display": null,
            "left": null
          }
        },
        "710aae2815584ba3b83c01bf73925608": {
          "model_module": "@jupyter-widgets/controls",
          "model_name": "IntProgressModel",
          "state": {
            "_view_name": "ProgressView",
            "style": "IPY_MODEL_fd3bcd49c77b46868a321b1b105d8a1f",
            "_dom_classes": [],
            "description": "Processing: ",
            "_model_name": "IntProgressModel",
            "bar_style": "",
            "max": 16,
            "_view_module": "@jupyter-widgets/controls",
            "_model_module_version": "1.5.0",
            "value": 16,
            "_view_count": null,
            "_view_module_version": "1.5.0",
            "orientation": "horizontal",
            "min": 0,
            "description_tooltip": null,
            "_model_module": "@jupyter-widgets/controls",
            "layout": "IPY_MODEL_6f2fd93d405a47e997b8106ab7f61e11"
          }
        },
        "fd3bcd49c77b46868a321b1b105d8a1f": {
          "model_module": "@jupyter-widgets/controls",
          "model_name": "ProgressStyleModel",
          "state": {
            "_view_name": "StyleView",
            "_model_name": "ProgressStyleModel",
            "description_width": "",
            "_view_module": "@jupyter-widgets/base",
            "_model_module_version": "1.5.0",
            "_view_count": null,
            "_view_module_version": "1.2.0",
            "bar_color": null,
            "_model_module": "@jupyter-widgets/controls"
          }
        },
        "6f2fd93d405a47e997b8106ab7f61e11": {
          "model_module": "@jupyter-widgets/base",
          "model_name": "LayoutModel",
          "state": {
            "_view_name": "LayoutView",
            "grid_template_rows": null,
            "right": null,
            "justify_content": null,
            "_view_module": "@jupyter-widgets/base",
            "overflow": null,
            "_model_module_version": "1.2.0",
            "_view_count": null,
            "flex_flow": null,
            "width": null,
            "min_width": null,
            "border": null,
            "align_items": null,
            "bottom": null,
            "_model_module": "@jupyter-widgets/base",
            "top": null,
            "grid_column": null,
            "overflow_y": null,
            "overflow_x": null,
            "grid_auto_flow": null,
            "grid_area": null,
            "grid_template_columns": null,
            "flex": null,
            "_model_name": "LayoutModel",
            "justify_items": null,
            "grid_row": null,
            "max_height": null,
            "align_content": null,
            "visibility": null,
            "align_self": null,
            "height": null,
            "min_height": null,
            "padding": null,
            "grid_auto_rows": null,
            "grid_gap": null,
            "max_width": null,
            "order": null,
            "_view_module_version": "1.2.0",
            "grid_template_areas": null,
            "object_position": null,
            "object_fit": null,
            "grid_auto_columns": null,
            "margin": null,
            "display": null,
            "left": null
          }
        }
      }
    }
  },
  "cells": [
    {
      "cell_type": "markdown",
      "metadata": {
        "id": "view-in-github",
        "colab_type": "text"
      },
      "source": [
        "<a href=\"https://colab.research.google.com/github/ranesh88/Credit_card_fraud_detection/blob/master/Credit_card_fraud_detection.ipynb\" target=\"_parent\"><img src=\"https://colab.research.google.com/assets/colab-badge.svg\" alt=\"Open In Colab\"/></a>"
      ]
    },
    {
      "cell_type": "code",
      "metadata": {
        "id": "UYBZlwZr1yqZ",
        "colab_type": "code",
        "colab": {}
      },
      "source": [
        "from google.colab import drive\n",
        "drive.mount('/content/drive/', force_remount=True)"
      ],
      "execution_count": null,
      "outputs": []
    },
    {
      "cell_type": "code",
      "metadata": {
        "id": "hNHM_CcT3TO9",
        "colab_type": "code",
        "colab": {}
      },
      "source": [
        "!ls '/content/drive/'"
      ],
      "execution_count": null,
      "outputs": []
    },
    {
      "cell_type": "code",
      "metadata": {
        "id": "WMien2LaN3xe",
        "colab_type": "code",
        "colab": {
          "base_uri": "https://localhost:8080/",
          "height": 224
        },
        "outputId": "a8cf8db4-6a9c-4d97-9d24-c8e476c17e3e"
      },
      "source": [
        "import pandas as pd\n",
        "data=pd.read_csv('/content/drive/My Drive/creditcard.csv')\n",
        "data.head()"
      ],
      "execution_count": null,
      "outputs": [
        {
          "output_type": "execute_result",
          "data": {
            "text/html": [
              "<div>\n",
              "<style scoped>\n",
              "    .dataframe tbody tr th:only-of-type {\n",
              "        vertical-align: middle;\n",
              "    }\n",
              "\n",
              "    .dataframe tbody tr th {\n",
              "        vertical-align: top;\n",
              "    }\n",
              "\n",
              "    .dataframe thead th {\n",
              "        text-align: right;\n",
              "    }\n",
              "</style>\n",
              "<table border=\"1\" class=\"dataframe\">\n",
              "  <thead>\n",
              "    <tr style=\"text-align: right;\">\n",
              "      <th></th>\n",
              "      <th>Time</th>\n",
              "      <th>V1</th>\n",
              "      <th>V2</th>\n",
              "      <th>V3</th>\n",
              "      <th>V4</th>\n",
              "      <th>V5</th>\n",
              "      <th>V6</th>\n",
              "      <th>V7</th>\n",
              "      <th>V8</th>\n",
              "      <th>V9</th>\n",
              "      <th>V10</th>\n",
              "      <th>V11</th>\n",
              "      <th>V12</th>\n",
              "      <th>V13</th>\n",
              "      <th>V14</th>\n",
              "      <th>V15</th>\n",
              "      <th>V16</th>\n",
              "      <th>V17</th>\n",
              "      <th>V18</th>\n",
              "      <th>V19</th>\n",
              "      <th>V20</th>\n",
              "      <th>V21</th>\n",
              "      <th>V22</th>\n",
              "      <th>V23</th>\n",
              "      <th>V24</th>\n",
              "      <th>V25</th>\n",
              "      <th>V26</th>\n",
              "      <th>V27</th>\n",
              "      <th>V28</th>\n",
              "      <th>Amount</th>\n",
              "      <th>Class</th>\n",
              "    </tr>\n",
              "  </thead>\n",
              "  <tbody>\n",
              "    <tr>\n",
              "      <th>0</th>\n",
              "      <td>0.0</td>\n",
              "      <td>-1.359807</td>\n",
              "      <td>-0.072781</td>\n",
              "      <td>2.536347</td>\n",
              "      <td>1.378155</td>\n",
              "      <td>-0.338321</td>\n",
              "      <td>0.462388</td>\n",
              "      <td>0.239599</td>\n",
              "      <td>0.098698</td>\n",
              "      <td>0.363787</td>\n",
              "      <td>0.090794</td>\n",
              "      <td>-0.551600</td>\n",
              "      <td>-0.617801</td>\n",
              "      <td>-0.991390</td>\n",
              "      <td>-0.311169</td>\n",
              "      <td>1.468177</td>\n",
              "      <td>-0.470401</td>\n",
              "      <td>0.207971</td>\n",
              "      <td>0.025791</td>\n",
              "      <td>0.403993</td>\n",
              "      <td>0.251412</td>\n",
              "      <td>-0.018307</td>\n",
              "      <td>0.277838</td>\n",
              "      <td>-0.110474</td>\n",
              "      <td>0.066928</td>\n",
              "      <td>0.128539</td>\n",
              "      <td>-0.189115</td>\n",
              "      <td>0.133558</td>\n",
              "      <td>-0.021053</td>\n",
              "      <td>149.62</td>\n",
              "      <td>0</td>\n",
              "    </tr>\n",
              "    <tr>\n",
              "      <th>1</th>\n",
              "      <td>0.0</td>\n",
              "      <td>1.191857</td>\n",
              "      <td>0.266151</td>\n",
              "      <td>0.166480</td>\n",
              "      <td>0.448154</td>\n",
              "      <td>0.060018</td>\n",
              "      <td>-0.082361</td>\n",
              "      <td>-0.078803</td>\n",
              "      <td>0.085102</td>\n",
              "      <td>-0.255425</td>\n",
              "      <td>-0.166974</td>\n",
              "      <td>1.612727</td>\n",
              "      <td>1.065235</td>\n",
              "      <td>0.489095</td>\n",
              "      <td>-0.143772</td>\n",
              "      <td>0.635558</td>\n",
              "      <td>0.463917</td>\n",
              "      <td>-0.114805</td>\n",
              "      <td>-0.183361</td>\n",
              "      <td>-0.145783</td>\n",
              "      <td>-0.069083</td>\n",
              "      <td>-0.225775</td>\n",
              "      <td>-0.638672</td>\n",
              "      <td>0.101288</td>\n",
              "      <td>-0.339846</td>\n",
              "      <td>0.167170</td>\n",
              "      <td>0.125895</td>\n",
              "      <td>-0.008983</td>\n",
              "      <td>0.014724</td>\n",
              "      <td>2.69</td>\n",
              "      <td>0</td>\n",
              "    </tr>\n",
              "    <tr>\n",
              "      <th>2</th>\n",
              "      <td>1.0</td>\n",
              "      <td>-1.358354</td>\n",
              "      <td>-1.340163</td>\n",
              "      <td>1.773209</td>\n",
              "      <td>0.379780</td>\n",
              "      <td>-0.503198</td>\n",
              "      <td>1.800499</td>\n",
              "      <td>0.791461</td>\n",
              "      <td>0.247676</td>\n",
              "      <td>-1.514654</td>\n",
              "      <td>0.207643</td>\n",
              "      <td>0.624501</td>\n",
              "      <td>0.066084</td>\n",
              "      <td>0.717293</td>\n",
              "      <td>-0.165946</td>\n",
              "      <td>2.345865</td>\n",
              "      <td>-2.890083</td>\n",
              "      <td>1.109969</td>\n",
              "      <td>-0.121359</td>\n",
              "      <td>-2.261857</td>\n",
              "      <td>0.524980</td>\n",
              "      <td>0.247998</td>\n",
              "      <td>0.771679</td>\n",
              "      <td>0.909412</td>\n",
              "      <td>-0.689281</td>\n",
              "      <td>-0.327642</td>\n",
              "      <td>-0.139097</td>\n",
              "      <td>-0.055353</td>\n",
              "      <td>-0.059752</td>\n",
              "      <td>378.66</td>\n",
              "      <td>0</td>\n",
              "    </tr>\n",
              "    <tr>\n",
              "      <th>3</th>\n",
              "      <td>1.0</td>\n",
              "      <td>-0.966272</td>\n",
              "      <td>-0.185226</td>\n",
              "      <td>1.792993</td>\n",
              "      <td>-0.863291</td>\n",
              "      <td>-0.010309</td>\n",
              "      <td>1.247203</td>\n",
              "      <td>0.237609</td>\n",
              "      <td>0.377436</td>\n",
              "      <td>-1.387024</td>\n",
              "      <td>-0.054952</td>\n",
              "      <td>-0.226487</td>\n",
              "      <td>0.178228</td>\n",
              "      <td>0.507757</td>\n",
              "      <td>-0.287924</td>\n",
              "      <td>-0.631418</td>\n",
              "      <td>-1.059647</td>\n",
              "      <td>-0.684093</td>\n",
              "      <td>1.965775</td>\n",
              "      <td>-1.232622</td>\n",
              "      <td>-0.208038</td>\n",
              "      <td>-0.108300</td>\n",
              "      <td>0.005274</td>\n",
              "      <td>-0.190321</td>\n",
              "      <td>-1.175575</td>\n",
              "      <td>0.647376</td>\n",
              "      <td>-0.221929</td>\n",
              "      <td>0.062723</td>\n",
              "      <td>0.061458</td>\n",
              "      <td>123.50</td>\n",
              "      <td>0</td>\n",
              "    </tr>\n",
              "    <tr>\n",
              "      <th>4</th>\n",
              "      <td>2.0</td>\n",
              "      <td>-1.158233</td>\n",
              "      <td>0.877737</td>\n",
              "      <td>1.548718</td>\n",
              "      <td>0.403034</td>\n",
              "      <td>-0.407193</td>\n",
              "      <td>0.095921</td>\n",
              "      <td>0.592941</td>\n",
              "      <td>-0.270533</td>\n",
              "      <td>0.817739</td>\n",
              "      <td>0.753074</td>\n",
              "      <td>-0.822843</td>\n",
              "      <td>0.538196</td>\n",
              "      <td>1.345852</td>\n",
              "      <td>-1.119670</td>\n",
              "      <td>0.175121</td>\n",
              "      <td>-0.451449</td>\n",
              "      <td>-0.237033</td>\n",
              "      <td>-0.038195</td>\n",
              "      <td>0.803487</td>\n",
              "      <td>0.408542</td>\n",
              "      <td>-0.009431</td>\n",
              "      <td>0.798278</td>\n",
              "      <td>-0.137458</td>\n",
              "      <td>0.141267</td>\n",
              "      <td>-0.206010</td>\n",
              "      <td>0.502292</td>\n",
              "      <td>0.219422</td>\n",
              "      <td>0.215153</td>\n",
              "      <td>69.99</td>\n",
              "      <td>0</td>\n",
              "    </tr>\n",
              "  </tbody>\n",
              "</table>\n",
              "</div>"
            ],
            "text/plain": [
              "   Time        V1        V2        V3        V4        V5        V6        V7  \\\n",
              "0   0.0 -1.359807 -0.072781  2.536347  1.378155 -0.338321  0.462388  0.239599   \n",
              "1   0.0  1.191857  0.266151  0.166480  0.448154  0.060018 -0.082361 -0.078803   \n",
              "2   1.0 -1.358354 -1.340163  1.773209  0.379780 -0.503198  1.800499  0.791461   \n",
              "3   1.0 -0.966272 -0.185226  1.792993 -0.863291 -0.010309  1.247203  0.237609   \n",
              "4   2.0 -1.158233  0.877737  1.548718  0.403034 -0.407193  0.095921  0.592941   \n",
              "\n",
              "         V8        V9       V10       V11       V12       V13       V14  \\\n",
              "0  0.098698  0.363787  0.090794 -0.551600 -0.617801 -0.991390 -0.311169   \n",
              "1  0.085102 -0.255425 -0.166974  1.612727  1.065235  0.489095 -0.143772   \n",
              "2  0.247676 -1.514654  0.207643  0.624501  0.066084  0.717293 -0.165946   \n",
              "3  0.377436 -1.387024 -0.054952 -0.226487  0.178228  0.507757 -0.287924   \n",
              "4 -0.270533  0.817739  0.753074 -0.822843  0.538196  1.345852 -1.119670   \n",
              "\n",
              "        V15       V16       V17       V18       V19       V20       V21  \\\n",
              "0  1.468177 -0.470401  0.207971  0.025791  0.403993  0.251412 -0.018307   \n",
              "1  0.635558  0.463917 -0.114805 -0.183361 -0.145783 -0.069083 -0.225775   \n",
              "2  2.345865 -2.890083  1.109969 -0.121359 -2.261857  0.524980  0.247998   \n",
              "3 -0.631418 -1.059647 -0.684093  1.965775 -1.232622 -0.208038 -0.108300   \n",
              "4  0.175121 -0.451449 -0.237033 -0.038195  0.803487  0.408542 -0.009431   \n",
              "\n",
              "        V22       V23       V24       V25       V26       V27       V28  \\\n",
              "0  0.277838 -0.110474  0.066928  0.128539 -0.189115  0.133558 -0.021053   \n",
              "1 -0.638672  0.101288 -0.339846  0.167170  0.125895 -0.008983  0.014724   \n",
              "2  0.771679  0.909412 -0.689281 -0.327642 -0.139097 -0.055353 -0.059752   \n",
              "3  0.005274 -0.190321 -1.175575  0.647376 -0.221929  0.062723  0.061458   \n",
              "4  0.798278 -0.137458  0.141267 -0.206010  0.502292  0.219422  0.215153   \n",
              "\n",
              "   Amount  Class  \n",
              "0  149.62      0  \n",
              "1    2.69      0  \n",
              "2  378.66      0  \n",
              "3  123.50      0  \n",
              "4   69.99      0  "
            ]
          },
          "metadata": {
            "tags": []
          },
          "execution_count": 31
        }
      ]
    },
    {
      "cell_type": "markdown",
      "metadata": {
        "id": "61XTnZnViMrx",
        "colab_type": "text"
      },
      "source": [
        "Collection of Libraries"
      ]
    },
    {
      "cell_type": "code",
      "metadata": {
        "id": "iTwHzWTo3s4i",
        "colab_type": "code",
        "colab": {}
      },
      "source": [
        "import numpy as np\n",
        "import sklearn\n",
        "import scipy\n",
        "import warnings\n",
        "import matplotlib.pyplot as plt\n",
        "%matplotlib inline\n",
        "import seaborn as sns\n",
        "from sklearn.metrics import classification_report,accuracy_score\n",
        "from sklearn.metrics import f1_score, roc_auc_score, roc_curve\n",
        "from sklearn.metrics import precision_score, recall_score,accuracy_score\n",
        "from sklearn.metrics import cohen_kappa_score\n",
        "from pylab import rcParams\n",
        "rcParams['figure.figsize'] = 14, 8\n",
        "RANDOM_SEED = 42\n",
        "LABELS = [\"Normal\", \"Fraud\"]\n",
        "warnings.filterwarnings('ignore')\n",
        "sns.set(style=\"darkgrid\")"
      ],
      "execution_count": null,
      "outputs": []
    },
    {
      "cell_type": "code",
      "metadata": {
        "id": "b9D5KHdp7NDI",
        "colab_type": "code",
        "colab": {
          "base_uri": "https://localhost:8080/",
          "height": 34
        },
        "outputId": "c2c00bd5-f0e9-4c44-9b1c-16308fea0a7c"
      },
      "source": [
        "data.shape"
      ],
      "execution_count": null,
      "outputs": [
        {
          "output_type": "execute_result",
          "data": {
            "text/plain": [
              "(284807, 31)"
            ]
          },
          "metadata": {
            "tags": []
          },
          "execution_count": 10
        }
      ]
    },
    {
      "cell_type": "code",
      "metadata": {
        "id": "4fmqAFbc8FEa",
        "colab_type": "code",
        "colab": {
          "base_uri": "https://localhost:8080/",
          "height": 68
        },
        "outputId": "20e4a0a4-2c96-4728-ad66-bd5987a3e0f8"
      },
      "source": [
        "data['Class'].value_counts()"
      ],
      "execution_count": null,
      "outputs": [
        {
          "output_type": "execute_result",
          "data": {
            "text/plain": [
              "0    284315\n",
              "1       492\n",
              "Name: Class, dtype: int64"
            ]
          },
          "metadata": {
            "tags": []
          },
          "execution_count": 11
        }
      ]
    },
    {
      "cell_type": "code",
      "metadata": {
        "id": "Lm5TDW8e8TpW",
        "colab_type": "code",
        "colab": {
          "base_uri": "https://localhost:8080/",
          "height": 34
        },
        "outputId": "d37cb573-5b67-43ea-fb9d-8d2ed6c3d3ba"
      },
      "source": [
        "data.isnull().sum().any()"
      ],
      "execution_count": null,
      "outputs": [
        {
          "output_type": "execute_result",
          "data": {
            "text/plain": [
              "False"
            ]
          },
          "metadata": {
            "tags": []
          },
          "execution_count": 12
        }
      ]
    },
    {
      "cell_type": "code",
      "metadata": {
        "id": "IYPVrNe98X6s",
        "colab_type": "code",
        "colab": {
          "base_uri": "https://localhost:8080/",
          "height": 530
        },
        "outputId": "ebbf5dc9-c0d7-4357-d814-afb730e7d6dc"
      },
      "source": [
        "count_classes = pd.value_counts(data['Class'], sort = True)\n",
        "\n",
        "count_classes.plot(kind = 'bar', rot=0)\n",
        "\n",
        "plt.title(\"Transaction Class Distribution\")\n",
        "\n",
        "plt.xticks(range(2), LABELS)\n",
        "\n",
        "plt.xlabel(\"Class\")\n",
        "\n",
        "plt.ylabel(\"Frequency\")"
      ],
      "execution_count": null,
      "outputs": [
        {
          "output_type": "execute_result",
          "data": {
            "text/plain": [
              "Text(0, 0.5, 'Frequency')"
            ]
          },
          "metadata": {
            "tags": []
          },
          "execution_count": 26
        },
        {
          "output_type": "display_data",
          "data": {
            "image/png": "[encoded data removed]",
            "text/plain": [
              "<Figure size 1008x576 with 1 Axes>"
            ]
          },
          "metadata": {
            "tags": [],
            "needs_background": "light"
          }
        }
      ]
    },
    {
      "cell_type": "code",
      "metadata": {
        "id": "V4Vo3o4d8hVd",
        "colab_type": "code",
        "colab": {}
      },
      "source": [
        "## Get the Fraud and the normal dataset \n",
        "\n",
        "fraud = data[data['Class']==1]\n",
        "\n",
        "normal = data[data['Class']==0]"
      ],
      "execution_count": null,
      "outputs": []
    },
    {
      "cell_type": "code",
      "metadata": {
        "id": "XvnM9sbM87fr",
        "colab_type": "code",
        "colab": {
          "base_uri": "https://localhost:8080/",
          "height": 34
        },
        "outputId": "60c8a04b-2a0d-4ddf-d50d-ffa0d525b3b6"
      },
      "source": [
        "print(fraud.shape,normal.shape)"
      ],
      "execution_count": null,
      "outputs": [
        {
          "output_type": "stream",
          "text": [
            "(492, 31) (284315, 31)\n"
          ],
          "name": "stdout"
        }
      ]
    },
    {
      "cell_type": "code",
      "metadata": {
        "id": "vb2dX97U9EOT",
        "colab_type": "code",
        "colab": {
          "base_uri": "https://localhost:8080/",
          "height": 170
        },
        "outputId": "ca3f9016-aee5-40c2-96d6-8c40c9446665"
      },
      "source": [
        "## We need to analysis more amount of information from transaction data\n",
        "## How different are the amount of money used in different transaction classes...\n",
        "fraud.Amount.describe()"
      ],
      "execution_count": null,
      "outputs": [
        {
          "output_type": "execute_result",
          "data": {
            "text/plain": [
              "count     492.000000\n",
              "mean      122.211321\n",
              "std       256.683288\n",
              "min         0.000000\n",
              "25%         1.000000\n",
              "50%         9.250000\n",
              "75%       105.890000\n",
              "max      2125.870000\n",
              "Name: Amount, dtype: float64"
            ]
          },
          "metadata": {
            "tags": []
          },
          "execution_count": 29
        }
      ]
    },
    {
      "cell_type": "code",
      "metadata": {
        "id": "2iQsdU_79KFr",
        "colab_type": "code",
        "colab": {
          "base_uri": "https://localhost:8080/",
          "height": 170
        },
        "outputId": "5e81c11a-00a4-4306-ddff-01cf6597a5dc"
      },
      "source": [
        "normal.Amount.describe()"
      ],
      "execution_count": null,
      "outputs": [
        {
          "output_type": "execute_result",
          "data": {
            "text/plain": [
              "count    284315.000000\n",
              "mean         88.291022\n",
              "std         250.105092\n",
              "min           0.000000\n",
              "25%           5.650000\n",
              "50%          22.000000\n",
              "75%          77.050000\n",
              "max       25691.160000\n",
              "Name: Amount, dtype: float64"
            ]
          },
          "metadata": {
            "tags": []
          },
          "execution_count": 30
        }
      ]
    },
    {
      "cell_type": "code",
      "metadata": {
        "id": "PJLXuG5X9UTj",
        "colab_type": "code",
        "colab": {
          "base_uri": "https://localhost:8080/",
          "height": 554
        },
        "outputId": "93119bd0-6724-45f8-cbef-bb6caebceb99"
      },
      "source": [
        "f,(ax1,ax2)=plt.subplots(2,1,sharex=True)\n",
        "f.suptitle(\"Amount per transaction by class\")\n",
        "bins=200\n",
        "ax1.hist(fraud.Amount,bins=bins)\n",
        "ax1.set_title(\"fraud\")\n",
        "ax2.hist(fraud.Amount,bins=bins)\n",
        "ax2.set_title(\"normal\")\n",
        "plt.xlabel(\"Amount($)\")\n",
        "plt.ylabel(\"Number of Transactions\")\n",
        "plt.xlim((0,20000))\n",
        "plt.yscale(\"log\")\n",
        "plt.show();"
      ],
      "execution_count": null,
      "outputs": [
        {
          "output_type": "display_data",
          "data": {
            "image/png": "[encoded data removed]",
            "text/plain": [
              "<Figure size 1008x576 with 2 Axes>"
            ]
          },
          "metadata": {
            "tags": [],
            "needs_background": "light"
          }
        }
      ]
    },
    {
      "cell_type": "code",
      "metadata": {
        "id": "sVEnN2kb9cXD",
        "colab_type": "code",
        "colab": {
          "base_uri": "https://localhost:8080/",
          "height": 1000
        },
        "outputId": "90863d4f-c7d2-4743-d047-f50a3f616eb6"
      },
      "source": [
        "## Correltion\n",
        "## get correlation of each features in the dataset\n",
        "cormat=data.corr()\n",
        "top_corr_features=cormat.index\n",
        "plt.figure(figsize=(20,20))\n",
        "g=sns.heatmap(data[top_corr_features].corr(),annot=True,cmap=\"RdYlGn\")"
      ],
      "execution_count": null,
      "outputs": [
        {
          "output_type": "display_data",
          "data": {
            "image/png": "[encoded data removed]",
            "text/plain": [
              "<Figure size 1440x1440 with 2 Axes>"
            ]
          },
          "metadata": {
            "tags": [],
            "needs_background": "light"
          }
        }
      ]
    },
    {
      "cell_type": "code",
      "metadata": {
        "id": "XWmiW1Se9nU8",
        "colab_type": "code",
        "colab": {
          "base_uri": "https://localhost:8080/",
          "height": 500
        },
        "outputId": "a35136e2-1c79-4887-b540-14f6be2af443"
      },
      "source": [
        "data.Time.hist()"
      ],
      "execution_count": null,
      "outputs": [
        {
          "output_type": "execute_result",
          "data": {
            "text/plain": [
              "<matplotlib.axes._subplots.AxesSubplot at 0x7f76856ddeb8>"
            ]
          },
          "metadata": {
            "tags": []
          },
          "execution_count": 33
        },
        {
          "output_type": "display_data",
          "data": {
            "image/png": "[encoded data removed]",
            "text/plain": [
              "<Figure size 1008x576 with 1 Axes>"
            ]
          },
          "metadata": {
            "tags": [],
            "needs_background": "light"
          }
        }
      ]
    },
    {
      "cell_type": "code",
      "metadata": {
        "id": "O9xRFXWY9yEr",
        "colab_type": "code",
        "colab": {
          "base_uri": "https://localhost:8080/",
          "height": 500
        },
        "outputId": "d218bb03-cdd4-4418-b5c1-197d01f901fd"
      },
      "source": [
        "data.Amount.hist()"
      ],
      "execution_count": null,
      "outputs": [
        {
          "output_type": "execute_result",
          "data": {
            "text/plain": [
              "<matplotlib.axes._subplots.AxesSubplot at 0x7f76855d16d8>"
            ]
          },
          "metadata": {
            "tags": []
          },
          "execution_count": 34
        },
        {
          "output_type": "display_data",
          "data": {
            "image/png": "[encoded data removed]",
            "text/plain": [
              "<Figure size 1008x576 with 1 Axes>"
            ]
          },
          "metadata": {
            "tags": [],
            "needs_background": "light"
          }
        }
      ]
    },
    {
      "cell_type": "code",
      "metadata": {
        "id": "6Ss6jB2Z98mb",
        "colab_type": "code",
        "colab": {
          "base_uri": "https://localhost:8080/",
          "height": 1000
        },
        "outputId": "128c09d0-f152-4665-ba1c-f540e4133fae"
      },
      "source": [
        "data.hist(figsize=(15,15))"
      ],
      "execution_count": null,
      "outputs": [
        {
          "output_type": "execute_result",
          "data": {
            "text/plain": [
              "array([[<matplotlib.axes._subplots.AxesSubplot object at 0x7f7683d09f98>,\n",
              "        <matplotlib.axes._subplots.AxesSubplot object at 0x7f7683d32978>,\n",
              "        <matplotlib.axes._subplots.AxesSubplot object at 0x7f7683ce1c18>,\n",
              "        <matplotlib.axes._subplots.AxesSubplot object at 0x7f7683c96f98>,\n",
              "        <matplotlib.axes._subplots.AxesSubplot object at 0x7f7683c55358>,\n",
              "        <matplotlib.axes._subplots.AxesSubplot object at 0x7f7683c076d8>],\n",
              "       [<matplotlib.axes._subplots.AxesSubplot object at 0x7f7683c38a58>,\n",
              "        <matplotlib.axes._subplots.AxesSubplot object at 0x7f7683be9da0>,\n",
              "        <matplotlib.axes._subplots.AxesSubplot object at 0x7f7683be9e10>,\n",
              "        <matplotlib.axes._subplots.AxesSubplot object at 0x7f7683b5c518>,\n",
              "        <matplotlib.axes._subplots.AxesSubplot object at 0x7f7683b0c898>,\n",
              "        <matplotlib.axes._subplots.AxesSubplot object at 0x7f7683ac0c18>],\n",
              "       [<matplotlib.axes._subplots.AxesSubplot object at 0x7f7683af3f98>,\n",
              "        <matplotlib.axes._subplots.AxesSubplot object at 0x7f7683ab1358>,\n",
              "        <matplotlib.axes._subplots.AxesSubplot object at 0x7f7683a646d8>,\n",
              "        <matplotlib.axes._subplots.AxesSubplot object at 0x7f7683a13a58>,\n",
              "        <matplotlib.axes._subplots.AxesSubplot object at 0x7f76839c7dd8>,\n",
              "        <matplotlib.axes._subplots.AxesSubplot object at 0x7f7683987198>],\n",
              "       [<matplotlib.axes._subplots.AxesSubplot object at 0x7f76839b9518>,\n",
              "        <matplotlib.axes._subplots.AxesSubplot object at 0x7f768396a898>,\n",
              "        <matplotlib.axes._subplots.AxesSubplot object at 0x7f768391cc18>,\n",
              "        <matplotlib.axes._subplots.AxesSubplot object at 0x7f76838d0f98>,\n",
              "        <matplotlib.axes._subplots.AxesSubplot object at 0x7f768388e358>,\n",
              "        <matplotlib.axes._subplots.AxesSubplot object at 0x7f768383f6d8>],\n",
              "       [<matplotlib.axes._subplots.AxesSubplot object at 0x7f768386fa58>,\n",
              "        <matplotlib.axes._subplots.AxesSubplot object at 0x7f7683823dd8>,\n",
              "        <matplotlib.axes._subplots.AxesSubplot object at 0x7f76837e4198>,\n",
              "        <matplotlib.axes._subplots.AxesSubplot object at 0x7f76859dc2b0>,\n",
              "        <matplotlib.axes._subplots.AxesSubplot object at 0x7f7685dae5c0>,\n",
              "        <matplotlib.axes._subplots.AxesSubplot object at 0x7f76856d8c88>],\n",
              "       [<matplotlib.axes._subplots.AxesSubplot object at 0x7f76836ff198>,\n",
              "        <matplotlib.axes._subplots.AxesSubplot object at 0x7f7683732400>,\n",
              "        <matplotlib.axes._subplots.AxesSubplot object at 0x7f76836e7668>,\n",
              "        <matplotlib.axes._subplots.AxesSubplot object at 0x7f768369a8d0>,\n",
              "        <matplotlib.axes._subplots.AxesSubplot object at 0x7f768364cb38>,\n",
              "        <matplotlib.axes._subplots.AxesSubplot object at 0x7f7683603da0>]],\n",
              "      dtype=object)"
            ]
          },
          "metadata": {
            "tags": []
          },
          "execution_count": 35
        },
        {
          "output_type": "display_data",
          "data": {
            "image/png": "[encoded data removed]",
            "text/plain": [
              "<Figure size 1080x1080 with 36 Axes>"
            ]
          },
          "metadata": {
            "tags": [],
            "needs_background": "light"
          }
        }
      ]
    },
    {
      "cell_type": "code",
      "metadata": {
        "id": "TlnDlPbU-PiC",
        "colab_type": "code",
        "colab": {}
      },
      "source": [
        "from sklearn.linear_model import LogisticRegression\n",
        "from sklearn.metrics import accuracy_score,confusion_matrix,classification_report\n",
        "from sklearn.model_selection import KFold\n",
        "from sklearn.model_selection import GridSearchCV"
      ],
      "execution_count": null,
      "outputs": []
    },
    {
      "cell_type": "code",
      "metadata": {
        "id": "yZCPYOQdY0sx",
        "colab_type": "code",
        "colab": {}
      },
      "source": [
        "def generate_auc_roc_curve(clf, X_test):\n",
        "    y_pred_proba = clf.predict_proba(X_test)[:, 1]\n",
        "    fpr, tpr, thresholds = roc_curve(Y_test,  y_pred_proba)\n",
        "    auc = roc_auc_score(Y_test, y_pred_proba)\n",
        "    plt.plot(fpr,tpr,label=\"AUC ROC Curve with Area Under the curve =\"+str(auc))\n",
        "    plt.legend(loc=4)\n",
        "    plt.show()\n",
        "    pass"
      ],
      "execution_count": null,
      "outputs": []
    },
    {
      "cell_type": "code",
      "metadata": {
        "id": "7enFisfEeSSH",
        "colab_type": "code",
        "colab": {}
      },
      "source": [
        "\n",
        "def generate_model_report(Y_test, y_pred):\n",
        "    print(\"Accuracy = \" , accuracy_score(Y_test, y_pred))\n",
        "    print(\"Precision = \" ,precision_score(Y_test, y_pred))\n",
        "    print(\"Recall = \" ,recall_score(Y_test, y_pred))\n",
        "    print(\"F1 Score = \" ,f1_score(Y_test, y_pred))\n",
        "    print(\"Kappa Score = \",cohen_kappa_score(Y_test,y_pred))\n",
        "    pass"
      ],
      "execution_count": null,
      "outputs": []
    },
    {
      "cell_type": "code",
      "metadata": {
        "id": "uqH5NPts-aqy",
        "colab_type": "code",
        "colab": {}
      },
      "source": [
        "log_class=LogisticRegression()\n",
        "grid={'C':10.0 **np.arange(-2,3),'penalty':['l1','l2']}\n",
        "cv=KFold(n_splits=5,random_state=None,shuffle=False)"
      ],
      "execution_count": null,
      "outputs": []
    },
    {
      "cell_type": "code",
      "metadata": {
        "id": "t2JAH5bu-wq5",
        "colab_type": "code",
        "colab": {
          "base_uri": "https://localhost:8080/",
          "height": 51
        },
        "outputId": "926689a2-f95f-4a85-8935-7ab72fb99df7"
      },
      "source": [
        "#Create independent and Dependent Features\n",
        "columns = data.columns.tolist()\n",
        "# Filter the columns to remove data we do not want \n",
        "columns = [c for c in columns if c not in [\"Class\"]]\n",
        "# Store the variable we are predicting \n",
        "target = \"Class\"\n",
        "# Define a random state \n",
        "state = np.random.RandomState(42)\n",
        "X = data[columns]\n",
        "Y = data[target]\n",
        "# Print the shapes of X & Y\n",
        "print(X.shape)\n",
        "print(Y.shape)"
      ],
      "execution_count": null,
      "outputs": [
        {
          "output_type": "stream",
          "text": [
            "(284807, 30)\n",
            "(284807,)\n"
          ],
          "name": "stdout"
        }
      ]
    },
    {
      "cell_type": "code",
      "metadata": {
        "id": "2YT_I7Rp-odw",
        "colab_type": "code",
        "colab": {}
      },
      "source": [
        "from sklearn.model_selection import train_test_split\n",
        "X_train,X_test,Y_train,Y_test=train_test_split(X,Y,train_size=0.7)"
      ],
      "execution_count": null,
      "outputs": []
    },
    {
      "cell_type": "code",
      "metadata": {
        "id": "cRkaCSVP_A9y",
        "colab_type": "code",
        "colab": {
          "base_uri": "https://localhost:8080/",
          "height": 272
        },
        "outputId": "5b1b6147-953c-4c42-e6fd-6cc1fe9f911d"
      },
      "source": [
        "clf=GridSearchCV(log_class,grid,cv=cv,n_jobs=-1,scoring='f1_macro')\n",
        "clf.fit(X_train,Y_train)"
      ],
      "execution_count": null,
      "outputs": [
        {
          "output_type": "execute_result",
          "data": {
            "text/plain": [
              "GridSearchCV(cv=KFold(n_splits=5, random_state=None, shuffle=False),\n",
              "             error_score=nan,\n",
              "             estimator=LogisticRegression(C=1.0, class_weight=None, dual=False,\n",
              "                                          fit_intercept=True,\n",
              "                                          intercept_scaling=1, l1_ratio=None,\n",
              "                                          max_iter=100, multi_class='auto',\n",
              "                                          n_jobs=None, penalty='l2',\n",
              "                                          random_state=None, solver='lbfgs',\n",
              "                                          tol=0.0001, verbose=0,\n",
              "                                          warm_start=False),\n",
              "             iid='deprecated', n_jobs=-1,\n",
              "             param_grid={'C': array([1.e-02, 1.e-01, 1.e+00, 1.e+01, 1.e+02]),\n",
              "                         'penalty': ['l1', 'l2']},\n",
              "             pre_dispatch='2*n_jobs', refit=True, return_train_score=False,\n",
              "             scoring='f1_macro', verbose=0)"
            ]
          },
          "metadata": {
            "tags": []
          },
          "execution_count": 11
        }
      ]
    },
    {
      "cell_type": "code",
      "metadata": {
        "id": "WWUBQUfqHaEX",
        "colab_type": "code",
        "colab": {
          "base_uri": "https://localhost:8080/",
          "height": 221
        },
        "outputId": "71516158-ef8b-4b10-fc8a-310c87f3982f"
      },
      "source": [
        "y_pred=clf.predict(X_test)\n",
        "print(confusion_matrix(Y_test,y_pred))\n",
        "print(accuracy_score(Y_test,y_pred))\n",
        "print(classification_report(Y_test,y_pred))"
      ],
      "execution_count": null,
      "outputs": [
        {
          "output_type": "stream",
          "text": [
            "[[85239    44]\n",
            " [   66    94]]\n",
            "0.9987125920204113\n",
            "              precision    recall  f1-score   support\n",
            "\n",
            "           0       1.00      1.00      1.00     85283\n",
            "           1       0.68      0.59      0.63       160\n",
            "\n",
            "    accuracy                           1.00     85443\n",
            "   macro avg       0.84      0.79      0.82     85443\n",
            "weighted avg       1.00      1.00      1.00     85443\n",
            "\n"
          ],
          "name": "stdout"
        }
      ]
    },
    {
      "cell_type": "code",
      "metadata": {
        "id": "xmagIiVEkZUH",
        "colab_type": "code",
        "colab": {
          "base_uri": "https://localhost:8080/",
          "height": 142
        },
        "outputId": "766aedea-8acd-4e5c-ffb7-24d7faf2a6af"
      },
      "source": [
        "pd.crosstab(pd.Series(y_pred, name = 'Predicted'), \n",
        "            pd.Series(Y_test, name = 'Actual'))"
      ],
      "execution_count": null,
      "outputs": [
        {
          "output_type": "execute_result",
          "data": {
            "text/html": [
              "<div>\n",
              "<style scoped>\n",
              "    .dataframe tbody tr th:only-of-type {\n",
              "        vertical-align: middle;\n",
              "    }\n",
              "\n",
              "    .dataframe tbody tr th {\n",
              "        vertical-align: top;\n",
              "    }\n",
              "\n",
              "    .dataframe thead th {\n",
              "        text-align: right;\n",
              "    }\n",
              "</style>\n",
              "<table border=\"1\" class=\"dataframe\">\n",
              "  <thead>\n",
              "    <tr style=\"text-align: right;\">\n",
              "      <th>Actual</th>\n",
              "      <th>0</th>\n",
              "      <th>1</th>\n",
              "    </tr>\n",
              "    <tr>\n",
              "      <th>Predicted</th>\n",
              "      <th></th>\n",
              "      <th></th>\n",
              "    </tr>\n",
              "  </thead>\n",
              "  <tbody>\n",
              "    <tr>\n",
              "      <th>0</th>\n",
              "      <td>25788</td>\n",
              "      <td>68</td>\n",
              "    </tr>\n",
              "    <tr>\n",
              "      <th>1</th>\n",
              "      <td>33</td>\n",
              "      <td>0</td>\n",
              "    </tr>\n",
              "  </tbody>\n",
              "</table>\n",
              "</div>"
            ],
            "text/plain": [
              "Actual         0   1\n",
              "Predicted           \n",
              "0          25788  68\n",
              "1             33   0"
            ]
          },
          "metadata": {
            "tags": []
          },
          "execution_count": 45
        }
      ]
    },
    {
      "cell_type": "code",
      "metadata": {
        "id": "4hWZC1ptfqRL",
        "colab_type": "code",
        "colab": {
          "base_uri": "https://localhost:8080/",
          "height": 102
        },
        "outputId": "e4695876-d875-432f-e2a6-a616975a3459"
      },
      "source": [
        "generate_model_report(Y_test,y_pred)"
      ],
      "execution_count": null,
      "outputs": [
        {
          "output_type": "stream",
          "text": [
            "Accuracy =  0.9987125920204113\n",
            "Precision =  0.6811594202898551\n",
            "Recall =  0.5875\n",
            "F1 Score =  0.6308724832214765\n",
            "Kappa Score =  0.6302311752990635\n"
          ],
          "name": "stdout"
        }
      ]
    },
    {
      "cell_type": "code",
      "metadata": {
        "id": "Sf3BtlSfa3v-",
        "colab_type": "code",
        "colab": {
          "base_uri": "https://localhost:8080/",
          "height": 483
        },
        "outputId": "233e8d16-6388-4616-d8c5-37ce68e14fb0"
      },
      "source": [
        "generate_auc_roc_curve(clf, X_test)"
      ],
      "execution_count": null,
      "outputs": [
        {
          "output_type": "display_data",
          "data": {
            "image/png": "[encoded data removed]",
            "text/plain": [
              "<Figure size 1008x576 with 1 Axes>"
            ]
          },
          "metadata": {
            "tags": [],
            "needs_background": "light"
          }
        }
      ]
    },
    {
      "cell_type": "code",
      "metadata": {
        "id": "_nQjEAMYKLF_",
        "colab_type": "code",
        "colab": {
          "base_uri": "https://localhost:8080/",
          "height": 153
        },
        "outputId": "73727f2e-9099-4c30-e48f-a483e49e03a7"
      },
      "source": [
        "from sklearn.ensemble import RandomForestClassifier\n",
        "classifier=RandomForestClassifier()\n",
        "classifier.fit(X_train,Y_train)"
      ],
      "execution_count": null,
      "outputs": [
        {
          "output_type": "execute_result",
          "data": {
            "text/plain": [
              "RandomForestClassifier(bootstrap=True, ccp_alpha=0.0, class_weight=None,\n",
              "                       criterion='gini', max_depth=None, max_features='auto',\n",
              "                       max_leaf_nodes=None, max_samples=None,\n",
              "                       min_impurity_decrease=0.0, min_impurity_split=None,\n",
              "                       min_samples_leaf=1, min_samples_split=2,\n",
              "                       min_weight_fraction_leaf=0.0, n_estimators=100,\n",
              "                       n_jobs=None, oob_score=False, random_state=None,\n",
              "                       verbose=0, warm_start=False)"
            ]
          },
          "metadata": {
            "tags": []
          },
          "execution_count": 15
        }
      ]
    },
    {
      "cell_type": "code",
      "metadata": {
        "id": "2AUX7cISOqip",
        "colab_type": "code",
        "colab": {
          "base_uri": "https://localhost:8080/",
          "height": 221
        },
        "outputId": "ae033945-4ab2-4064-8814-6a786b59256a"
      },
      "source": [
        "y_pred=classifier.predict(X_test)\n",
        "print(confusion_matrix(Y_test,y_pred))\n",
        "print(accuracy_score(Y_test,y_pred))\n",
        "print(classification_report(Y_test,y_pred))"
      ],
      "execution_count": null,
      "outputs": [
        {
          "output_type": "stream",
          "text": [
            "[[85278     5]\n",
            " [   43   117]]\n",
            "0.9994382219725431\n",
            "              precision    recall  f1-score   support\n",
            "\n",
            "           0       1.00      1.00      1.00     85283\n",
            "           1       0.96      0.73      0.83       160\n",
            "\n",
            "    accuracy                           1.00     85443\n",
            "   macro avg       0.98      0.87      0.91     85443\n",
            "weighted avg       1.00      1.00      1.00     85443\n",
            "\n"
          ],
          "name": "stdout"
        }
      ]
    },
    {
      "cell_type": "code",
      "metadata": {
        "id": "UArPLiEPl57N",
        "colab_type": "code",
        "colab": {
          "base_uri": "https://localhost:8080/",
          "height": 142
        },
        "outputId": "349112dc-03b3-4955-d67f-4c5aec9251f7"
      },
      "source": [
        "pd.crosstab(pd.Series(y_pred, name = 'Predicted'), \n",
        "            pd.Series(Y_test, name = 'Actual'))"
      ],
      "execution_count": null,
      "outputs": [
        {
          "output_type": "execute_result",
          "data": {
            "text/html": [
              "<div>\n",
              "<style scoped>\n",
              "    .dataframe tbody tr th:only-of-type {\n",
              "        vertical-align: middle;\n",
              "    }\n",
              "\n",
              "    .dataframe tbody tr th {\n",
              "        vertical-align: top;\n",
              "    }\n",
              "\n",
              "    .dataframe thead th {\n",
              "        text-align: right;\n",
              "    }\n",
              "</style>\n",
              "<table border=\"1\" class=\"dataframe\">\n",
              "  <thead>\n",
              "    <tr style=\"text-align: right;\">\n",
              "      <th>Actual</th>\n",
              "      <th>0</th>\n",
              "      <th>1</th>\n",
              "    </tr>\n",
              "    <tr>\n",
              "      <th>Predicted</th>\n",
              "      <th></th>\n",
              "      <th></th>\n",
              "    </tr>\n",
              "  </thead>\n",
              "  <tbody>\n",
              "    <tr>\n",
              "      <th>0</th>\n",
              "      <td>25444</td>\n",
              "      <td>51</td>\n",
              "    </tr>\n",
              "    <tr>\n",
              "      <th>1</th>\n",
              "      <td>36</td>\n",
              "      <td>0</td>\n",
              "    </tr>\n",
              "  </tbody>\n",
              "</table>\n",
              "</div>"
            ],
            "text/plain": [
              "Actual         0   1\n",
              "Predicted           \n",
              "0          25444  51\n",
              "1             36   0"
            ]
          },
          "metadata": {
            "tags": []
          },
          "execution_count": 17
        }
      ]
    },
    {
      "cell_type": "code",
      "metadata": {
        "id": "S2XrNgfLTVfj",
        "colab_type": "code",
        "colab": {
          "base_uri": "https://localhost:8080/",
          "height": 102
        },
        "outputId": "055002dd-fcaa-4424-be9f-96dbd40c57ce"
      },
      "source": [
        "generate_model_report(Y_test,y_pred)"
      ],
      "execution_count": null,
      "outputs": [
        {
          "output_type": "stream",
          "text": [
            "Accuracy =  0.9994382219725431\n",
            "Precision =  0.9590163934426229\n",
            "Recall =  0.73125\n",
            "F1 Score =  0.8297872340425532\n",
            "Kappa Score =  0.8295109978489257\n"
          ],
          "name": "stdout"
        }
      ]
    },
    {
      "cell_type": "code",
      "metadata": {
        "id": "0FM5ToDjd_MX",
        "colab_type": "code",
        "colab": {
          "base_uri": "https://localhost:8080/",
          "height": 485
        },
        "outputId": "e1557cb8-4d85-40c3-c0ba-9c422e4782ed"
      },
      "source": [
        "generate_auc_roc_curve(classifier, X_test)"
      ],
      "execution_count": null,
      "outputs": [
        {
          "output_type": "display_data",
          "data": {
            "image/png": "[encoded data removed]",
            "text/plain": [
              "<Figure size 1008x576 with 1 Axes>"
            ]
          },
          "metadata": {
            "tags": []
          }
        }
      ]
    },
    {
      "cell_type": "code",
      "metadata": {
        "id": "YYp0J7NbPgB7",
        "colab_type": "code",
        "colab": {
          "base_uri": "https://localhost:8080/",
          "height": 136
        },
        "outputId": "dadffc7a-683f-46b9-d162-bf68de28e09b"
      },
      "source": [
        "from xgboost import XGBClassifier\n",
        "classifier_xgb=XGBClassifier()\n",
        "classifier_xgb.fit(X_train,Y_train)\n"
      ],
      "execution_count": null,
      "outputs": [
        {
          "output_type": "execute_result",
          "data": {
            "text/plain": [
              "XGBClassifier(base_score=0.5, booster='gbtree', colsample_bylevel=1,\n",
              "              colsample_bynode=1, colsample_bytree=1, gamma=0,\n",
              "              learning_rate=0.1, max_delta_step=0, max_depth=3,\n",
              "              min_child_weight=1, missing=None, n_estimators=100, n_jobs=1,\n",
              "              nthread=None, objective='binary:logistic', random_state=0,\n",
              "              reg_alpha=0, reg_lambda=1, scale_pos_weight=1, seed=None,\n",
              "              silent=None, subsample=1, verbosity=1)"
            ]
          },
          "metadata": {
            "tags": []
          },
          "execution_count": 19
        }
      ]
    },
    {
      "cell_type": "code",
      "metadata": {
        "id": "bzZKYsUIQJ3Z",
        "colab_type": "code",
        "colab": {
          "base_uri": "https://localhost:8080/",
          "height": 221
        },
        "outputId": "4b0cb438-95cd-44f8-91ac-899cba04879e"
      },
      "source": [
        "y_pred=classifier_xgb.predict(X_test)\n",
        "print(confusion_matrix(Y_test,y_pred))\n",
        "print(accuracy_score(Y_test,y_pred))\n",
        "print(classification_report(Y_test,y_pred))"
      ],
      "execution_count": null,
      "outputs": [
        {
          "output_type": "stream",
          "text": [
            "[[85271    12]\n",
            " [   46   114]]\n",
            "0.9993211848834895\n",
            "              precision    recall  f1-score   support\n",
            "\n",
            "           0       1.00      1.00      1.00     85283\n",
            "           1       0.90      0.71      0.80       160\n",
            "\n",
            "    accuracy                           1.00     85443\n",
            "   macro avg       0.95      0.86      0.90     85443\n",
            "weighted avg       1.00      1.00      1.00     85443\n",
            "\n"
          ],
          "name": "stdout"
        }
      ]
    },
    {
      "cell_type": "code",
      "metadata": {
        "id": "OhsILUr2oT2U",
        "colab_type": "code",
        "colab": {
          "base_uri": "https://localhost:8080/",
          "height": 142
        },
        "outputId": "150d91f0-452f-442d-c5f1-523b164465b7"
      },
      "source": [
        "pd.crosstab(pd.Series(y_pred, name = 'Predicted'), \n",
        "            pd.Series(Y_test, name = 'Actual'))"
      ],
      "execution_count": null,
      "outputs": [
        {
          "output_type": "execute_result",
          "data": {
            "text/html": [
              "<div>\n",
              "<style scoped>\n",
              "    .dataframe tbody tr th:only-of-type {\n",
              "        vertical-align: middle;\n",
              "    }\n",
              "\n",
              "    .dataframe tbody tr th {\n",
              "        vertical-align: top;\n",
              "    }\n",
              "\n",
              "    .dataframe thead th {\n",
              "        text-align: right;\n",
              "    }\n",
              "</style>\n",
              "<table border=\"1\" class=\"dataframe\">\n",
              "  <thead>\n",
              "    <tr style=\"text-align: right;\">\n",
              "      <th>Actual</th>\n",
              "      <th>0</th>\n",
              "      <th>1</th>\n",
              "    </tr>\n",
              "    <tr>\n",
              "      <th>Predicted</th>\n",
              "      <th></th>\n",
              "      <th></th>\n",
              "    </tr>\n",
              "  </thead>\n",
              "  <tbody>\n",
              "    <tr>\n",
              "      <th>0</th>\n",
              "      <td>25443</td>\n",
              "      <td>51</td>\n",
              "    </tr>\n",
              "    <tr>\n",
              "      <th>1</th>\n",
              "      <td>37</td>\n",
              "      <td>0</td>\n",
              "    </tr>\n",
              "  </tbody>\n",
              "</table>\n",
              "</div>"
            ],
            "text/plain": [
              "Actual         0   1\n",
              "Predicted           \n",
              "0          25443  51\n",
              "1             37   0"
            ]
          },
          "metadata": {
            "tags": []
          },
          "execution_count": 21
        }
      ]
    },
    {
      "cell_type": "code",
      "metadata": {
        "id": "NFnrDH-gU4z8",
        "colab_type": "code",
        "colab": {
          "base_uri": "https://localhost:8080/",
          "height": 102
        },
        "outputId": "d3736ad0-91ad-419a-d782-88293135c094"
      },
      "source": [
        "generate_model_report(Y_test,y_pred)"
      ],
      "execution_count": null,
      "outputs": [
        {
          "output_type": "stream",
          "text": [
            "Accuracy =  0.9993211848834895\n",
            "Precision =  0.9047619047619048\n",
            "Recall =  0.7125\n",
            "F1 Score =  0.7972027972027972\n",
            "Kappa Score =  0.7968676333839392\n"
          ],
          "name": "stdout"
        }
      ]
    },
    {
      "cell_type": "code",
      "metadata": {
        "id": "KhXD3udleKc8",
        "colab_type": "code",
        "colab": {
          "base_uri": "https://localhost:8080/",
          "height": 485
        },
        "outputId": "a8ba354d-23e8-4063-c6f0-fac1c37831ad"
      },
      "source": [
        "generate_auc_roc_curve(classifier_xgb, X_test)"
      ],
      "execution_count": null,
      "outputs": [
        {
          "output_type": "display_data",
          "data": {
            "image/png": "[encoded data removed]",
            "text/plain": [
              "<Figure size 1008x576 with 1 Axes>"
            ]
          },
          "metadata": {
            "tags": []
          }
        }
      ]
    },
    {
      "cell_type": "code",
      "metadata": {
        "id": "JGzfoHArQ6q3",
        "colab_type": "code",
        "colab": {
          "base_uri": "https://localhost:8080/",
          "height": 68
        },
        "outputId": "4d280c65-3da1-4a6a-de89-ccef61c3ac50"
      },
      "source": [
        "from sklearn.neighbors import KNeighborsClassifier\n",
        "clf_knn=KNeighborsClassifier(n_neighbors=13)\n",
        "clf_knn.fit(X_train,Y_train)"
      ],
      "execution_count": null,
      "outputs": [
        {
          "output_type": "execute_result",
          "data": {
            "text/plain": [
              "KNeighborsClassifier(algorithm='auto', leaf_size=30, metric='minkowski',\n",
              "                     metric_params=None, n_jobs=None, n_neighbors=13, p=2,\n",
              "                     weights='uniform')"
            ]
          },
          "metadata": {
            "tags": []
          },
          "execution_count": 42
        }
      ]
    },
    {
      "cell_type": "code",
      "metadata": {
        "id": "JG8uetEyRHFy",
        "colab_type": "code",
        "colab": {
          "base_uri": "https://localhost:8080/",
          "height": 221
        },
        "outputId": "5b2d591d-1cef-4523-b6c8-4ef908807cd8"
      },
      "source": [
        "y_pred=clf_knn.predict(X_test)\n",
        "print(confusion_matrix(Y_test,y_pred))\n",
        "print(accuracy_score(Y_test,y_pred))\n",
        "print(classification_report(Y_test,y_pred))"
      ],
      "execution_count": null,
      "outputs": [
        {
          "output_type": "stream",
          "text": [
            "[[85283     0]\n",
            " [  157     3]]\n",
            "0.9981625177018597\n",
            "              precision    recall  f1-score   support\n",
            "\n",
            "           0       1.00      1.00      1.00     85283\n",
            "           1       1.00      0.02      0.04       160\n",
            "\n",
            "    accuracy                           1.00     85443\n",
            "   macro avg       1.00      0.51      0.52     85443\n",
            "weighted avg       1.00      1.00      1.00     85443\n",
            "\n"
          ],
          "name": "stdout"
        }
      ]
    },
    {
      "cell_type": "code",
      "metadata": {
        "id": "qzDQJogSeeJD",
        "colab_type": "code",
        "colab": {
          "base_uri": "https://localhost:8080/",
          "height": 102
        },
        "outputId": "a7cd3175-9a72-4408-a4bb-44d727b51d8b"
      },
      "source": [
        "generate_model_report(Y_test,y_pred)"
      ],
      "execution_count": null,
      "outputs": [
        {
          "output_type": "stream",
          "text": [
            "Accuracy =  0.9981625177018597\n",
            "Precision =  1.0\n",
            "Recall =  0.01875\n",
            "F1 Score =  0.03680981595092024\n",
            "Kappa Score =  0.036743418848822706\n"
          ],
          "name": "stdout"
        }
      ]
    },
    {
      "cell_type": "code",
      "metadata": {
        "id": "0e5z0IxyRs5x",
        "colab_type": "code",
        "colab": {}
      },
      "source": [
        "from sklearn.svm import SVC\n",
        "##clf_lnr=SVC(kernel='linear')\n",
        "##clf_lnr.fit(X_train,Y_train)\n"
      ],
      "execution_count": null,
      "outputs": []
    },
    {
      "cell_type": "code",
      "metadata": {
        "id": "LzeBTtDDV-qB",
        "colab_type": "code",
        "colab": {}
      },
      "source": [
        "y_pred=clf_lnr.predict(X_test)\n",
        "print(confusion_matrix(Y_test,y_pred))\n",
        "print(accuracy_score(Y_test,y_pred))\n",
        "print(classification_report(Y_test,y_pred))"
      ],
      "execution_count": null,
      "outputs": []
    },
    {
      "cell_type": "code",
      "metadata": {
        "id": "ZK_Tkme2WHnQ",
        "colab_type": "code",
        "colab": {
          "base_uri": "https://localhost:8080/",
          "height": 85
        },
        "outputId": "0b8fa04c-482b-48f7-9676-fa6866f9bbf2"
      },
      "source": [
        "clf_ply=SVC(kernel='poly')\n",
        "clf_ply.fit(X_train,Y_train)\n"
      ],
      "execution_count": null,
      "outputs": [
        {
          "output_type": "execute_result",
          "data": {
            "text/plain": [
              "SVC(C=1.0, break_ties=False, cache_size=200, class_weight=None, coef0=0.0,\n",
              "    decision_function_shape='ovr', degree=3, gamma='scale', kernel='poly',\n",
              "    max_iter=-1, probability=False, random_state=None, shrinking=True,\n",
              "    tol=0.001, verbose=False)"
            ]
          },
          "metadata": {
            "tags": []
          },
          "execution_count": 51
        }
      ]
    },
    {
      "cell_type": "code",
      "metadata": {
        "id": "gXz7WN2_Y3mr",
        "colab_type": "code",
        "colab": {
          "base_uri": "https://localhost:8080/",
          "height": 275
        },
        "outputId": "0a0b9521-b7b7-4d62-bbdd-a48245f4c663"
      },
      "source": [
        "y_pred=clf_ply.predict(X_test)\n",
        "print(confusion_matrix(Y_test,y_pred))\n",
        "print(accuracy_score(Y_test,y_pred))\n",
        "print(classification_report(Y_test,y_pred))"
      ],
      "execution_count": null,
      "outputs": [
        {
          "output_type": "stream",
          "text": [
            "[[85293     0]\n",
            " [  150     0]]\n",
            "0.9982444436641972\n",
            "              precision    recall  f1-score   support\n",
            "\n",
            "           0       1.00      1.00      1.00     85293\n",
            "           1       0.00      0.00      0.00       150\n",
            "\n",
            "    accuracy                           1.00     85443\n",
            "   macro avg       0.50      0.50      0.50     85443\n",
            "weighted avg       1.00      1.00      1.00     85443\n",
            "\n"
          ],
          "name": "stdout"
        },
        {
          "output_type": "stream",
          "text": [
            "/usr/local/lib/python3.6/dist-packages/sklearn/metrics/_classification.py:1272: UndefinedMetricWarning: Precision and F-score are ill-defined and being set to 0.0 in labels with no predicted samples. Use `zero_division` parameter to control this behavior.\n",
            "  _warn_prf(average, modifier, msg_start, len(result))\n"
          ],
          "name": "stderr"
        }
      ]
    },
    {
      "cell_type": "code",
      "metadata": {
        "id": "eEoK2sLxZAby",
        "colab_type": "code",
        "colab": {
          "base_uri": "https://localhost:8080/",
          "height": 85
        },
        "outputId": "13d17d00-d32f-4d79-8682-b5c7fb5ab11f"
      },
      "source": [
        "clf_rbf=SVC(kernel='rbf')\n",
        "clf_rbf.fit(X_train,Y_train)"
      ],
      "execution_count": null,
      "outputs": [
        {
          "output_type": "execute_result",
          "data": {
            "text/plain": [
              "SVC(C=1.0, break_ties=False, cache_size=200, class_weight=None, coef0=0.0,\n",
              "    decision_function_shape='ovr', degree=3, gamma='scale', kernel='rbf',\n",
              "    max_iter=-1, probability=False, random_state=None, shrinking=True,\n",
              "    tol=0.001, verbose=False)"
            ]
          },
          "metadata": {
            "tags": []
          },
          "execution_count": 53
        }
      ]
    },
    {
      "cell_type": "code",
      "metadata": {
        "id": "s7kaqN4MZQmS",
        "colab_type": "code",
        "colab": {
          "base_uri": "https://localhost:8080/",
          "height": 275
        },
        "outputId": "6fbd11a3-ad6d-401f-ca7c-2dabdfdeb1e6"
      },
      "source": [
        "y_pred=clf_rbf.predict(X_test)\n",
        "print(confusion_matrix(Y_test,y_pred))\n",
        "print(accuracy_score(Y_test,y_pred))\n",
        "print(classification_report(Y_test,y_pred))"
      ],
      "execution_count": null,
      "outputs": [
        {
          "output_type": "stream",
          "text": [
            "[[85293     0]\n",
            " [  150     0]]\n",
            "0.9982444436641972\n",
            "              precision    recall  f1-score   support\n",
            "\n",
            "           0       1.00      1.00      1.00     85293\n",
            "           1       0.00      0.00      0.00       150\n",
            "\n",
            "    accuracy                           1.00     85443\n",
            "   macro avg       0.50      0.50      0.50     85443\n",
            "weighted avg       1.00      1.00      1.00     85443\n",
            "\n"
          ],
          "name": "stdout"
        },
        {
          "output_type": "stream",
          "text": [
            "/usr/local/lib/python3.6/dist-packages/sklearn/metrics/_classification.py:1272: UndefinedMetricWarning: Precision and F-score are ill-defined and being set to 0.0 in labels with no predicted samples. Use `zero_division` parameter to control this behavior.\n",
            "  _warn_prf(average, modifier, msg_start, len(result))\n"
          ],
          "name": "stderr"
        }
      ]
    },
    {
      "cell_type": "code",
      "metadata": {
        "id": "O55XzsnIihEJ",
        "colab_type": "code",
        "colab": {
          "base_uri": "https://localhost:8080/",
          "height": 119
        },
        "outputId": "424d92f6-8bf7-4463-fc8b-69f4bb513ba1"
      },
      "source": [
        "from sklearn.tree import DecisionTreeClassifier\n",
        "from sklearn import tree\n",
        "dt=DecisionTreeClassifier(min_samples_leaf=90)\n",
        "dt.fit(X_train,Y_train)\n"
      ],
      "execution_count": null,
      "outputs": [
        {
          "output_type": "execute_result",
          "data": {
            "text/plain": [
              "DecisionTreeClassifier(ccp_alpha=0.0, class_weight=None, criterion='gini',\n",
              "                       max_depth=None, max_features=None, max_leaf_nodes=None,\n",
              "                       min_impurity_decrease=0.0, min_impurity_split=None,\n",
              "                       min_samples_leaf=90, min_samples_split=2,\n",
              "                       min_weight_fraction_leaf=0.0, presort='deprecated',\n",
              "                       random_state=None, splitter='best')"
            ]
          },
          "metadata": {
            "tags": []
          },
          "execution_count": 55
        }
      ]
    },
    {
      "cell_type": "code",
      "metadata": {
        "id": "7ZNU80TCjQeI",
        "colab_type": "code",
        "colab": {
          "base_uri": "https://localhost:8080/",
          "height": 221
        },
        "outputId": "f3503bb2-8204-4a82-c9f1-26e6026110e9"
      },
      "source": [
        "y_pred=dt.predict(X_test)\n",
        "print(confusion_matrix(Y_test,y_pred))\n",
        "print(accuracy_score(Y_test,y_pred))\n",
        "print(classification_report(Y_test,y_pred))"
      ],
      "execution_count": null,
      "outputs": [
        {
          "output_type": "stream",
          "text": [
            "[[85282    11]\n",
            " [   75    75]]\n",
            "0.9989934810341398\n",
            "              precision    recall  f1-score   support\n",
            "\n",
            "           0       1.00      1.00      1.00     85293\n",
            "           1       0.87      0.50      0.64       150\n",
            "\n",
            "    accuracy                           1.00     85443\n",
            "   macro avg       0.94      0.75      0.82     85443\n",
            "weighted avg       1.00      1.00      1.00     85443\n",
            "\n"
          ],
          "name": "stdout"
        }
      ]
    },
    {
      "cell_type": "code",
      "metadata": {
        "id": "kZ5QIlCRpLe-",
        "colab_type": "code",
        "colab": {
          "base_uri": "https://localhost:8080/",
          "height": 68
        },
        "outputId": "59a17736-153e-4829-c8ce-ac06d08cf29d"
      },
      "source": [
        "Y_train.value_counts()"
      ],
      "execution_count": null,
      "outputs": [
        {
          "output_type": "execute_result",
          "data": {
            "text/plain": [
              "0    199022\n",
              "1       342\n",
              "Name: Class, dtype: int64"
            ]
          },
          "metadata": {
            "tags": []
          },
          "execution_count": 57
        }
      ]
    },
    {
      "cell_type": "code",
      "metadata": {
        "id": "VzGIwHZQraOa",
        "colab_type": "code",
        "colab": {
          "base_uri": "https://localhost:8080/",
          "height": 173
        },
        "outputId": "59e2093a-ab76-4db9-cc6d-fca6502b69a0"
      },
      "source": [
        "from collections import Counter\n",
        "from imblearn.under_sampling import NearMiss\n",
        "ns=NearMiss(0.8)\n",
        "X_train_ns,Y_train_ns=ns.fit_sample(X_train,Y_train)\n",
        "print(\"The number of classes before fit {}\".format(Counter(Y_train)))\n",
        "print(\"The number of classes after fit {}\".format(Counter(Y_train_ns)))\n"
      ],
      "execution_count": null,
      "outputs": [
        {
          "output_type": "stream",
          "text": [
            "/usr/local/lib/python3.6/dist-packages/sklearn/utils/deprecation.py:87: FutureWarning: Function safe_indexing is deprecated; safe_indexing is deprecated in version 0.22 and will be removed in version 0.24.\n",
            "  warnings.warn(msg, category=FutureWarning)\n",
            "/usr/local/lib/python3.6/dist-packages/sklearn/utils/deprecation.py:87: FutureWarning: Function safe_indexing is deprecated; safe_indexing is deprecated in version 0.22 and will be removed in version 0.24.\n",
            "  warnings.warn(msg, category=FutureWarning)\n"
          ],
          "name": "stderr"
        },
        {
          "output_type": "stream",
          "text": [
            "The number of classes before fit Counter({0: 199022, 1: 342})\n",
            "The number of classes after fit Counter({0: 427, 1: 342})\n"
          ],
          "name": "stdout"
        },
        {
          "output_type": "stream",
          "text": [
            "/usr/local/lib/python3.6/dist-packages/sklearn/utils/deprecation.py:87: FutureWarning: Function safe_indexing is deprecated; safe_indexing is deprecated in version 0.22 and will be removed in version 0.24.\n",
            "  warnings.warn(msg, category=FutureWarning)\n"
          ],
          "name": "stderr"
        }
      ]
    },
    {
      "cell_type": "code",
      "metadata": {
        "id": "eqHITualmYad",
        "colab_type": "code",
        "colab": {
          "base_uri": "https://localhost:8080/",
          "height": 153
        },
        "outputId": "0c8c2f6c-d8e5-405a-bc32-0f6494e98cf0"
      },
      "source": [
        "classifier=RandomForestClassifier()\n",
        "classifier.fit(X_train_ns,Y_train_ns)"
      ],
      "execution_count": null,
      "outputs": [
        {
          "output_type": "execute_result",
          "data": {
            "text/plain": [
              "RandomForestClassifier(bootstrap=True, ccp_alpha=0.0, class_weight=None,\n",
              "                       criterion='gini', max_depth=None, max_features='auto',\n",
              "                       max_leaf_nodes=None, max_samples=None,\n",
              "                       min_impurity_decrease=0.0, min_impurity_split=None,\n",
              "                       min_samples_leaf=1, min_samples_split=2,\n",
              "                       min_weight_fraction_leaf=0.0, n_estimators=100,\n",
              "                       n_jobs=None, oob_score=False, random_state=None,\n",
              "                       verbose=0, warm_start=False)"
            ]
          },
          "metadata": {
            "tags": []
          },
          "execution_count": 59
        }
      ]
    },
    {
      "cell_type": "code",
      "metadata": {
        "id": "Lk1vSC4amnox",
        "colab_type": "code",
        "colab": {
          "base_uri": "https://localhost:8080/",
          "height": 221
        },
        "outputId": "19155137-a67a-43ed-8802-c8db8d0c0fdf"
      },
      "source": [
        "y_pred=classifier.predict(X_test)\n",
        "print(confusion_matrix(Y_test,y_pred))\n",
        "print(accuracy_score(Y_test,y_pred))\n",
        "print(classification_report(Y_test,y_pred))"
      ],
      "execution_count": null,
      "outputs": [
        {
          "output_type": "stream",
          "text": [
            "[[60714 24579]\n",
            " [   10   140]]\n",
            "0.712217501726297\n",
            "              precision    recall  f1-score   support\n",
            "\n",
            "           0       1.00      0.71      0.83     85293\n",
            "           1       0.01      0.93      0.01       150\n",
            "\n",
            "    accuracy                           0.71     85443\n",
            "   macro avg       0.50      0.82      0.42     85443\n",
            "weighted avg       1.00      0.71      0.83     85443\n",
            "\n"
          ],
          "name": "stdout"
        }
      ]
    },
    {
      "cell_type": "code",
      "metadata": {
        "id": "IYkNX_CIpiYI",
        "colab_type": "code",
        "colab": {
          "base_uri": "https://localhost:8080/",
          "height": 105
        },
        "outputId": "e87b79cc-305e-4a00-c964-686c0849c0e7"
      },
      "source": [
        "from collections import Counter\n",
        "from imblearn.over_sampling import RandomOverSampler\n",
        "os=RandomOverSampler(0.75)\n",
        "X_train_ns,Y_train_ns=os.fit_sample(X_train,Y_train)\n",
        "print(\"The number of classes before fit {}\".format(Counter(Y_train)))\n",
        "print(\"The number of classes after fit {}\".format(Counter(Y_train_ns)))"
      ],
      "execution_count": null,
      "outputs": [
        {
          "output_type": "stream",
          "text": [
            "The number of classes before fit Counter({0: 199022, 1: 342})\n",
            "The number of classes after fit Counter({0: 199022, 1: 149266})\n"
          ],
          "name": "stdout"
        },
        {
          "output_type": "stream",
          "text": [
            "/usr/local/lib/python3.6/dist-packages/sklearn/utils/deprecation.py:87: FutureWarning: Function safe_indexing is deprecated; safe_indexing is deprecated in version 0.22 and will be removed in version 0.24.\n",
            "  warnings.warn(msg, category=FutureWarning)\n"
          ],
          "name": "stderr"
        }
      ]
    },
    {
      "cell_type": "code",
      "metadata": {
        "id": "iByKJblAqELF",
        "colab_type": "code",
        "colab": {
          "base_uri": "https://localhost:8080/",
          "height": 153
        },
        "outputId": "75974822-2455-466d-da8a-126f5260760d"
      },
      "source": [
        "classifier=RandomForestClassifier()\n",
        "classifier.fit(X_train_ns,Y_train_ns)"
      ],
      "execution_count": null,
      "outputs": [
        {
          "output_type": "execute_result",
          "data": {
            "text/plain": [
              "RandomForestClassifier(bootstrap=True, ccp_alpha=0.0, class_weight=None,\n",
              "                       criterion='gini', max_depth=None, max_features='auto',\n",
              "                       max_leaf_nodes=None, max_samples=None,\n",
              "                       min_impurity_decrease=0.0, min_impurity_split=None,\n",
              "                       min_samples_leaf=1, min_samples_split=2,\n",
              "                       min_weight_fraction_leaf=0.0, n_estimators=100,\n",
              "                       n_jobs=None, oob_score=False, random_state=None,\n",
              "                       verbose=0, warm_start=False)"
            ]
          },
          "metadata": {
            "tags": []
          },
          "execution_count": 71
        }
      ]
    },
    {
      "cell_type": "code",
      "metadata": {
        "id": "WOhmzo6KWyTg",
        "colab_type": "code",
        "colab": {
          "base_uri": "https://localhost:8080/",
          "height": 221
        },
        "outputId": "f20bf318-5c93-4fb3-a6fe-669afd8724ff"
      },
      "source": [
        "y_pred=classifier.predict(X_test)\n",
        "print(confusion_matrix(Y_test,y_pred))\n",
        "print(accuracy_score(Y_test,y_pred))\n",
        "print(classification_report(Y_test,y_pred))"
      ],
      "execution_count": null,
      "outputs": [
        {
          "output_type": "stream",
          "text": [
            "[[85286     7]\n",
            " [   35   115]]\n",
            "0.9995084442259752\n",
            "              precision    recall  f1-score   support\n",
            "\n",
            "           0       1.00      1.00      1.00     85293\n",
            "           1       0.94      0.77      0.85       150\n",
            "\n",
            "    accuracy                           1.00     85443\n",
            "   macro avg       0.97      0.88      0.92     85443\n",
            "weighted avg       1.00      1.00      1.00     85443\n",
            "\n"
          ],
          "name": "stdout"
        }
      ]
    },
    {
      "cell_type": "code",
      "metadata": {
        "id": "OGHDIr3rbuMe",
        "colab_type": "code",
        "colab": {
          "base_uri": "https://localhost:8080/",
          "height": 139
        },
        "outputId": "2d690f91-2c65-41c0-b676-87ffdf39cae2"
      },
      "source": [
        "from imblearn.combine import SMOTETomek\n",
        "os=SMOTETomek(0.5)\n",
        "X_train_ns,Y_train_ns=os.fit_sample(X_train,Y_train)\n",
        "print(\"The number of classes before fit {}\".format(Counter(Y_train)))\n",
        "print(\"The number of classes after fit {}\".format(Counter(Y_train_ns)))"
      ],
      "execution_count": null,
      "outputs": [
        {
          "output_type": "stream",
          "text": [
            "/usr/local/lib/python3.6/dist-packages/sklearn/utils/deprecation.py:87: FutureWarning: Function safe_indexing is deprecated; safe_indexing is deprecated in version 0.22 and will be removed in version 0.24.\n",
            "  warnings.warn(msg, category=FutureWarning)\n"
          ],
          "name": "stderr"
        },
        {
          "output_type": "stream",
          "text": [
            "The number of classes before fit Counter({0: 199022, 1: 342})\n",
            "The number of classes after fit Counter({0: 198280, 1: 98769})\n"
          ],
          "name": "stdout"
        },
        {
          "output_type": "stream",
          "text": [
            "/usr/local/lib/python3.6/dist-packages/sklearn/utils/deprecation.py:87: FutureWarning: Function safe_indexing is deprecated; safe_indexing is deprecated in version 0.22 and will be removed in version 0.24.\n",
            "  warnings.warn(msg, category=FutureWarning)\n"
          ],
          "name": "stderr"
        }
      ]
    },
    {
      "cell_type": "code",
      "metadata": {
        "id": "-cly0qKJdIHp",
        "colab_type": "code",
        "colab": {
          "base_uri": "https://localhost:8080/",
          "height": 153
        },
        "outputId": "c9941ee5-b3f2-4a98-99c6-76056548d779"
      },
      "source": [
        "classifier=RandomForestClassifier()\n",
        "classifier.fit(X_train_ns,Y_train_ns)"
      ],
      "execution_count": null,
      "outputs": [
        {
          "output_type": "execute_result",
          "data": {
            "text/plain": [
              "RandomForestClassifier(bootstrap=True, ccp_alpha=0.0, class_weight=None,\n",
              "                       criterion='gini', max_depth=None, max_features='auto',\n",
              "                       max_leaf_nodes=None, max_samples=None,\n",
              "                       min_impurity_decrease=0.0, min_impurity_split=None,\n",
              "                       min_samples_leaf=1, min_samples_split=2,\n",
              "                       min_weight_fraction_leaf=0.0, n_estimators=100,\n",
              "                       n_jobs=None, oob_score=False, random_state=None,\n",
              "                       verbose=0, warm_start=False)"
            ]
          },
          "metadata": {
            "tags": []
          },
          "execution_count": 74
        }
      ]
    },
    {
      "cell_type": "code",
      "metadata": {
        "id": "n9DjlC0-eCmt",
        "colab_type": "code",
        "colab": {
          "base_uri": "https://localhost:8080/",
          "height": 221
        },
        "outputId": "b04c96f4-c46a-4d58-f784-96f6ab829ad4"
      },
      "source": [
        "y_pred=classifier.predict(X_test)\n",
        "print(confusion_matrix(Y_test,y_pred))\n",
        "print(accuracy_score(Y_test,y_pred))\n",
        "print(classification_report(Y_test,y_pred))"
      ],
      "execution_count": null,
      "outputs": [
        {
          "output_type": "stream",
          "text": [
            "[[85279    14]\n",
            " [   31   119]]\n",
            "0.9994733330992591\n",
            "              precision    recall  f1-score   support\n",
            "\n",
            "           0       1.00      1.00      1.00     85293\n",
            "           1       0.89      0.79      0.84       150\n",
            "\n",
            "    accuracy                           1.00     85443\n",
            "   macro avg       0.95      0.90      0.92     85443\n",
            "weighted avg       1.00      1.00      1.00     85443\n",
            "\n"
          ],
          "name": "stdout"
        }
      ]
    },
    {
      "cell_type": "code",
      "metadata": {
        "id": "Wd7LVlkVfmfN",
        "colab_type": "code",
        "colab": {
          "base_uri": "https://localhost:8080/",
          "height": 428
        },
        "outputId": "e680a83c-15a6-4f8d-ede3-157dd0d30c72"
      },
      "source": [
        "from imblearn.ensemble import EasyEnsembleClassifier\n",
        "easy=EasyEnsembleClassifier()\n",
        "easy.fit(X_train,Y_train)"
      ],
      "execution_count": null,
      "outputs": [
        {
          "output_type": "stream",
          "text": [
            "/usr/local/lib/python3.6/dist-packages/sklearn/utils/deprecation.py:87: FutureWarning: Function safe_indexing is deprecated; safe_indexing is deprecated in version 0.22 and will be removed in version 0.24.\n",
            "  warnings.warn(msg, category=FutureWarning)\n",
            "/usr/local/lib/python3.6/dist-packages/sklearn/utils/deprecation.py:87: FutureWarning: Function safe_indexing is deprecated; safe_indexing is deprecated in version 0.22 and will be removed in version 0.24.\n",
            "  warnings.warn(msg, category=FutureWarning)\n",
            "/usr/local/lib/python3.6/dist-packages/sklearn/utils/deprecation.py:87: FutureWarning: Function safe_indexing is deprecated; safe_indexing is deprecated in version 0.22 and will be removed in version 0.24.\n",
            "  warnings.warn(msg, category=FutureWarning)\n",
            "/usr/local/lib/python3.6/dist-packages/sklearn/utils/deprecation.py:87: FutureWarning: Function safe_indexing is deprecated; safe_indexing is deprecated in version 0.22 and will be removed in version 0.24.\n",
            "  warnings.warn(msg, category=FutureWarning)\n",
            "/usr/local/lib/python3.6/dist-packages/sklearn/utils/deprecation.py:87: FutureWarning: Function safe_indexing is deprecated; safe_indexing is deprecated in version 0.22 and will be removed in version 0.24.\n",
            "  warnings.warn(msg, category=FutureWarning)\n",
            "/usr/local/lib/python3.6/dist-packages/sklearn/utils/deprecation.py:87: FutureWarning: Function safe_indexing is deprecated; safe_indexing is deprecated in version 0.22 and will be removed in version 0.24.\n",
            "  warnings.warn(msg, category=FutureWarning)\n",
            "/usr/local/lib/python3.6/dist-packages/sklearn/utils/deprecation.py:87: FutureWarning: Function safe_indexing is deprecated; safe_indexing is deprecated in version 0.22 and will be removed in version 0.24.\n",
            "  warnings.warn(msg, category=FutureWarning)\n",
            "/usr/local/lib/python3.6/dist-packages/sklearn/utils/deprecation.py:87: FutureWarning: Function safe_indexing is deprecated; safe_indexing is deprecated in version 0.22 and will be removed in version 0.24.\n",
            "  warnings.warn(msg, category=FutureWarning)\n",
            "/usr/local/lib/python3.6/dist-packages/sklearn/utils/deprecation.py:87: FutureWarning: Function safe_indexing is deprecated; safe_indexing is deprecated in version 0.22 and will be removed in version 0.24.\n",
            "  warnings.warn(msg, category=FutureWarning)\n",
            "/usr/local/lib/python3.6/dist-packages/sklearn/utils/deprecation.py:87: FutureWarning: Function safe_indexing is deprecated; safe_indexing is deprecated in version 0.22 and will be removed in version 0.24.\n",
            "  warnings.warn(msg, category=FutureWarning)\n"
          ],
          "name": "stderr"
        },
        {
          "output_type": "execute_result",
          "data": {
            "text/plain": [
              "EasyEnsembleClassifier(base_estimator=None, n_estimators=10, n_jobs=1,\n",
              "                       random_state=None, replacement=False,\n",
              "                       sampling_strategy='auto', verbose=0, warm_start=False)"
            ]
          },
          "metadata": {
            "tags": []
          },
          "execution_count": 76
        }
      ]
    },
    {
      "cell_type": "code",
      "metadata": {
        "id": "pOparM19gzAK",
        "colab_type": "code",
        "colab": {
          "base_uri": "https://localhost:8080/",
          "height": 221
        },
        "outputId": "3ea4d0f6-134b-4f69-ea96-18105351e30f"
      },
      "source": [
        "y_pred=easy.predict(X_test)\n",
        "print(confusion_matrix(Y_test,y_pred))\n",
        "print(accuracy_score(Y_test,y_pred))\n",
        "print(classification_report(Y_test,y_pred))"
      ],
      "execution_count": null,
      "outputs": [
        {
          "output_type": "stream",
          "text": [
            "[[82593  2700]\n",
            " [   14   136]]\n",
            "0.9682361340308744\n",
            "              precision    recall  f1-score   support\n",
            "\n",
            "           0       1.00      0.97      0.98     85293\n",
            "           1       0.05      0.91      0.09       150\n",
            "\n",
            "    accuracy                           0.97     85443\n",
            "   macro avg       0.52      0.94      0.54     85443\n",
            "weighted avg       1.00      0.97      0.98     85443\n",
            "\n"
          ],
          "name": "stdout"
        }
      ]
    },
    {
      "cell_type": "code",
      "metadata": {
        "id": "TmmTnnzSYB8t",
        "colab_type": "code",
        "colab": {
          "base_uri": "https://localhost:8080/",
          "height": 1000
        },
        "outputId": "be45f1fe-1750-4b84-b9e3-d61271411eef"
      },
      "source": [
        "pip install pycaret"
      ],
      "execution_count": null,
      "outputs": [
        {
          "output_type": "stream",
          "text": [
            "Collecting pycaret\n",
            "\u001b[?25l  Downloading https://files.pythonhosted.org/packages/91/ae/000d825af8f7d9ff86808600f220e7ad57a873987fd6119c87dc4c5b1d91/pycaret-2.0-py3-none-any.whl (255kB)\n",
            "\u001b[K     |████████████████████████████████| 256kB 4.5MB/s \n",
            "\u001b[?25hCollecting scikit-learn>=0.23\n",
            "\u001b[?25l  Downloading https://files.pythonhosted.org/packages/5c/a1/273def87037a7fb010512bbc5901c31cfddfca8080bc63b42b26e3cc55b3/scikit_learn-0.23.2-cp36-cp36m-manylinux1_x86_64.whl (6.8MB)\n",
            "\u001b[K     |████████████████████████████████| 6.8MB 10.9MB/s \n",
            "\u001b[?25hRequirement already satisfied: IPython in /usr/local/lib/python3.6/dist-packages (from pycaret) (5.5.0)\n",
            "Requirement already satisfied: numpy>=1.17 in /usr/local/lib/python3.6/dist-packages (from pycaret) (1.18.5)\n",
            "Collecting mlflow\n",
            "\u001b[?25l  Downloading https://files.pythonhosted.org/packages/00/2f/2529268d85af0a1521b0b7c137b63b731dff4784e1322fb3055403a959fb/mlflow-1.10.0-py3-none-any.whl (12.4MB)\n",
            "\u001b[K     |████████████████████████████████| 12.4MB 225kB/s \n",
            "\u001b[?25hCollecting kmodes>=0.10.1\n",
            "  Downloading https://files.pythonhosted.org/packages/b2/55/d8ec1ae1f7e1e202a8a4184c6852a3ee993b202b0459672c699d0ac18fc8/kmodes-0.10.2-py2.py3-none-any.whl\n",
            "Requirement already satisfied: mlxtend in /usr/local/lib/python3.6/dist-packages (from pycaret) (0.14.0)\n",
            "Requirement already satisfied: pandas in /usr/local/lib/python3.6/dist-packages (from pycaret) (1.0.5)\n",
            "Requirement already satisfied: wordcloud in /usr/local/lib/python3.6/dist-packages (from pycaret) (1.5.0)\n",
            "Requirement already satisfied: ipywidgets in /usr/local/lib/python3.6/dist-packages (from pycaret) (7.5.1)\n",
            "Requirement already satisfied: matplotlib in /usr/local/lib/python3.6/dist-packages (from pycaret) (3.2.2)\n",
            "Requirement already satisfied: cufflinks>=0.17.0 in /usr/local/lib/python3.6/dist-packages (from pycaret) (0.17.3)\n",
            "Collecting pandas-profiling>=2.3.0\n",
            "\u001b[?25l  Downloading https://files.pythonhosted.org/packages/b9/94/ef8ef4517540d13406fcc0b8adfd75336e014242c69bd4162ab46931f36a/pandas_profiling-2.8.0-py2.py3-none-any.whl (259kB)\n",
            "\u001b[K     |████████████████████████████████| 266kB 20.2MB/s \n",
            "\u001b[?25hRequirement already satisfied: plotly>=4.4.1 in /usr/local/lib/python3.6/dist-packages (from pycaret) (4.4.1)\n",
            "Requirement already satisfied: spacy in /usr/local/lib/python3.6/dist-packages (from pycaret) (2.2.4)\n",
            "Requirement already satisfied: joblib in /usr/local/lib/python3.6/dist-packages (from pycaret) (0.16.0)\n",
            "Requirement already satisfied: xgboost>=0.90 in /usr/local/lib/python3.6/dist-packages (from pycaret) (0.90)\n",
            "Collecting lightgbm>=2.3.1\n",
            "\u001b[?25l  Downloading https://files.pythonhosted.org/packages/0b/9d/ddcb2f43aca194987f1a99e27edf41cf9bc39ea750c3371c2a62698c509a/lightgbm-2.3.1-py2.py3-none-manylinux1_x86_64.whl (1.2MB)\n",
            "\u001b[K     |████████████████████████████████| 1.2MB 29.0MB/s \n",
            "\u001b[?25hCollecting DateTime>=4.3\n",
            "\u001b[?25l  Downloading https://files.pythonhosted.org/packages/73/22/a5297f3a1f92468cc737f8ce7ba6e5f245fcfafeae810ba37bd1039ea01c/DateTime-4.3-py2.py3-none-any.whl (60kB)\n",
            "\u001b[K     |████████████████████████████████| 61kB 8.7MB/s \n",
            "\u001b[?25hCollecting catboost\n",
            "\u001b[?25l  Downloading https://files.pythonhosted.org/packages/96/6c/6608210b29649267de52001b09e369777ee2a5cfe1c71fa75eba82a4f2dc/catboost-0.24-cp36-none-manylinux1_x86_64.whl (65.9MB)\n",
            "\u001b[K     |████████████████████████████████| 65.9MB 42kB/s \n",
            "\u001b[?25hCollecting pyLDAvis\n",
            "\u001b[?25l  Downloading https://files.pythonhosted.org/packages/a5/3a/af82e070a8a96e13217c8f362f9a73e82d61ac8fff3a2561946a97f96266/pyLDAvis-2.1.2.tar.gz (1.6MB)\n",
            "\u001b[K     |████████████████████████████████| 1.6MB 42.9MB/s \n",
            "\u001b[?25hRequirement already satisfied: seaborn in /usr/local/lib/python3.6/dist-packages (from pycaret) (0.10.1)\n",
            "Requirement already satisfied: gensim in /usr/local/lib/python3.6/dist-packages (from pycaret) (3.6.0)\n",
            "Requirement already satisfied: umap-learn in /usr/local/lib/python3.6/dist-packages (from pycaret) (0.4.6)\n",
            "Requirement already satisfied: nltk in /usr/local/lib/python3.6/dist-packages (from pycaret) (3.2.5)\n",
            "Requirement already satisfied: textblob in /usr/local/lib/python3.6/dist-packages (from pycaret) (0.15.3)\n",
            "Collecting yellowbrick>=1.0.1\n",
            "\u001b[?25l  Downloading https://files.pythonhosted.org/packages/13/95/a14e4fdfb8b1c8753bbe74a626e910a98219ef9c87c6763585bbd30d84cf/yellowbrick-1.1-py3-none-any.whl (263kB)\n",
            "\u001b[K     |████████████████████████████████| 266kB 58.1MB/s \n",
            "\u001b[?25hCollecting datefinder>=0.7.0\n",
            "  Downloading https://files.pythonhosted.org/packages/0c/4f/29524c9ca35d2ba1a8a3c6c895b90fc92525cf0fe357f747133890953ebe/datefinder-0.7.1-py2.py3-none-any.whl\n",
            "Collecting pyod\n",
            "\u001b[?25l  Downloading https://files.pythonhosted.org/packages/77/4e/5767edaccbfc227914ca774cb6ca9b628a08cbb59b9b4839296953a63d34/pyod-0.8.1.tar.gz (93kB)\n",
            "\u001b[K     |████████████████████████████████| 102kB 14.6MB/s \n",
            "\u001b[?25hRequirement already satisfied: imbalanced-learn in /usr/local/lib/python3.6/dist-packages (from pycaret) (0.4.3)\n",
            "Requirement already satisfied: scipy>=0.19.1 in /usr/local/lib/python3.6/dist-packages (from scikit-learn>=0.23->pycaret) (1.4.1)\n",
            "Collecting threadpoolctl>=2.0.0\n",
            "  Downloading https://files.pythonhosted.org/packages/f7/12/ec3f2e203afa394a149911729357aa48affc59c20e2c1c8297a60f33f133/threadpoolctl-2.1.0-py3-none-any.whl\n",
            "Requirement already satisfied: traitlets>=4.2 in /usr/local/lib/python3.6/dist-packages (from IPython->pycaret) (4.3.3)\n",
            "Requirement already satisfied: pygments in /usr/local/lib/python3.6/dist-packages (from IPython->pycaret) (2.1.3)\n",
            "Requirement already satisfied: setuptools>=18.5 in /usr/local/lib/python3.6/dist-packages (from IPython->pycaret) (49.2.0)\n",
            "Requirement already satisfied: pexpect; sys_platform != \"win32\" in /usr/local/lib/python3.6/dist-packages (from IPython->pycaret) (4.8.0)\n",
            "Requirement already satisfied: pickleshare in /usr/local/lib/python3.6/dist-packages (from IPython->pycaret) (0.7.5)\n",
            "Requirement already satisfied: simplegeneric>0.8 in /usr/local/lib/python3.6/dist-packages (from IPython->pycaret) (0.8.1)\n",
            "Requirement already satisfied: decorator in /usr/local/lib/python3.6/dist-packages (from IPython->pycaret) (4.4.2)\n",
            "Requirement already satisfied: prompt-toolkit<2.0.0,>=1.0.4 in /usr/local/lib/python3.6/dist-packages (from IPython->pycaret) (1.0.18)\n",
            "Requirement already satisfied: cloudpickle in /usr/local/lib/python3.6/dist-packages (from mlflow->pycaret) (1.3.0)\n",
            "Collecting azure-storage-blob>=12.0\n",
            "\u001b[?25l  Downloading https://files.pythonhosted.org/packages/60/dc/3c25aeab827266c019e13abc07f31b5f47d93f1b8548a417c81c89c9d021/azure_storage_blob-12.4.0-py2.py3-none-any.whl (326kB)\n",
            "\u001b[K     |████████████████████████████████| 327kB 54.4MB/s \n",
            "\u001b[?25hRequirement already satisfied: Flask in /usr/local/lib/python3.6/dist-packages (from mlflow->pycaret) (1.1.2)\n",
            "Collecting docker>=4.0.0\n",
            "\u001b[?25l  Downloading https://files.pythonhosted.org/packages/65/10/d18c41f2bd846c89c9030424a58be3d9752fac27780f8608284fa893feb4/docker-4.3.0-py2.py3-none-any.whl (145kB)\n",
            "\u001b[K     |████████████████████████████████| 153kB 40.9MB/s \n",
            "\u001b[?25hRequirement already satisfied: python-dateutil in /usr/local/lib/python3.6/dist-packages (from mlflow->pycaret) (2.8.1)\n",
            "Collecting querystring-parser\n",
            "  Downloading https://files.pythonhosted.org/packages/4a/fa/f54f5662e0eababf0c49e92fd94bf178888562c0e7b677c8941bbbcd1bd6/querystring_parser-1.2.4.tar.gz\n",
            "Collecting prometheus-flask-exporter\n",
            "  Downloading https://files.pythonhosted.org/packages/84/b0/7549899a75e7ef0be5f8969094d0709e5dcc51dc21d58cc86b8d69441dce/prometheus_flask_exporter-0.15.4.tar.gz\n",
            "Collecting sqlalchemy<=1.3.13\n",
            "\u001b[?25l  Downloading https://files.pythonhosted.org/packages/af/47/35edeb0f86c0b44934c05d961c893e223ef27e79e1f53b5e6f14820ff553/SQLAlchemy-1.3.13.tar.gz (6.0MB)\n",
            "\u001b[K     |████████████████████████████████| 6.0MB 55.8MB/s \n",
            "\u001b[?25hRequirement already satisfied: protobuf>=3.6.0 in /usr/local/lib/python3.6/dist-packages (from mlflow->pycaret) (3.12.4)\n",
            "Collecting databricks-cli>=0.8.7\n",
            "\u001b[?25l  Downloading https://files.pythonhosted.org/packages/1e/57/5c2d6b83cb8753d12f548e89f91037632baa8289677c1b2ab2adf14bf6b2/databricks-cli-0.11.0.tar.gz (49kB)\n",
            "\u001b[K     |████████████████████████████████| 51kB 8.2MB/s \n",
            "\u001b[?25hRequirement already satisfied: entrypoints in /usr/local/lib/python3.6/dist-packages (from mlflow->pycaret) (0.3)\n",
            "Collecting gunicorn; platform_system != \"Windows\"\n",
            "\u001b[?25l  Downloading https://files.pythonhosted.org/packages/69/ca/926f7cd3a2014b16870086b2d0fdc84a9e49473c68a8dff8b57f7c156f43/gunicorn-20.0.4-py2.py3-none-any.whl (77kB)\n",
            "\u001b[K     |████████████████████████████████| 81kB 11.5MB/s \n",
            "\u001b[?25hCollecting alembic\n",
            "\u001b[?25l  Downloading https://files.pythonhosted.org/packages/60/1e/cabc75a189de0fbb2841d0975243e59bde8b7822bacbb95008ac6fe9ad47/alembic-1.4.2.tar.gz (1.1MB)\n",
            "\u001b[K     |████████████████████████████████| 1.1MB 56.2MB/s \n",
            "\u001b[?25h  Installing build dependencies ... \u001b[?25l\u001b[?25hdone\n",
            "  Getting requirements to build wheel ... \u001b[?25l\u001b[?25hdone\n",
            "    Preparing wheel metadata ... \u001b[?25l\u001b[?25hdone\n",
            "Collecting gitpython>=2.1.0\n",
            "\u001b[?25l  Downloading https://files.pythonhosted.org/packages/f9/1e/a45320cab182bf1c8656107b3d4c042e659742822fc6bff150d769a984dd/GitPython-3.1.7-py3-none-any.whl (158kB)\n",
            "\u001b[K     |████████████████████████████████| 163kB 49.6MB/s \n",
            "\u001b[?25hRequirement already satisfied: requests>=2.17.3 in /usr/local/lib/python3.6/dist-packages (from mlflow->pycaret) (2.23.0)\n",
            "Requirement already satisfied: six>=1.10.0 in /usr/local/lib/python3.6/dist-packages (from mlflow->pycaret) (1.15.0)\n",
            "Requirement already satisfied: click>=7.0 in /usr/local/lib/python3.6/dist-packages (from mlflow->pycaret) (7.1.2)\n",
            "Collecting gorilla\n",
            "  Downloading https://files.pythonhosted.org/packages/e3/56/5a683944cbfc77e429c6f03c636ca50504a785f60ffae91ddd7f5f7bb520/gorilla-0.3.0-py2.py3-none-any.whl\n",
            "Requirement already satisfied: sqlparse in /usr/local/lib/python3.6/dist-packages (from mlflow->pycaret) (0.3.1)\n",
            "Requirement already satisfied: pyyaml in /usr/local/lib/python3.6/dist-packages (from mlflow->pycaret) (3.13)\n",
            "Requirement already satisfied: pytz>=2017.2 in /usr/local/lib/python3.6/dist-packages (from pandas->pycaret) (2018.9)\n",
            "Requirement already satisfied: pillow in /usr/local/lib/python3.6/dist-packages (from wordcloud->pycaret) (7.0.0)\n",
            "Requirement already satisfied: widgetsnbextension~=3.5.0 in /usr/local/lib/python3.6/dist-packages (from ipywidgets->pycaret) (3.5.1)\n",
            "Requirement already satisfied: nbformat>=4.2.0 in /usr/local/lib/python3.6/dist-packages (from ipywidgets->pycaret) (5.0.7)\n",
            "Requirement already satisfied: ipykernel>=4.5.1 in /usr/local/lib/python3.6/dist-packages (from ipywidgets->pycaret) (4.10.1)\n",
            "Requirement already satisfied: kiwisolver>=1.0.1 in /usr/local/lib/python3.6/dist-packages (from matplotlib->pycaret) (1.2.0)\n",
            "Requirement already satisfied: pyparsing!=2.0.4,!=2.1.2,!=2.1.6,>=2.0.1 in /usr/local/lib/python3.6/dist-packages (from matplotlib->pycaret) (2.4.7)\n",
            "Requirement already satisfied: cycler>=0.10 in /usr/local/lib/python3.6/dist-packages (from matplotlib->pycaret) (0.10.0)\n",
            "Requirement already satisfied: colorlover>=0.2.1 in /usr/local/lib/python3.6/dist-packages (from cufflinks>=0.17.0->pycaret) (0.3.0)\n",
            "Collecting tangled-up-in-unicode>=0.0.6\n",
            "\u001b[?25l  Downloading https://files.pythonhosted.org/packages/4a/e2/e588ab9298d4989ce7fdb2b97d18aac878d99dbdc379a4476a09d9271b68/tangled_up_in_unicode-0.0.6-py3-none-any.whl (3.1MB)\n",
            "\u001b[K     |████████████████████████████████| 3.1MB 56.4MB/s \n",
            "\u001b[?25hCollecting phik>=0.9.10\n",
            "\u001b[?25l  Downloading https://files.pythonhosted.org/packages/01/5a/7ef1c04ce62cd72f900c06298dc2385840550d5c653a0dbc19109a5477e6/phik-0.10.0-py3-none-any.whl (599kB)\n",
            "\u001b[K     |████████████████████████████████| 604kB 29.3MB/s \n",
            "\u001b[?25hCollecting confuse>=1.0.0\n",
            "\u001b[?25l  Downloading https://files.pythonhosted.org/packages/b5/6d/bedc0d1068bd244cee05843313cbec6cebb9f01f925538269bababc6d887/confuse-1.3.0-py2.py3-none-any.whl (64kB)\n",
            "\u001b[K     |████████████████████████████████| 71kB 10.7MB/s \n",
            "\u001b[?25hRequirement already satisfied: jinja2>=2.11.1 in /usr/local/lib/python3.6/dist-packages (from pandas-profiling>=2.3.0->pycaret) (2.11.2)\n",
            "Collecting tqdm>=4.43.0\n",
            "\u001b[?25l  Downloading https://files.pythonhosted.org/packages/28/7e/281edb5bc3274dfb894d90f4dbacfceaca381c2435ec6187a2c6f329aed7/tqdm-4.48.2-py2.py3-none-any.whl (68kB)\n",
            "\u001b[K     |████████████████████████████████| 71kB 11.8MB/s \n",
            "\u001b[?25hCollecting visions[type_image_path]==0.4.4\n",
            "\u001b[?25l  Downloading https://files.pythonhosted.org/packages/4a/03/5a45d542257830cf1d9da2cdc1c0bc6f55a9212937b70fdd6d7031b46d6c/visions-0.4.4-py3-none-any.whl (59kB)\n",
            "\u001b[K     |████████████████████████████████| 61kB 9.9MB/s \n",
            "\u001b[?25hCollecting htmlmin>=0.1.12\n",
            "  Downloading https://files.pythonhosted.org/packages/b3/e7/fcd59e12169de19f0131ff2812077f964c6b960e7c09804d30a7bf2ab461/htmlmin-0.1.12.tar.gz\n",
            "Requirement already satisfied: missingno>=0.4.2 in /usr/local/lib/python3.6/dist-packages (from pandas-profiling>=2.3.0->pycaret) (0.4.2)\n",
            "Requirement already satisfied: astropy>=4.0 in /usr/local/lib/python3.6/dist-packages (from pandas-profiling>=2.3.0->pycaret) (4.0.1.post1)\n",
            "Requirement already satisfied: retrying>=1.3.3 in /usr/local/lib/python3.6/dist-packages (from plotly>=4.4.1->pycaret) (1.3.3)\n",
            "Requirement already satisfied: wasabi<1.1.0,>=0.4.0 in /usr/local/lib/python3.6/dist-packages (from spacy->pycaret) (0.7.1)\n",
            "Requirement already satisfied: thinc==7.4.0 in /usr/local/lib/python3.6/dist-packages (from spacy->pycaret) (7.4.0)\n",
            "Requirement already satisfied: murmurhash<1.1.0,>=0.28.0 in /usr/local/lib/python3.6/dist-packages (from spacy->pycaret) (1.0.2)\n",
            "Requirement already satisfied: catalogue<1.1.0,>=0.0.7 in /usr/local/lib/python3.6/dist-packages (from spacy->pycaret) (1.0.0)\n",
            "Requirement already satisfied: plac<1.2.0,>=0.9.6 in /usr/local/lib/python3.6/dist-packages (from spacy->pycaret) (1.1.3)\n",
            "Requirement already satisfied: blis<0.5.0,>=0.4.0 in /usr/local/lib/python3.6/dist-packages (from spacy->pycaret) (0.4.1)\n",
            "Requirement already satisfied: preshed<3.1.0,>=3.0.2 in /usr/local/lib/python3.6/dist-packages (from spacy->pycaret) (3.0.2)\n",
            "Requirement already satisfied: cymem<2.1.0,>=2.0.2 in /usr/local/lib/python3.6/dist-packages (from spacy->pycaret) (2.0.3)\n",
            "Requirement already satisfied: srsly<1.1.0,>=1.0.2 in /usr/local/lib/python3.6/dist-packages (from spacy->pycaret) (1.0.2)\n",
            "Collecting zope.interface\n",
            "\u001b[?25l  Downloading https://files.pythonhosted.org/packages/57/33/565274c28a11af60b7cfc0519d46bde4125fcd7d32ebc0a81b480d0e8da6/zope.interface-5.1.0-cp36-cp36m-manylinux2010_x86_64.whl (234kB)\n",
            "\u001b[K     |████████████████████████████████| 235kB 58.2MB/s \n",
            "\u001b[?25hRequirement already satisfied: graphviz in /usr/local/lib/python3.6/dist-packages (from catboost->pycaret) (0.10.1)\n",
            "Requirement already satisfied: wheel>=0.23.0 in /usr/local/lib/python3.6/dist-packages (from pyLDAvis->pycaret) (0.34.2)\n",
            "Requirement already satisfied: numexpr in /usr/local/lib/python3.6/dist-packages (from pyLDAvis->pycaret) (2.7.1)\n",
            "Requirement already satisfied: pytest in /usr/local/lib/python3.6/dist-packages (from pyLDAvis->pycaret) (3.6.4)\n",
            "Requirement already satisfied: future in /usr/local/lib/python3.6/dist-packages (from pyLDAvis->pycaret) (0.16.0)\n",
            "Collecting funcy\n",
            "\u001b[?25l  Downloading https://files.pythonhosted.org/packages/ce/4b/6ffa76544e46614123de31574ad95758c421aae391a1764921b8a81e1eae/funcy-1.14.tar.gz (548kB)\n",
            "\u001b[K     |████████████████████████████████| 552kB 43.2MB/s \n",
            "\u001b[?25hRequirement already satisfied: smart-open>=1.2.1 in /usr/local/lib/python3.6/dist-packages (from gensim->pycaret) (2.1.0)\n",
            "Requirement already satisfied: numba!=0.47,>=0.46 in /usr/local/lib/python3.6/dist-packages (from umap-learn->pycaret) (0.48.0)\n",
            "Requirement already satisfied: regex>=2017.02.08 in /usr/local/lib/python3.6/dist-packages (from datefinder>=0.7.0->pycaret) (2019.12.20)\n",
            "Collecting combo\n",
            "  Downloading https://files.pythonhosted.org/packages/0a/2a/61b6ac584e75d8df16dc27962aa5fe99d76b09da5b6710e83d4862c84001/combo-0.1.1.tar.gz\n",
            "Collecting suod\n",
            "\u001b[?25l  Downloading https://files.pythonhosted.org/packages/a1/87/9170cabe1b5e10a7d095c0e28f2e30e7c1886a13f063de85d3cfacc06f4b/suod-0.0.4.tar.gz (2.1MB)\n",
            "\u001b[K     |████████████████████████████████| 2.1MB 56.7MB/s \n",
            "\u001b[?25hRequirement already satisfied: ipython-genutils in /usr/local/lib/python3.6/dist-packages (from traitlets>=4.2->IPython->pycaret) (0.2.0)\n",
            "Requirement already satisfied: ptyprocess>=0.5 in /usr/local/lib/python3.6/dist-packages (from pexpect; sys_platform != \"win32\"->IPython->pycaret) (0.6.0)\n",
            "Requirement already satisfied: wcwidth in /usr/local/lib/python3.6/dist-packages (from prompt-toolkit<2.0.0,>=1.0.4->IPython->pycaret) (0.2.5)\n",
            "Collecting azure-core<2.0.0,>=1.6.0\n",
            "\u001b[?25l  Downloading https://files.pythonhosted.org/packages/5b/e3/acb0c45c0b7afa33eca9fadb47f32cbfb95161e3719fcbe953d689b881bc/azure_core-1.8.0-py2.py3-none-any.whl (121kB)\n",
            "\u001b[K     |████████████████████████████████| 122kB 48.9MB/s \n",
            "\u001b[?25hCollecting msrest>=0.6.10\n",
            "\u001b[?25l  Downloading https://files.pythonhosted.org/packages/d9/ed/8e1b75721ad983c1672cd968ad3ae374d2e94767edff6f0b72a15dfde933/msrest-0.6.18-py2.py3-none-any.whl (84kB)\n",
            "\u001b[K     |████████████████████████████████| 92kB 14.5MB/s \n",
            "\u001b[?25hCollecting cryptography>=2.1.4\n",
            "\u001b[?25l  Downloading https://files.pythonhosted.org/packages/ba/91/84a29d6a27fd6dfc21f475704c4d2053d58ed7a4033c2b0ce1b4ca4d03d9/cryptography-3.0-cp35-abi3-manylinux2010_x86_64.whl (2.7MB)\n",
            "\u001b[K     |████████████████████████████████| 2.7MB 58.5MB/s \n",
            "\u001b[?25hRequirement already satisfied: itsdangerous>=0.24 in /usr/local/lib/python3.6/dist-packages (from Flask->mlflow->pycaret) (1.1.0)\n",
            "Requirement already satisfied: Werkzeug>=0.15 in /usr/local/lib/python3.6/dist-packages (from Flask->mlflow->pycaret) (1.0.1)\n",
            "Collecting websocket-client>=0.32.0\n",
            "\u001b[?25l  Downloading https://files.pythonhosted.org/packages/4c/5f/f61b420143ed1c8dc69f9eaec5ff1ac36109d52c80de49d66e0c36c3dfdf/websocket_client-0.57.0-py2.py3-none-any.whl (200kB)\n",
            "\u001b[K     |████████████████████████████████| 204kB 59.0MB/s \n",
            "\u001b[?25hRequirement already satisfied: prometheus_client in /usr/local/lib/python3.6/dist-packages (from prometheus-flask-exporter->mlflow->pycaret) (0.8.0)\n",
            "Requirement already satisfied: tabulate>=0.7.7 in /usr/local/lib/python3.6/dist-packages (from databricks-cli>=0.8.7->mlflow->pycaret) (0.8.7)\n",
            "Collecting python-editor>=0.3\n",
            "  Downloading https://files.pythonhosted.org/packages/c6/d3/201fc3abe391bbae6606e6f1d598c15d367033332bd54352b12f35513717/python_editor-1.0.4-py3-none-any.whl\n",
            "Collecting Mako\n",
            "\u001b[?25l  Downloading https://files.pythonhosted.org/packages/a6/37/0e706200d22172eb8fa17d68a7ae22dec7631a0a92266634fb518a88a5b2/Mako-1.1.3-py2.py3-none-any.whl (75kB)\n",
            "\u001b[K     |████████████████████████████████| 81kB 12.3MB/s \n",
            "\u001b[?25hCollecting gitdb<5,>=4.0.1\n",
            "\u001b[?25l  Downloading https://files.pythonhosted.org/packages/48/11/d1800bca0a3bae820b84b7d813ad1eff15a48a64caea9c823fc8c1b119e8/gitdb-4.0.5-py3-none-any.whl (63kB)\n",
            "\u001b[K     |████████████████████████████████| 71kB 11.0MB/s \n",
            "\u001b[?25hRequirement already satisfied: chardet<4,>=3.0.2 in /usr/local/lib/python3.6/dist-packages (from requests>=2.17.3->mlflow->pycaret) (3.0.4)\n",
            "Requirement already satisfied: urllib3!=1.25.0,!=1.25.1,<1.26,>=1.21.1 in /usr/local/lib/python3.6/dist-packages (from requests>=2.17.3->mlflow->pycaret) (1.24.3)\n",
            "Requirement already satisfied: certifi>=2017.4.17 in /usr/local/lib/python3.6/dist-packages (from requests>=2.17.3->mlflow->pycaret) (2020.6.20)\n",
            "Requirement already satisfied: idna<3,>=2.5 in /usr/local/lib/python3.6/dist-packages (from requests>=2.17.3->mlflow->pycaret) (2.10)\n",
            "Requirement already satisfied: notebook>=4.4.1 in /usr/local/lib/python3.6/dist-packages (from widgetsnbextension~=3.5.0->ipywidgets->pycaret) (5.3.1)\n",
            "Requirement already satisfied: jsonschema!=2.5.0,>=2.4 in /usr/local/lib/python3.6/dist-packages (from nbformat>=4.2.0->ipywidgets->pycaret) (2.6.0)\n",
            "Requirement already satisfied: jupyter-core in /usr/local/lib/python3.6/dist-packages (from nbformat>=4.2.0->ipywidgets->pycaret) (4.6.3)\n",
            "Requirement already satisfied: jupyter-client in /usr/local/lib/python3.6/dist-packages (from ipykernel>=4.5.1->ipywidgets->pycaret) (5.3.5)\n",
            "Requirement already satisfied: tornado>=4.0 in /usr/local/lib/python3.6/dist-packages (from ipykernel>=4.5.1->ipywidgets->pycaret) (5.1.1)\n",
            "Requirement already satisfied: MarkupSafe>=0.23 in /usr/local/lib/python3.6/dist-packages (from jinja2>=2.11.1->pandas-profiling>=2.3.0->pycaret) (1.1.1)\n",
            "Requirement already satisfied: networkx>=2.4 in /usr/local/lib/python3.6/dist-packages (from visions[type_image_path]==0.4.4->pandas-profiling>=2.3.0->pycaret) (2.4)\n",
            "Requirement already satisfied: attrs>=19.3.0 in /usr/local/lib/python3.6/dist-packages (from visions[type_image_path]==0.4.4->pandas-profiling>=2.3.0->pycaret) (19.3.0)\n",
            "Collecting imagehash; extra == \"type_image_path\"\n",
            "\u001b[?25l  Downloading https://files.pythonhosted.org/packages/1a/5d/cc81830be3c4705a46cdbca74439b67f1017881383ba0127c41c4cecb7b3/ImageHash-4.1.0.tar.gz (291kB)\n",
            "\u001b[K     |████████████████████████████████| 296kB 50.8MB/s \n",
            "\u001b[?25hRequirement already satisfied: importlib-metadata>=0.20; python_version < \"3.8\" in /usr/local/lib/python3.6/dist-packages (from catalogue<1.1.0,>=0.0.7->spacy->pycaret) (1.7.0)\n",
            "Requirement already satisfied: py>=1.5.0 in /usr/local/lib/python3.6/dist-packages (from pytest->pyLDAvis->pycaret) (1.9.0)\n",
            "Requirement already satisfied: atomicwrites>=1.0 in /usr/local/lib/python3.6/dist-packages (from pytest->pyLDAvis->pycaret) (1.4.0)\n",
            "Requirement already satisfied: more-itertools>=4.0.0 in /usr/local/lib/python3.6/dist-packages (from pytest->pyLDAvis->pycaret) (8.4.0)\n",
            "Requirement already satisfied: pluggy<0.8,>=0.5 in /usr/local/lib/python3.6/dist-packages (from pytest->pyLDAvis->pycaret) (0.7.1)\n",
            "Requirement already satisfied: boto3 in /usr/local/lib/python3.6/dist-packages (from smart-open>=1.2.1->gensim->pycaret) (1.14.37)\n",
            "Requirement already satisfied: boto in /usr/local/lib/python3.6/dist-packages (from smart-open>=1.2.1->gensim->pycaret) (2.49.0)\n",
            "Requirement already satisfied: llvmlite<0.32.0,>=0.31.0dev0 in /usr/local/lib/python3.6/dist-packages (from numba!=0.47,>=0.46->umap-learn->pycaret) (0.31.0)\n",
            "Requirement already satisfied: requests-oauthlib>=0.5.0 in /usr/local/lib/python3.6/dist-packages (from msrest>=0.6.10->azure-storage-blob>=12.0->mlflow->pycaret) (1.3.0)\n",
            "Collecting isodate>=0.6.0\n",
            "\u001b[?25l  Downloading https://files.pythonhosted.org/packages/9b/9f/b36f7774ff5ea8e428fdcfc4bb332c39ee5b9362ddd3d40d9516a55221b2/isodate-0.6.0-py2.py3-none-any.whl (45kB)\n",
            "\u001b[K     |████████████████████████████████| 51kB 8.4MB/s \n",
            "\u001b[?25hRequirement already satisfied: cffi!=1.11.3,>=1.8 in /usr/local/lib/python3.6/dist-packages (from cryptography>=2.1.4->azure-storage-blob>=12.0->mlflow->pycaret) (1.14.1)\n",
            "Collecting smmap<4,>=3.0.1\n",
            "  Downloading https://files.pythonhosted.org/packages/b0/9a/4d409a6234eb940e6a78dfdfc66156e7522262f5f2fecca07dc55915952d/smmap-3.0.4-py2.py3-none-any.whl\n",
            "Requirement already satisfied: terminado>=0.8.1 in /usr/local/lib/python3.6/dist-packages (from notebook>=4.4.1->widgetsnbextension~=3.5.0->ipywidgets->pycaret) (0.8.3)\n",
            "Requirement already satisfied: nbconvert in /usr/local/lib/python3.6/dist-packages (from notebook>=4.4.1->widgetsnbextension~=3.5.0->ipywidgets->pycaret) (5.6.1)\n",
            "Requirement already satisfied: Send2Trash in /usr/local/lib/python3.6/dist-packages (from notebook>=4.4.1->widgetsnbextension~=3.5.0->ipywidgets->pycaret) (1.5.0)\n",
            "Requirement already satisfied: pyzmq>=13 in /usr/local/lib/python3.6/dist-packages (from jupyter-client->ipykernel>=4.5.1->ipywidgets->pycaret) (19.0.2)\n",
            "Requirement already satisfied: PyWavelets in /usr/local/lib/python3.6/dist-packages (from imagehash; extra == \"type_image_path\"->visions[type_image_path]==0.4.4->pandas-profiling>=2.3.0->pycaret) (1.1.1)\n",
            "Requirement already satisfied: zipp>=0.5 in /usr/local/lib/python3.6/dist-packages (from importlib-metadata>=0.20; python_version < \"3.8\"->catalogue<1.1.0,>=0.0.7->spacy->pycaret) (3.1.0)\n",
            "Requirement already satisfied: s3transfer<0.4.0,>=0.3.0 in /usr/local/lib/python3.6/dist-packages (from boto3->smart-open>=1.2.1->gensim->pycaret) (0.3.3)\n",
            "Requirement already satisfied: jmespath<1.0.0,>=0.7.1 in /usr/local/lib/python3.6/dist-packages (from boto3->smart-open>=1.2.1->gensim->pycaret) (0.10.0)\n",
            "Requirement already satisfied: botocore<1.18.0,>=1.17.37 in /usr/local/lib/python3.6/dist-packages (from boto3->smart-open>=1.2.1->gensim->pycaret) (1.17.37)\n",
            "Requirement already satisfied: oauthlib>=3.0.0 in /usr/local/lib/python3.6/dist-packages (from requests-oauthlib>=0.5.0->msrest>=0.6.10->azure-storage-blob>=12.0->mlflow->pycaret) (3.1.0)\n",
            "Requirement already satisfied: pycparser in /usr/local/lib/python3.6/dist-packages (from cffi!=1.11.3,>=1.8->cryptography>=2.1.4->azure-storage-blob>=12.0->mlflow->pycaret) (2.20)\n",
            "Requirement already satisfied: bleach in /usr/local/lib/python3.6/dist-packages (from nbconvert->notebook>=4.4.1->widgetsnbextension~=3.5.0->ipywidgets->pycaret) (3.1.5)\n",
            "Requirement already satisfied: defusedxml in /usr/local/lib/python3.6/dist-packages (from nbconvert->notebook>=4.4.1->widgetsnbextension~=3.5.0->ipywidgets->pycaret) (0.6.0)\n",
            "Requirement already satisfied: pandocfilters>=1.4.1 in /usr/local/lib/python3.6/dist-packages (from nbconvert->notebook>=4.4.1->widgetsnbextension~=3.5.0->ipywidgets->pycaret) (1.4.2)\n",
            "Requirement already satisfied: testpath in /usr/local/lib/python3.6/dist-packages (from nbconvert->notebook>=4.4.1->widgetsnbextension~=3.5.0->ipywidgets->pycaret) (0.4.4)\n",
            "Requirement already satisfied: mistune<2,>=0.8.1 in /usr/local/lib/python3.6/dist-packages (from nbconvert->notebook>=4.4.1->widgetsnbextension~=3.5.0->ipywidgets->pycaret) (0.8.4)\n",
            "Requirement already satisfied: docutils<0.16,>=0.10 in /usr/local/lib/python3.6/dist-packages (from botocore<1.18.0,>=1.17.37->boto3->smart-open>=1.2.1->gensim->pycaret) (0.15.2)\n",
            "Requirement already satisfied: packaging in /usr/local/lib/python3.6/dist-packages (from bleach->nbconvert->notebook>=4.4.1->widgetsnbextension~=3.5.0->ipywidgets->pycaret) (20.4)\n",
            "Requirement already satisfied: webencodings in /usr/local/lib/python3.6/dist-packages (from bleach->nbconvert->notebook>=4.4.1->widgetsnbextension~=3.5.0->ipywidgets->pycaret) (0.5.1)\n",
            "Building wheels for collected packages: alembic\n",
            "  Building wheel for alembic (PEP 517) ... \u001b[?25l\u001b[?25hdone\n",
            "  Created wheel for alembic: filename=alembic-1.4.2-cp36-none-any.whl size=159543 sha256=ce1eb4b4c243042f4c028a555970eafdee88186a3c92ebe937ba00d4145b0a59\n",
            "  Stored in directory: /root/.cache/pip/wheels/1f/04/83/76023f7a4c14688c0b5c2682a96392cfdd3ee4449eaaa287ef\n",
            "Successfully built alembic\n",
            "Building wheels for collected packages: pyLDAvis, pyod, querystring-parser, prometheus-flask-exporter, sqlalchemy, databricks-cli, htmlmin, funcy, combo, suod, imagehash\n",
            "  Building wheel for pyLDAvis (setup.py) ... \u001b[?25l\u001b[?25hdone\n",
            "  Created wheel for pyLDAvis: filename=pyLDAvis-2.1.2-py2.py3-none-any.whl size=97711 sha256=0aa2a34dc155a84960fb94ee9ffd86167ab13fdcee05bff4d2cfc84a0a46fa9f\n",
            "  Stored in directory: /root/.cache/pip/wheels/98/71/24/513a99e58bb6b8465bae4d2d5e9dba8f0bef8179e3051ac414\n",
            "  Building wheel for pyod (setup.py) ... \u001b[?25l\u001b[?25hdone\n",
            "  Created wheel for pyod: filename=pyod-0.8.1-cp36-none-any.whl size=105653 sha256=7f96330fec595a08ea3c42abf63d7659105c0652b5608d4dc191980a04070a5d\n",
            "  Stored in directory: /root/.cache/pip/wheels/2e/ca/18/727e9d98a41f5f4385a97d5b429f3a9c8fbee13f9780c18642\n",
            "  Building wheel for querystring-parser (setup.py) ... \u001b[?25l\u001b[?25hdone\n",
            "  Created wheel for querystring-parser: filename=querystring_parser-1.2.4-cp36-none-any.whl size=7079 sha256=73b43fa9db66bbf6316f29289cfcfe00da45b36042debb7b33167e38b147f917\n",
            "  Stored in directory: /root/.cache/pip/wheels/1e/41/34/23ebf5d1089a9aed847951e0ee375426eb4ad0a7079d88d41e\n",
            "  Building wheel for prometheus-flask-exporter (setup.py) ... \u001b[?25l\u001b[?25hdone\n",
            "  Created wheel for prometheus-flask-exporter: filename=prometheus_flask_exporter-0.15.4-cp36-none-any.whl size=16454 sha256=ecb46fd4f5966227dd9f5123f7e5d20cd82cf65e4781f6146bf1511f3e4b9236\n",
            "  Stored in directory: /root/.cache/pip/wheels/4f/b4/70/b18fa12c1c0a30fd542767dbbcdac225c6aae012fa1b3124e4\n",
            "  Building wheel for sqlalchemy (setup.py) ... \u001b[?25l\u001b[?25hdone\n",
            "  Created wheel for sqlalchemy: filename=SQLAlchemy-1.3.13-cp36-cp36m-linux_x86_64.whl size=1217125 sha256=b5d240b4c9bc24580171de880c41813d40b42497d28a456cde899fd7d6bce924\n",
            "  Stored in directory: /root/.cache/pip/wheels/b3/35/98/4c9cb3fd63d21d5606b972dd70643769745adf60e622467b71\n",
            "  Building wheel for databricks-cli (setup.py) ... \u001b[?25l\u001b[?25hdone\n",
            "  Created wheel for databricks-cli: filename=databricks_cli-0.11.0-cp36-none-any.whl size=90300 sha256=07d1ceeae2f75f7c5aacbce3fda5b505bad9704498b391e7350da172ca6d01c1\n",
            "  Stored in directory: /root/.cache/pip/wheels/63/d0/4f/3deeca1f4c47a6aca7c2c6a6e2bf272391565dc86a7718a59b\n",
            "  Building wheel for htmlmin (setup.py) ... \u001b[?25l\u001b[?25hdone\n",
            "  Created wheel for htmlmin: filename=htmlmin-0.1.12-cp36-none-any.whl size=27084 sha256=b60ae682e66182fa861d267931b4f9445cec205e3b0d2f58908ef8108237838b\n",
            "  Stored in directory: /root/.cache/pip/wheels/43/07/ac/7c5a9d708d65247ac1f94066cf1db075540b85716c30255459\n",
            "  Building wheel for funcy (setup.py) ... \u001b[?25l\u001b[?25hdone\n",
            "  Created wheel for funcy: filename=funcy-1.14-py2.py3-none-any.whl size=32042 sha256=78a352f1e92fa5fb7040ccfc9ee6ba3855db0306125bf0cd2dd69759f750188e\n",
            "  Stored in directory: /root/.cache/pip/wheels/20/5a/d8/1d875df03deae6f178dfdf70238cca33f948ef8a6f5209f2eb\n",
            "  Building wheel for combo (setup.py) ... \u001b[?25l\u001b[?25hdone\n",
            "  Created wheel for combo: filename=combo-0.1.1-cp36-none-any.whl size=42111 sha256=976e305ea3568694e3beadf7eaecb2fd555c56556e319d633bd1f51e5d335edd\n",
            "  Stored in directory: /root/.cache/pip/wheels/55/ec/e5/a2331372c676c467e70c6646e646edf6997d5c4905b8c0f5e6\n",
            "  Building wheel for suod (setup.py) ... \u001b[?25l\u001b[?25hdone\n",
            "  Created wheel for suod: filename=suod-0.0.4-cp36-none-any.whl size=2167157 sha256=248dcb6c368d05218b00342da29d6efeac93335eb6d9b04251928399ac693ee6\n",
            "  Stored in directory: /root/.cache/pip/wheels/57/55/e5/a4fca65bba231f6d0115059b589148774b41faea25b3f2aa27\n",
            "  Building wheel for imagehash (setup.py) ... \u001b[?25l\u001b[?25hdone\n",
            "  Created wheel for imagehash: filename=ImageHash-4.1.0-py2.py3-none-any.whl size=291990 sha256=450e1778fcb35fda754552f814c2e2e067a4aa00979224fc2991e1459c01d40c\n",
            "  Stored in directory: /root/.cache/pip/wheels/07/1c/dc/6831446f09feb8cc199ec73a0f2f0703253f6ae013a22f4be9\n",
            "Successfully built pyLDAvis pyod querystring-parser prometheus-flask-exporter sqlalchemy databricks-cli htmlmin funcy combo suod imagehash\n",
            "Installing collected packages: threadpoolctl, scikit-learn, azure-core, isodate, msrest, cryptography, azure-storage-blob, websocket-client, docker, querystring-parser, prometheus-flask-exporter, sqlalchemy, databricks-cli, gunicorn, python-editor, Mako, alembic, smmap, gitdb, gitpython, gorilla, mlflow, kmodes, tangled-up-in-unicode, phik, confuse, tqdm, imagehash, visions, htmlmin, pandas-profiling, lightgbm, zope.interface, DateTime, catboost, funcy, pyLDAvis, yellowbrick, datefinder, combo, suod, pyod, pycaret\n",
            "  Found existing installation: scikit-learn 0.22.2.post1\n",
            "    Uninstalling scikit-learn-0.22.2.post1:\n",
            "      Successfully uninstalled scikit-learn-0.22.2.post1\n",
            "  Found existing installation: SQLAlchemy 1.3.18\n",
            "    Uninstalling SQLAlchemy-1.3.18:\n",
            "      Successfully uninstalled SQLAlchemy-1.3.18\n",
            "  Found existing installation: tqdm 4.41.1\n",
            "    Uninstalling tqdm-4.41.1:\n",
            "      Successfully uninstalled tqdm-4.41.1\n",
            "  Found existing installation: pandas-profiling 1.4.1\n",
            "    Uninstalling pandas-profiling-1.4.1:\n",
            "      Successfully uninstalled pandas-profiling-1.4.1\n",
            "  Found existing installation: lightgbm 2.2.3\n",
            "    Uninstalling lightgbm-2.2.3:\n",
            "      Successfully uninstalled lightgbm-2.2.3\n",
            "  Found existing installation: yellowbrick 0.9.1\n",
            "    Uninstalling yellowbrick-0.9.1:\n",
            "      Successfully uninstalled yellowbrick-0.9.1\n",
            "Successfully installed DateTime-4.3 Mako-1.1.3 alembic-1.4.2 azure-core-1.8.0 azure-storage-blob-12.4.0 catboost-0.24 combo-0.1.1 confuse-1.3.0 cryptography-3.0 databricks-cli-0.11.0 datefinder-0.7.1 docker-4.3.0 funcy-1.14 gitdb-4.0.5 gitpython-3.1.7 gorilla-0.3.0 gunicorn-20.0.4 htmlmin-0.1.12 imagehash-4.1.0 isodate-0.6.0 kmodes-0.10.2 lightgbm-2.3.1 mlflow-1.10.0 msrest-0.6.18 pandas-profiling-2.8.0 phik-0.10.0 prometheus-flask-exporter-0.15.4 pyLDAvis-2.1.2 pycaret-2.0 pyod-0.8.1 python-editor-1.0.4 querystring-parser-1.2.4 scikit-learn-0.23.2 smmap-3.0.4 sqlalchemy-1.3.13 suod-0.0.4 tangled-up-in-unicode-0.0.6 threadpoolctl-2.1.0 tqdm-4.48.2 visions-0.4.4 websocket-client-0.57.0 yellowbrick-1.1 zope.interface-5.1.0\n"
          ],
          "name": "stdout"
        },
        {
          "output_type": "display_data",
          "data": {
            "application/vnd.colab-display-data+json": {
              "pip_warning": {
                "packages": [
                  "sklearn"
                ]
              }
            }
          },
          "metadata": {
            "tags": []
          }
        }
      ]
    },
    {
      "cell_type": "code",
      "metadata": {
        "id": "x-g75a7NwW8F",
        "colab_type": "code",
        "colab": {
          "base_uri": "https://localhost:8080/",
          "height": 981,
          "referenced_widgets": [
            "9de6e9c3def24822ab1d4ddff1617b48",
            "8ad72adb3eab4ecea4b874f7030877d1",
            "9b64135756434f66bbc05685c035d3e2",
            "e3462b403aa84537b766114ad0888269",
            "cd77328e0a114f06850c6610637bc146",
            "afacbea6d7e240949ba6b2030ef81f81"
          ]
        },
        "outputId": "c86361f7-6db7-4da6-f336-5ad04fd2a10e"
      },
      "source": [
        "from pycaret.classification import *\n",
        "clf1=setup(data=data ,target='Class')"
      ],
      "execution_count": null,
      "outputs": [
        {
          "output_type": "stream",
          "text": [
            "Setup Succesfully Completed!\n"
          ],
          "name": "stdout"
        },
        {
          "output_type": "display_data",
          "data": {
            "text/html": [
              "<style  type=\"text/css\" >\n",
              "</style><table id=\"T_98110ea4_e36a_11ea_bd17_0242ac1c0002\" ><thead>    <tr>        <th class=\"blank level0\" ></th>        <th class=\"col_heading level0 col0\" >Description</th>        <th class=\"col_heading level0 col1\" >Value</th>    </tr></thead><tbody>\n",
              "                <tr>\n",
              "                        <th id=\"T_98110ea4_e36a_11ea_bd17_0242ac1c0002level0_row0\" class=\"row_heading level0 row0\" >0</th>\n",
              "                        <td id=\"T_98110ea4_e36a_11ea_bd17_0242ac1c0002row0_col0\" class=\"data row0 col0\" >session_id</td>\n",
              "                        <td id=\"T_98110ea4_e36a_11ea_bd17_0242ac1c0002row0_col1\" class=\"data row0 col1\" >309</td>\n",
              "            </tr>\n",
              "            <tr>\n",
              "                        <th id=\"T_98110ea4_e36a_11ea_bd17_0242ac1c0002level0_row1\" class=\"row_heading level0 row1\" >1</th>\n",
              "                        <td id=\"T_98110ea4_e36a_11ea_bd17_0242ac1c0002row1_col0\" class=\"data row1 col0\" >Target Type</td>\n",
              "                        <td id=\"T_98110ea4_e36a_11ea_bd17_0242ac1c0002row1_col1\" class=\"data row1 col1\" >Binary</td>\n",
              "            </tr>\n",
              "            <tr>\n",
              "                        <th id=\"T_98110ea4_e36a_11ea_bd17_0242ac1c0002level0_row2\" class=\"row_heading level0 row2\" >2</th>\n",
              "                        <td id=\"T_98110ea4_e36a_11ea_bd17_0242ac1c0002row2_col0\" class=\"data row2 col0\" >Label Encoded</td>\n",
              "                        <td id=\"T_98110ea4_e36a_11ea_bd17_0242ac1c0002row2_col1\" class=\"data row2 col1\" >None</td>\n",
              "            </tr>\n",
              "            <tr>\n",
              "                        <th id=\"T_98110ea4_e36a_11ea_bd17_0242ac1c0002level0_row3\" class=\"row_heading level0 row3\" >3</th>\n",
              "                        <td id=\"T_98110ea4_e36a_11ea_bd17_0242ac1c0002row3_col0\" class=\"data row3 col0\" >Original Data</td>\n",
              "                        <td id=\"T_98110ea4_e36a_11ea_bd17_0242ac1c0002row3_col1\" class=\"data row3 col1\" >(284807, 31)</td>\n",
              "            </tr>\n",
              "            <tr>\n",
              "                        <th id=\"T_98110ea4_e36a_11ea_bd17_0242ac1c0002level0_row4\" class=\"row_heading level0 row4\" >4</th>\n",
              "                        <td id=\"T_98110ea4_e36a_11ea_bd17_0242ac1c0002row4_col0\" class=\"data row4 col0\" >Missing Values </td>\n",
              "                        <td id=\"T_98110ea4_e36a_11ea_bd17_0242ac1c0002row4_col1\" class=\"data row4 col1\" >False</td>\n",
              "            </tr>\n",
              "            <tr>\n",
              "                        <th id=\"T_98110ea4_e36a_11ea_bd17_0242ac1c0002level0_row5\" class=\"row_heading level0 row5\" >5</th>\n",
              "                        <td id=\"T_98110ea4_e36a_11ea_bd17_0242ac1c0002row5_col0\" class=\"data row5 col0\" >Numeric Features </td>\n",
              "                        <td id=\"T_98110ea4_e36a_11ea_bd17_0242ac1c0002row5_col1\" class=\"data row5 col1\" >30</td>\n",
              "            </tr>\n",
              "            <tr>\n",
              "                        <th id=\"T_98110ea4_e36a_11ea_bd17_0242ac1c0002level0_row6\" class=\"row_heading level0 row6\" >6</th>\n",
              "                        <td id=\"T_98110ea4_e36a_11ea_bd17_0242ac1c0002row6_col0\" class=\"data row6 col0\" >Categorical Features </td>\n",
              "                        <td id=\"T_98110ea4_e36a_11ea_bd17_0242ac1c0002row6_col1\" class=\"data row6 col1\" >0</td>\n",
              "            </tr>\n",
              "            <tr>\n",
              "                        <th id=\"T_98110ea4_e36a_11ea_bd17_0242ac1c0002level0_row7\" class=\"row_heading level0 row7\" >7</th>\n",
              "                        <td id=\"T_98110ea4_e36a_11ea_bd17_0242ac1c0002row7_col0\" class=\"data row7 col0\" >Ordinal Features </td>\n",
              "                        <td id=\"T_98110ea4_e36a_11ea_bd17_0242ac1c0002row7_col1\" class=\"data row7 col1\" >False</td>\n",
              "            </tr>\n",
              "            <tr>\n",
              "                        <th id=\"T_98110ea4_e36a_11ea_bd17_0242ac1c0002level0_row8\" class=\"row_heading level0 row8\" >8</th>\n",
              "                        <td id=\"T_98110ea4_e36a_11ea_bd17_0242ac1c0002row8_col0\" class=\"data row8 col0\" >High Cardinality Features </td>\n",
              "                        <td id=\"T_98110ea4_e36a_11ea_bd17_0242ac1c0002row8_col1\" class=\"data row8 col1\" >False</td>\n",
              "            </tr>\n",
              "            <tr>\n",
              "                        <th id=\"T_98110ea4_e36a_11ea_bd17_0242ac1c0002level0_row9\" class=\"row_heading level0 row9\" >9</th>\n",
              "                        <td id=\"T_98110ea4_e36a_11ea_bd17_0242ac1c0002row9_col0\" class=\"data row9 col0\" >High Cardinality Method </td>\n",
              "                        <td id=\"T_98110ea4_e36a_11ea_bd17_0242ac1c0002row9_col1\" class=\"data row9 col1\" >None</td>\n",
              "            </tr>\n",
              "            <tr>\n",
              "                        <th id=\"T_98110ea4_e36a_11ea_bd17_0242ac1c0002level0_row10\" class=\"row_heading level0 row10\" >10</th>\n",
              "                        <td id=\"T_98110ea4_e36a_11ea_bd17_0242ac1c0002row10_col0\" class=\"data row10 col0\" >Sampled Data</td>\n",
              "                        <td id=\"T_98110ea4_e36a_11ea_bd17_0242ac1c0002row10_col1\" class=\"data row10 col1\" >(284807, 31)</td>\n",
              "            </tr>\n",
              "            <tr>\n",
              "                        <th id=\"T_98110ea4_e36a_11ea_bd17_0242ac1c0002level0_row11\" class=\"row_heading level0 row11\" >11</th>\n",
              "                        <td id=\"T_98110ea4_e36a_11ea_bd17_0242ac1c0002row11_col0\" class=\"data row11 col0\" >Transformed Train Set</td>\n",
              "                        <td id=\"T_98110ea4_e36a_11ea_bd17_0242ac1c0002row11_col1\" class=\"data row11 col1\" >(199364, 30)</td>\n",
              "            </tr>\n",
              "            <tr>\n",
              "                        <th id=\"T_98110ea4_e36a_11ea_bd17_0242ac1c0002level0_row12\" class=\"row_heading level0 row12\" >12</th>\n",
              "                        <td id=\"T_98110ea4_e36a_11ea_bd17_0242ac1c0002row12_col0\" class=\"data row12 col0\" >Transformed Test Set</td>\n",
              "                        <td id=\"T_98110ea4_e36a_11ea_bd17_0242ac1c0002row12_col1\" class=\"data row12 col1\" >(85443, 30)</td>\n",
              "            </tr>\n",
              "            <tr>\n",
              "                        <th id=\"T_98110ea4_e36a_11ea_bd17_0242ac1c0002level0_row13\" class=\"row_heading level0 row13\" >13</th>\n",
              "                        <td id=\"T_98110ea4_e36a_11ea_bd17_0242ac1c0002row13_col0\" class=\"data row13 col0\" >Numeric Imputer </td>\n",
              "                        <td id=\"T_98110ea4_e36a_11ea_bd17_0242ac1c0002row13_col1\" class=\"data row13 col1\" >mean</td>\n",
              "            </tr>\n",
              "            <tr>\n",
              "                        <th id=\"T_98110ea4_e36a_11ea_bd17_0242ac1c0002level0_row14\" class=\"row_heading level0 row14\" >14</th>\n",
              "                        <td id=\"T_98110ea4_e36a_11ea_bd17_0242ac1c0002row14_col0\" class=\"data row14 col0\" >Categorical Imputer </td>\n",
              "                        <td id=\"T_98110ea4_e36a_11ea_bd17_0242ac1c0002row14_col1\" class=\"data row14 col1\" >constant</td>\n",
              "            </tr>\n",
              "            <tr>\n",
              "                        <th id=\"T_98110ea4_e36a_11ea_bd17_0242ac1c0002level0_row15\" class=\"row_heading level0 row15\" >15</th>\n",
              "                        <td id=\"T_98110ea4_e36a_11ea_bd17_0242ac1c0002row15_col0\" class=\"data row15 col0\" >Normalize </td>\n",
              "                        <td id=\"T_98110ea4_e36a_11ea_bd17_0242ac1c0002row15_col1\" class=\"data row15 col1\" >False</td>\n",
              "            </tr>\n",
              "            <tr>\n",
              "                        <th id=\"T_98110ea4_e36a_11ea_bd17_0242ac1c0002level0_row16\" class=\"row_heading level0 row16\" >16</th>\n",
              "                        <td id=\"T_98110ea4_e36a_11ea_bd17_0242ac1c0002row16_col0\" class=\"data row16 col0\" >Normalize Method </td>\n",
              "                        <td id=\"T_98110ea4_e36a_11ea_bd17_0242ac1c0002row16_col1\" class=\"data row16 col1\" >None</td>\n",
              "            </tr>\n",
              "            <tr>\n",
              "                        <th id=\"T_98110ea4_e36a_11ea_bd17_0242ac1c0002level0_row17\" class=\"row_heading level0 row17\" >17</th>\n",
              "                        <td id=\"T_98110ea4_e36a_11ea_bd17_0242ac1c0002row17_col0\" class=\"data row17 col0\" >Transformation </td>\n",
              "                        <td id=\"T_98110ea4_e36a_11ea_bd17_0242ac1c0002row17_col1\" class=\"data row17 col1\" >False</td>\n",
              "            </tr>\n",
              "            <tr>\n",
              "                        <th id=\"T_98110ea4_e36a_11ea_bd17_0242ac1c0002level0_row18\" class=\"row_heading level0 row18\" >18</th>\n",
              "                        <td id=\"T_98110ea4_e36a_11ea_bd17_0242ac1c0002row18_col0\" class=\"data row18 col0\" >Transformation Method </td>\n",
              "                        <td id=\"T_98110ea4_e36a_11ea_bd17_0242ac1c0002row18_col1\" class=\"data row18 col1\" >None</td>\n",
              "            </tr>\n",
              "            <tr>\n",
              "                        <th id=\"T_98110ea4_e36a_11ea_bd17_0242ac1c0002level0_row19\" class=\"row_heading level0 row19\" >19</th>\n",
              "                        <td id=\"T_98110ea4_e36a_11ea_bd17_0242ac1c0002row19_col0\" class=\"data row19 col0\" >PCA </td>\n",
              "                        <td id=\"T_98110ea4_e36a_11ea_bd17_0242ac1c0002row19_col1\" class=\"data row19 col1\" >False</td>\n",
              "            </tr>\n",
              "            <tr>\n",
              "                        <th id=\"T_98110ea4_e36a_11ea_bd17_0242ac1c0002level0_row20\" class=\"row_heading level0 row20\" >20</th>\n",
              "                        <td id=\"T_98110ea4_e36a_11ea_bd17_0242ac1c0002row20_col0\" class=\"data row20 col0\" >PCA Method </td>\n",
              "                        <td id=\"T_98110ea4_e36a_11ea_bd17_0242ac1c0002row20_col1\" class=\"data row20 col1\" >None</td>\n",
              "            </tr>\n",
              "            <tr>\n",
              "                        <th id=\"T_98110ea4_e36a_11ea_bd17_0242ac1c0002level0_row21\" class=\"row_heading level0 row21\" >21</th>\n",
              "                        <td id=\"T_98110ea4_e36a_11ea_bd17_0242ac1c0002row21_col0\" class=\"data row21 col0\" >PCA Components </td>\n",
              "                        <td id=\"T_98110ea4_e36a_11ea_bd17_0242ac1c0002row21_col1\" class=\"data row21 col1\" >None</td>\n",
              "            </tr>\n",
              "            <tr>\n",
              "                        <th id=\"T_98110ea4_e36a_11ea_bd17_0242ac1c0002level0_row22\" class=\"row_heading level0 row22\" >22</th>\n",
              "                        <td id=\"T_98110ea4_e36a_11ea_bd17_0242ac1c0002row22_col0\" class=\"data row22 col0\" >Ignore Low Variance </td>\n",
              "                        <td id=\"T_98110ea4_e36a_11ea_bd17_0242ac1c0002row22_col1\" class=\"data row22 col1\" >False</td>\n",
              "            </tr>\n",
              "            <tr>\n",
              "                        <th id=\"T_98110ea4_e36a_11ea_bd17_0242ac1c0002level0_row23\" class=\"row_heading level0 row23\" >23</th>\n",
              "                        <td id=\"T_98110ea4_e36a_11ea_bd17_0242ac1c0002row23_col0\" class=\"data row23 col0\" >Combine Rare Levels </td>\n",
              "                        <td id=\"T_98110ea4_e36a_11ea_bd17_0242ac1c0002row23_col1\" class=\"data row23 col1\" >False</td>\n",
              "            </tr>\n",
              "            <tr>\n",
              "                        <th id=\"T_98110ea4_e36a_11ea_bd17_0242ac1c0002level0_row24\" class=\"row_heading level0 row24\" >24</th>\n",
              "                        <td id=\"T_98110ea4_e36a_11ea_bd17_0242ac1c0002row24_col0\" class=\"data row24 col0\" >Rare Level Threshold </td>\n",
              "                        <td id=\"T_98110ea4_e36a_11ea_bd17_0242ac1c0002row24_col1\" class=\"data row24 col1\" >None</td>\n",
              "            </tr>\n",
              "            <tr>\n",
              "                        <th id=\"T_98110ea4_e36a_11ea_bd17_0242ac1c0002level0_row25\" class=\"row_heading level0 row25\" >25</th>\n",
              "                        <td id=\"T_98110ea4_e36a_11ea_bd17_0242ac1c0002row25_col0\" class=\"data row25 col0\" >Numeric Binning </td>\n",
              "                        <td id=\"T_98110ea4_e36a_11ea_bd17_0242ac1c0002row25_col1\" class=\"data row25 col1\" >False</td>\n",
              "            </tr>\n",
              "            <tr>\n",
              "                        <th id=\"T_98110ea4_e36a_11ea_bd17_0242ac1c0002level0_row26\" class=\"row_heading level0 row26\" >26</th>\n",
              "                        <td id=\"T_98110ea4_e36a_11ea_bd17_0242ac1c0002row26_col0\" class=\"data row26 col0\" >Remove Outliers </td>\n",
              "                        <td id=\"T_98110ea4_e36a_11ea_bd17_0242ac1c0002row26_col1\" class=\"data row26 col1\" >False</td>\n",
              "            </tr>\n",
              "            <tr>\n",
              "                        <th id=\"T_98110ea4_e36a_11ea_bd17_0242ac1c0002level0_row27\" class=\"row_heading level0 row27\" >27</th>\n",
              "                        <td id=\"T_98110ea4_e36a_11ea_bd17_0242ac1c0002row27_col0\" class=\"data row27 col0\" >Outliers Threshold </td>\n",
              "                        <td id=\"T_98110ea4_e36a_11ea_bd17_0242ac1c0002row27_col1\" class=\"data row27 col1\" >None</td>\n",
              "            </tr>\n",
              "            <tr>\n",
              "                        <th id=\"T_98110ea4_e36a_11ea_bd17_0242ac1c0002level0_row28\" class=\"row_heading level0 row28\" >28</th>\n",
              "                        <td id=\"T_98110ea4_e36a_11ea_bd17_0242ac1c0002row28_col0\" class=\"data row28 col0\" >Remove Multicollinearity </td>\n",
              "                        <td id=\"T_98110ea4_e36a_11ea_bd17_0242ac1c0002row28_col1\" class=\"data row28 col1\" >False</td>\n",
              "            </tr>\n",
              "            <tr>\n",
              "                        <th id=\"T_98110ea4_e36a_11ea_bd17_0242ac1c0002level0_row29\" class=\"row_heading level0 row29\" >29</th>\n",
              "                        <td id=\"T_98110ea4_e36a_11ea_bd17_0242ac1c0002row29_col0\" class=\"data row29 col0\" >Multicollinearity Threshold </td>\n",
              "                        <td id=\"T_98110ea4_e36a_11ea_bd17_0242ac1c0002row29_col1\" class=\"data row29 col1\" >None</td>\n",
              "            </tr>\n",
              "            <tr>\n",
              "                        <th id=\"T_98110ea4_e36a_11ea_bd17_0242ac1c0002level0_row30\" class=\"row_heading level0 row30\" >30</th>\n",
              "                        <td id=\"T_98110ea4_e36a_11ea_bd17_0242ac1c0002row30_col0\" class=\"data row30 col0\" >Clustering </td>\n",
              "                        <td id=\"T_98110ea4_e36a_11ea_bd17_0242ac1c0002row30_col1\" class=\"data row30 col1\" >False</td>\n",
              "            </tr>\n",
              "            <tr>\n",
              "                        <th id=\"T_98110ea4_e36a_11ea_bd17_0242ac1c0002level0_row31\" class=\"row_heading level0 row31\" >31</th>\n",
              "                        <td id=\"T_98110ea4_e36a_11ea_bd17_0242ac1c0002row31_col0\" class=\"data row31 col0\" >Clustering Iteration </td>\n",
              "                        <td id=\"T_98110ea4_e36a_11ea_bd17_0242ac1c0002row31_col1\" class=\"data row31 col1\" >None</td>\n",
              "            </tr>\n",
              "            <tr>\n",
              "                        <th id=\"T_98110ea4_e36a_11ea_bd17_0242ac1c0002level0_row32\" class=\"row_heading level0 row32\" >32</th>\n",
              "                        <td id=\"T_98110ea4_e36a_11ea_bd17_0242ac1c0002row32_col0\" class=\"data row32 col0\" >Polynomial Features </td>\n",
              "                        <td id=\"T_98110ea4_e36a_11ea_bd17_0242ac1c0002row32_col1\" class=\"data row32 col1\" >False</td>\n",
              "            </tr>\n",
              "            <tr>\n",
              "                        <th id=\"T_98110ea4_e36a_11ea_bd17_0242ac1c0002level0_row33\" class=\"row_heading level0 row33\" >33</th>\n",
              "                        <td id=\"T_98110ea4_e36a_11ea_bd17_0242ac1c0002row33_col0\" class=\"data row33 col0\" >Polynomial Degree </td>\n",
              "                        <td id=\"T_98110ea4_e36a_11ea_bd17_0242ac1c0002row33_col1\" class=\"data row33 col1\" >None</td>\n",
              "            </tr>\n",
              "            <tr>\n",
              "                        <th id=\"T_98110ea4_e36a_11ea_bd17_0242ac1c0002level0_row34\" class=\"row_heading level0 row34\" >34</th>\n",
              "                        <td id=\"T_98110ea4_e36a_11ea_bd17_0242ac1c0002row34_col0\" class=\"data row34 col0\" >Trignometry Features </td>\n",
              "                        <td id=\"T_98110ea4_e36a_11ea_bd17_0242ac1c0002row34_col1\" class=\"data row34 col1\" >False</td>\n",
              "            </tr>\n",
              "            <tr>\n",
              "                        <th id=\"T_98110ea4_e36a_11ea_bd17_0242ac1c0002level0_row35\" class=\"row_heading level0 row35\" >35</th>\n",
              "                        <td id=\"T_98110ea4_e36a_11ea_bd17_0242ac1c0002row35_col0\" class=\"data row35 col0\" >Polynomial Threshold </td>\n",
              "                        <td id=\"T_98110ea4_e36a_11ea_bd17_0242ac1c0002row35_col1\" class=\"data row35 col1\" >None</td>\n",
              "            </tr>\n",
              "            <tr>\n",
              "                        <th id=\"T_98110ea4_e36a_11ea_bd17_0242ac1c0002level0_row36\" class=\"row_heading level0 row36\" >36</th>\n",
              "                        <td id=\"T_98110ea4_e36a_11ea_bd17_0242ac1c0002row36_col0\" class=\"data row36 col0\" >Group Features </td>\n",
              "                        <td id=\"T_98110ea4_e36a_11ea_bd17_0242ac1c0002row36_col1\" class=\"data row36 col1\" >False</td>\n",
              "            </tr>\n",
              "            <tr>\n",
              "                        <th id=\"T_98110ea4_e36a_11ea_bd17_0242ac1c0002level0_row37\" class=\"row_heading level0 row37\" >37</th>\n",
              "                        <td id=\"T_98110ea4_e36a_11ea_bd17_0242ac1c0002row37_col0\" class=\"data row37 col0\" >Feature Selection </td>\n",
              "                        <td id=\"T_98110ea4_e36a_11ea_bd17_0242ac1c0002row37_col1\" class=\"data row37 col1\" >False</td>\n",
              "            </tr>\n",
              "            <tr>\n",
              "                        <th id=\"T_98110ea4_e36a_11ea_bd17_0242ac1c0002level0_row38\" class=\"row_heading level0 row38\" >38</th>\n",
              "                        <td id=\"T_98110ea4_e36a_11ea_bd17_0242ac1c0002row38_col0\" class=\"data row38 col0\" >Features Selection Threshold </td>\n",
              "                        <td id=\"T_98110ea4_e36a_11ea_bd17_0242ac1c0002row38_col1\" class=\"data row38 col1\" >None</td>\n",
              "            </tr>\n",
              "            <tr>\n",
              "                        <th id=\"T_98110ea4_e36a_11ea_bd17_0242ac1c0002level0_row39\" class=\"row_heading level0 row39\" >39</th>\n",
              "                        <td id=\"T_98110ea4_e36a_11ea_bd17_0242ac1c0002row39_col0\" class=\"data row39 col0\" >Feature Interaction </td>\n",
              "                        <td id=\"T_98110ea4_e36a_11ea_bd17_0242ac1c0002row39_col1\" class=\"data row39 col1\" >False</td>\n",
              "            </tr>\n",
              "            <tr>\n",
              "                        <th id=\"T_98110ea4_e36a_11ea_bd17_0242ac1c0002level0_row40\" class=\"row_heading level0 row40\" >40</th>\n",
              "                        <td id=\"T_98110ea4_e36a_11ea_bd17_0242ac1c0002row40_col0\" class=\"data row40 col0\" >Feature Ratio </td>\n",
              "                        <td id=\"T_98110ea4_e36a_11ea_bd17_0242ac1c0002row40_col1\" class=\"data row40 col1\" >False</td>\n",
              "            </tr>\n",
              "            <tr>\n",
              "                        <th id=\"T_98110ea4_e36a_11ea_bd17_0242ac1c0002level0_row41\" class=\"row_heading level0 row41\" >41</th>\n",
              "                        <td id=\"T_98110ea4_e36a_11ea_bd17_0242ac1c0002row41_col0\" class=\"data row41 col0\" >Interaction Threshold </td>\n",
              "                        <td id=\"T_98110ea4_e36a_11ea_bd17_0242ac1c0002row41_col1\" class=\"data row41 col1\" >None</td>\n",
              "            </tr>\n",
              "            <tr>\n",
              "                        <th id=\"T_98110ea4_e36a_11ea_bd17_0242ac1c0002level0_row42\" class=\"row_heading level0 row42\" >42</th>\n",
              "                        <td id=\"T_98110ea4_e36a_11ea_bd17_0242ac1c0002row42_col0\" class=\"data row42 col0\" >Fix Imbalance</td>\n",
              "                        <td id=\"T_98110ea4_e36a_11ea_bd17_0242ac1c0002row42_col1\" class=\"data row42 col1\" >False</td>\n",
              "            </tr>\n",
              "            <tr>\n",
              "                        <th id=\"T_98110ea4_e36a_11ea_bd17_0242ac1c0002level0_row43\" class=\"row_heading level0 row43\" >43</th>\n",
              "                        <td id=\"T_98110ea4_e36a_11ea_bd17_0242ac1c0002row43_col0\" class=\"data row43 col0\" >Fix Imbalance Method</td>\n",
              "                        <td id=\"T_98110ea4_e36a_11ea_bd17_0242ac1c0002row43_col1\" class=\"data row43 col1\" >SMOTE</td>\n",
              "            </tr>\n",
              "    </tbody></table>"
            ],
            "text/plain": [
              "<pandas.io.formats.style.Styler at 0x7ff0883af390>"
            ]
          },
          "metadata": {
            "tags": []
          }
        }
      ]
    },
    {
      "cell_type": "code",
      "metadata": {
        "id": "x3v1hVoI69C7",
        "colab_type": "code",
        "colab": {
          "base_uri": "https://localhost:8080/",
          "height": 355,
          "referenced_widgets": [
            "93f4bcbc18cf4bbcb911db38271f841d",
            "58424585844a4bf0af06e537fd4e2fa1",
            "4b51bb43d7804282b3a4b52c46832217"
          ]
        },
        "outputId": "39122a6a-4af2-4207-a626-2641637ae185"
      },
      "source": [
        "top3 = compare_models()"
      ],
      "execution_count": null,
      "outputs": [
        {
          "output_type": "display_data",
          "data": {
            "text/html": [
              "<style  type=\"text/css\" >\n",
              "    #T_c3e815aa_e170_11ea_8113_0242ac1c0002 th {\n",
              "          text-align: left;\n",
              "    }    #T_c3e815aa_e170_11ea_8113_0242ac1c0002row0_col0 {\n",
              "            text-align:  left;\n",
              "        }    #T_c3e815aa_e170_11ea_8113_0242ac1c0002row0_col1 {\n",
              "            background-color:  yellow;\n",
              "            text-align:  left;\n",
              "        }    #T_c3e815aa_e170_11ea_8113_0242ac1c0002row0_col2 {\n",
              "            background-color:  yellow;\n",
              "            text-align:  left;\n",
              "        }    #T_c3e815aa_e170_11ea_8113_0242ac1c0002row0_col3 {\n",
              "            : ;\n",
              "            text-align:  left;\n",
              "        }    #T_c3e815aa_e170_11ea_8113_0242ac1c0002row0_col4 {\n",
              "            : ;\n",
              "            text-align:  left;\n",
              "        }    #T_c3e815aa_e170_11ea_8113_0242ac1c0002row0_col5 {\n",
              "            : ;\n",
              "            text-align:  left;\n",
              "        }    #T_c3e815aa_e170_11ea_8113_0242ac1c0002row0_col6 {\n",
              "            : ;\n",
              "            text-align:  left;\n",
              "        }    #T_c3e815aa_e170_11ea_8113_0242ac1c0002row0_col7 {\n",
              "            : ;\n",
              "            text-align:  left;\n",
              "        }    #T_c3e815aa_e170_11ea_8113_0242ac1c0002row0_col8 {\n",
              "            background-color:  lightgrey;\n",
              "            text-align:  left;\n",
              "        }    #T_c3e815aa_e170_11ea_8113_0242ac1c0002row1_col0 {\n",
              "            text-align:  left;\n",
              "        }    #T_c3e815aa_e170_11ea_8113_0242ac1c0002row1_col1 {\n",
              "            background-color:  yellow;\n",
              "            text-align:  left;\n",
              "        }    #T_c3e815aa_e170_11ea_8113_0242ac1c0002row1_col2 {\n",
              "            : ;\n",
              "            text-align:  left;\n",
              "        }    #T_c3e815aa_e170_11ea_8113_0242ac1c0002row1_col3 {\n",
              "            : ;\n",
              "            text-align:  left;\n",
              "        }    #T_c3e815aa_e170_11ea_8113_0242ac1c0002row1_col4 {\n",
              "            background-color:  yellow;\n",
              "            text-align:  left;\n",
              "        }    #T_c3e815aa_e170_11ea_8113_0242ac1c0002row1_col5 {\n",
              "            background-color:  yellow;\n",
              "            text-align:  left;\n",
              "        }    #T_c3e815aa_e170_11ea_8113_0242ac1c0002row1_col6 {\n",
              "            background-color:  yellow;\n",
              "            text-align:  left;\n",
              "        }    #T_c3e815aa_e170_11ea_8113_0242ac1c0002row1_col7 {\n",
              "            background-color:  yellow;\n",
              "            text-align:  left;\n",
              "        }    #T_c3e815aa_e170_11ea_8113_0242ac1c0002row1_col8 {\n",
              "            background-color:  lightgrey;\n",
              "            text-align:  left;\n",
              "        }    #T_c3e815aa_e170_11ea_8113_0242ac1c0002row2_col0 {\n",
              "            text-align:  left;\n",
              "        }    #T_c3e815aa_e170_11ea_8113_0242ac1c0002row2_col1 {\n",
              "            : ;\n",
              "            text-align:  left;\n",
              "        }    #T_c3e815aa_e170_11ea_8113_0242ac1c0002row2_col2 {\n",
              "            : ;\n",
              "            text-align:  left;\n",
              "        }    #T_c3e815aa_e170_11ea_8113_0242ac1c0002row2_col3 {\n",
              "            : ;\n",
              "            text-align:  left;\n",
              "        }    #T_c3e815aa_e170_11ea_8113_0242ac1c0002row2_col4 {\n",
              "            : ;\n",
              "            text-align:  left;\n",
              "        }    #T_c3e815aa_e170_11ea_8113_0242ac1c0002row2_col5 {\n",
              "            : ;\n",
              "            text-align:  left;\n",
              "        }    #T_c3e815aa_e170_11ea_8113_0242ac1c0002row2_col6 {\n",
              "            : ;\n",
              "            text-align:  left;\n",
              "        }    #T_c3e815aa_e170_11ea_8113_0242ac1c0002row2_col7 {\n",
              "            : ;\n",
              "            text-align:  left;\n",
              "        }    #T_c3e815aa_e170_11ea_8113_0242ac1c0002row2_col8 {\n",
              "            background-color:  lightgrey;\n",
              "            text-align:  left;\n",
              "        }    #T_c3e815aa_e170_11ea_8113_0242ac1c0002row3_col0 {\n",
              "            text-align:  left;\n",
              "        }    #T_c3e815aa_e170_11ea_8113_0242ac1c0002row3_col1 {\n",
              "            : ;\n",
              "            text-align:  left;\n",
              "        }    #T_c3e815aa_e170_11ea_8113_0242ac1c0002row3_col2 {\n",
              "            : ;\n",
              "            text-align:  left;\n",
              "        }    #T_c3e815aa_e170_11ea_8113_0242ac1c0002row3_col3 {\n",
              "            : ;\n",
              "            text-align:  left;\n",
              "        }    #T_c3e815aa_e170_11ea_8113_0242ac1c0002row3_col4 {\n",
              "            : ;\n",
              "            text-align:  left;\n",
              "        }    #T_c3e815aa_e170_11ea_8113_0242ac1c0002row3_col5 {\n",
              "            : ;\n",
              "            text-align:  left;\n",
              "        }    #T_c3e815aa_e170_11ea_8113_0242ac1c0002row3_col6 {\n",
              "            : ;\n",
              "            text-align:  left;\n",
              "        }    #T_c3e815aa_e170_11ea_8113_0242ac1c0002row3_col7 {\n",
              "            : ;\n",
              "            text-align:  left;\n",
              "        }    #T_c3e815aa_e170_11ea_8113_0242ac1c0002row3_col8 {\n",
              "            background-color:  lightgrey;\n",
              "            text-align:  left;\n",
              "        }    #T_c3e815aa_e170_11ea_8113_0242ac1c0002row4_col0 {\n",
              "            text-align:  left;\n",
              "        }    #T_c3e815aa_e170_11ea_8113_0242ac1c0002row4_col1 {\n",
              "            : ;\n",
              "            text-align:  left;\n",
              "        }    #T_c3e815aa_e170_11ea_8113_0242ac1c0002row4_col2 {\n",
              "            : ;\n",
              "            text-align:  left;\n",
              "        }    #T_c3e815aa_e170_11ea_8113_0242ac1c0002row4_col3 {\n",
              "            : ;\n",
              "            text-align:  left;\n",
              "        }    #T_c3e815aa_e170_11ea_8113_0242ac1c0002row4_col4 {\n",
              "            : ;\n",
              "            text-align:  left;\n",
              "        }    #T_c3e815aa_e170_11ea_8113_0242ac1c0002row4_col5 {\n",
              "            : ;\n",
              "            text-align:  left;\n",
              "        }    #T_c3e815aa_e170_11ea_8113_0242ac1c0002row4_col6 {\n",
              "            : ;\n",
              "            text-align:  left;\n",
              "        }    #T_c3e815aa_e170_11ea_8113_0242ac1c0002row4_col7 {\n",
              "            : ;\n",
              "            text-align:  left;\n",
              "        }    #T_c3e815aa_e170_11ea_8113_0242ac1c0002row4_col8 {\n",
              "            background-color:  lightgrey;\n",
              "            text-align:  left;\n",
              "        }    #T_c3e815aa_e170_11ea_8113_0242ac1c0002row5_col0 {\n",
              "            text-align:  left;\n",
              "        }    #T_c3e815aa_e170_11ea_8113_0242ac1c0002row5_col1 {\n",
              "            : ;\n",
              "            text-align:  left;\n",
              "        }    #T_c3e815aa_e170_11ea_8113_0242ac1c0002row5_col2 {\n",
              "            : ;\n",
              "            text-align:  left;\n",
              "        }    #T_c3e815aa_e170_11ea_8113_0242ac1c0002row5_col3 {\n",
              "            : ;\n",
              "            text-align:  left;\n",
              "        }    #T_c3e815aa_e170_11ea_8113_0242ac1c0002row5_col4 {\n",
              "            : ;\n",
              "            text-align:  left;\n",
              "        }    #T_c3e815aa_e170_11ea_8113_0242ac1c0002row5_col5 {\n",
              "            : ;\n",
              "            text-align:  left;\n",
              "        }    #T_c3e815aa_e170_11ea_8113_0242ac1c0002row5_col6 {\n",
              "            : ;\n",
              "            text-align:  left;\n",
              "        }    #T_c3e815aa_e170_11ea_8113_0242ac1c0002row5_col7 {\n",
              "            : ;\n",
              "            text-align:  left;\n",
              "        }    #T_c3e815aa_e170_11ea_8113_0242ac1c0002row5_col8 {\n",
              "            background-color:  lightgrey;\n",
              "            text-align:  left;\n",
              "        }    #T_c3e815aa_e170_11ea_8113_0242ac1c0002row6_col0 {\n",
              "            text-align:  left;\n",
              "        }    #T_c3e815aa_e170_11ea_8113_0242ac1c0002row6_col1 {\n",
              "            : ;\n",
              "            text-align:  left;\n",
              "        }    #T_c3e815aa_e170_11ea_8113_0242ac1c0002row6_col2 {\n",
              "            : ;\n",
              "            text-align:  left;\n",
              "        }    #T_c3e815aa_e170_11ea_8113_0242ac1c0002row6_col3 {\n",
              "            : ;\n",
              "            text-align:  left;\n",
              "        }    #T_c3e815aa_e170_11ea_8113_0242ac1c0002row6_col4 {\n",
              "            : ;\n",
              "            text-align:  left;\n",
              "        }    #T_c3e815aa_e170_11ea_8113_0242ac1c0002row6_col5 {\n",
              "            : ;\n",
              "            text-align:  left;\n",
              "        }    #T_c3e815aa_e170_11ea_8113_0242ac1c0002row6_col6 {\n",
              "            : ;\n",
              "            text-align:  left;\n",
              "        }    #T_c3e815aa_e170_11ea_8113_0242ac1c0002row6_col7 {\n",
              "            : ;\n",
              "            text-align:  left;\n",
              "        }    #T_c3e815aa_e170_11ea_8113_0242ac1c0002row6_col8 {\n",
              "            background-color:  lightgrey;\n",
              "            text-align:  left;\n",
              "        }    #T_c3e815aa_e170_11ea_8113_0242ac1c0002row7_col0 {\n",
              "            text-align:  left;\n",
              "        }    #T_c3e815aa_e170_11ea_8113_0242ac1c0002row7_col1 {\n",
              "            : ;\n",
              "            text-align:  left;\n",
              "        }    #T_c3e815aa_e170_11ea_8113_0242ac1c0002row7_col2 {\n",
              "            : ;\n",
              "            text-align:  left;\n",
              "        }    #T_c3e815aa_e170_11ea_8113_0242ac1c0002row7_col3 {\n",
              "            : ;\n",
              "            text-align:  left;\n",
              "        }    #T_c3e815aa_e170_11ea_8113_0242ac1c0002row7_col4 {\n",
              "            : ;\n",
              "            text-align:  left;\n",
              "        }    #T_c3e815aa_e170_11ea_8113_0242ac1c0002row7_col5 {\n",
              "            : ;\n",
              "            text-align:  left;\n",
              "        }    #T_c3e815aa_e170_11ea_8113_0242ac1c0002row7_col6 {\n",
              "            : ;\n",
              "            text-align:  left;\n",
              "        }    #T_c3e815aa_e170_11ea_8113_0242ac1c0002row7_col7 {\n",
              "            : ;\n",
              "            text-align:  left;\n",
              "        }    #T_c3e815aa_e170_11ea_8113_0242ac1c0002row7_col8 {\n",
              "            background-color:  lightgrey;\n",
              "            text-align:  left;\n",
              "        }    #T_c3e815aa_e170_11ea_8113_0242ac1c0002row8_col0 {\n",
              "            text-align:  left;\n",
              "        }    #T_c3e815aa_e170_11ea_8113_0242ac1c0002row8_col1 {\n",
              "            : ;\n",
              "            text-align:  left;\n",
              "        }    #T_c3e815aa_e170_11ea_8113_0242ac1c0002row8_col2 {\n",
              "            : ;\n",
              "            text-align:  left;\n",
              "        }    #T_c3e815aa_e170_11ea_8113_0242ac1c0002row8_col3 {\n",
              "            : ;\n",
              "            text-align:  left;\n",
              "        }    #T_c3e815aa_e170_11ea_8113_0242ac1c0002row8_col4 {\n",
              "            : ;\n",
              "            text-align:  left;\n",
              "        }    #T_c3e815aa_e170_11ea_8113_0242ac1c0002row8_col5 {\n",
              "            : ;\n",
              "            text-align:  left;\n",
              "        }    #T_c3e815aa_e170_11ea_8113_0242ac1c0002row8_col6 {\n",
              "            : ;\n",
              "            text-align:  left;\n",
              "        }    #T_c3e815aa_e170_11ea_8113_0242ac1c0002row8_col7 {\n",
              "            : ;\n",
              "            text-align:  left;\n",
              "        }    #T_c3e815aa_e170_11ea_8113_0242ac1c0002row8_col8 {\n",
              "            background-color:  lightgrey;\n",
              "            text-align:  left;\n",
              "        }    #T_c3e815aa_e170_11ea_8113_0242ac1c0002row9_col0 {\n",
              "            text-align:  left;\n",
              "        }    #T_c3e815aa_e170_11ea_8113_0242ac1c0002row9_col1 {\n",
              "            : ;\n",
              "            text-align:  left;\n",
              "        }    #T_c3e815aa_e170_11ea_8113_0242ac1c0002row9_col2 {\n",
              "            : ;\n",
              "            text-align:  left;\n",
              "        }    #T_c3e815aa_e170_11ea_8113_0242ac1c0002row9_col3 {\n",
              "            : ;\n",
              "            text-align:  left;\n",
              "        }    #T_c3e815aa_e170_11ea_8113_0242ac1c0002row9_col4 {\n",
              "            : ;\n",
              "            text-align:  left;\n",
              "        }    #T_c3e815aa_e170_11ea_8113_0242ac1c0002row9_col5 {\n",
              "            : ;\n",
              "            text-align:  left;\n",
              "        }    #T_c3e815aa_e170_11ea_8113_0242ac1c0002row9_col6 {\n",
              "            : ;\n",
              "            text-align:  left;\n",
              "        }    #T_c3e815aa_e170_11ea_8113_0242ac1c0002row9_col7 {\n",
              "            : ;\n",
              "            text-align:  left;\n",
              "        }    #T_c3e815aa_e170_11ea_8113_0242ac1c0002row9_col8 {\n",
              "            background-color:  lightgrey;\n",
              "            text-align:  left;\n",
              "        }    #T_c3e815aa_e170_11ea_8113_0242ac1c0002row10_col0 {\n",
              "            text-align:  left;\n",
              "        }    #T_c3e815aa_e170_11ea_8113_0242ac1c0002row10_col1 {\n",
              "            : ;\n",
              "            text-align:  left;\n",
              "        }    #T_c3e815aa_e170_11ea_8113_0242ac1c0002row10_col2 {\n",
              "            : ;\n",
              "            text-align:  left;\n",
              "        }    #T_c3e815aa_e170_11ea_8113_0242ac1c0002row10_col3 {\n",
              "            : ;\n",
              "            text-align:  left;\n",
              "        }    #T_c3e815aa_e170_11ea_8113_0242ac1c0002row10_col4 {\n",
              "            : ;\n",
              "            text-align:  left;\n",
              "        }    #T_c3e815aa_e170_11ea_8113_0242ac1c0002row10_col5 {\n",
              "            : ;\n",
              "            text-align:  left;\n",
              "        }    #T_c3e815aa_e170_11ea_8113_0242ac1c0002row10_col6 {\n",
              "            : ;\n",
              "            text-align:  left;\n",
              "        }    #T_c3e815aa_e170_11ea_8113_0242ac1c0002row10_col7 {\n",
              "            : ;\n",
              "            text-align:  left;\n",
              "        }    #T_c3e815aa_e170_11ea_8113_0242ac1c0002row10_col8 {\n",
              "            background-color:  lightgrey;\n",
              "            text-align:  left;\n",
              "        }    #T_c3e815aa_e170_11ea_8113_0242ac1c0002row11_col0 {\n",
              "            text-align:  left;\n",
              "        }    #T_c3e815aa_e170_11ea_8113_0242ac1c0002row11_col1 {\n",
              "            : ;\n",
              "            text-align:  left;\n",
              "        }    #T_c3e815aa_e170_11ea_8113_0242ac1c0002row11_col2 {\n",
              "            : ;\n",
              "            text-align:  left;\n",
              "        }    #T_c3e815aa_e170_11ea_8113_0242ac1c0002row11_col3 {\n",
              "            : ;\n",
              "            text-align:  left;\n",
              "        }    #T_c3e815aa_e170_11ea_8113_0242ac1c0002row11_col4 {\n",
              "            : ;\n",
              "            text-align:  left;\n",
              "        }    #T_c3e815aa_e170_11ea_8113_0242ac1c0002row11_col5 {\n",
              "            : ;\n",
              "            text-align:  left;\n",
              "        }    #T_c3e815aa_e170_11ea_8113_0242ac1c0002row11_col6 {\n",
              "            : ;\n",
              "            text-align:  left;\n",
              "        }    #T_c3e815aa_e170_11ea_8113_0242ac1c0002row11_col7 {\n",
              "            : ;\n",
              "            text-align:  left;\n",
              "        }    #T_c3e815aa_e170_11ea_8113_0242ac1c0002row11_col8 {\n",
              "            background-color:  lightgrey;\n",
              "            text-align:  left;\n",
              "        }    #T_c3e815aa_e170_11ea_8113_0242ac1c0002row12_col0 {\n",
              "            text-align:  left;\n",
              "        }    #T_c3e815aa_e170_11ea_8113_0242ac1c0002row12_col1 {\n",
              "            : ;\n",
              "            text-align:  left;\n",
              "        }    #T_c3e815aa_e170_11ea_8113_0242ac1c0002row12_col2 {\n",
              "            : ;\n",
              "            text-align:  left;\n",
              "        }    #T_c3e815aa_e170_11ea_8113_0242ac1c0002row12_col3 {\n",
              "            : ;\n",
              "            text-align:  left;\n",
              "        }    #T_c3e815aa_e170_11ea_8113_0242ac1c0002row12_col4 {\n",
              "            : ;\n",
              "            text-align:  left;\n",
              "        }    #T_c3e815aa_e170_11ea_8113_0242ac1c0002row12_col5 {\n",
              "            : ;\n",
              "            text-align:  left;\n",
              "        }    #T_c3e815aa_e170_11ea_8113_0242ac1c0002row12_col6 {\n",
              "            : ;\n",
              "            text-align:  left;\n",
              "        }    #T_c3e815aa_e170_11ea_8113_0242ac1c0002row12_col7 {\n",
              "            : ;\n",
              "            text-align:  left;\n",
              "        }    #T_c3e815aa_e170_11ea_8113_0242ac1c0002row12_col8 {\n",
              "            background-color:  lightgrey;\n",
              "            text-align:  left;\n",
              "        }    #T_c3e815aa_e170_11ea_8113_0242ac1c0002row13_col0 {\n",
              "            text-align:  left;\n",
              "        }    #T_c3e815aa_e170_11ea_8113_0242ac1c0002row13_col1 {\n",
              "            : ;\n",
              "            text-align:  left;\n",
              "        }    #T_c3e815aa_e170_11ea_8113_0242ac1c0002row13_col2 {\n",
              "            : ;\n",
              "            text-align:  left;\n",
              "        }    #T_c3e815aa_e170_11ea_8113_0242ac1c0002row13_col3 {\n",
              "            : ;\n",
              "            text-align:  left;\n",
              "        }    #T_c3e815aa_e170_11ea_8113_0242ac1c0002row13_col4 {\n",
              "            : ;\n",
              "            text-align:  left;\n",
              "        }    #T_c3e815aa_e170_11ea_8113_0242ac1c0002row13_col5 {\n",
              "            : ;\n",
              "            text-align:  left;\n",
              "        }    #T_c3e815aa_e170_11ea_8113_0242ac1c0002row13_col6 {\n",
              "            : ;\n",
              "            text-align:  left;\n",
              "        }    #T_c3e815aa_e170_11ea_8113_0242ac1c0002row13_col7 {\n",
              "            : ;\n",
              "            text-align:  left;\n",
              "        }    #T_c3e815aa_e170_11ea_8113_0242ac1c0002row13_col8 {\n",
              "            background-color:  lightgrey;\n",
              "            text-align:  left;\n",
              "        }    #T_c3e815aa_e170_11ea_8113_0242ac1c0002row14_col0 {\n",
              "            text-align:  left;\n",
              "        }    #T_c3e815aa_e170_11ea_8113_0242ac1c0002row14_col1 {\n",
              "            : ;\n",
              "            text-align:  left;\n",
              "        }    #T_c3e815aa_e170_11ea_8113_0242ac1c0002row14_col2 {\n",
              "            : ;\n",
              "            text-align:  left;\n",
              "        }    #T_c3e815aa_e170_11ea_8113_0242ac1c0002row14_col3 {\n",
              "            background-color:  yellow;\n",
              "            text-align:  left;\n",
              "        }    #T_c3e815aa_e170_11ea_8113_0242ac1c0002row14_col4 {\n",
              "            : ;\n",
              "            text-align:  left;\n",
              "        }    #T_c3e815aa_e170_11ea_8113_0242ac1c0002row14_col5 {\n",
              "            : ;\n",
              "            text-align:  left;\n",
              "        }    #T_c3e815aa_e170_11ea_8113_0242ac1c0002row14_col6 {\n",
              "            : ;\n",
              "            text-align:  left;\n",
              "        }    #T_c3e815aa_e170_11ea_8113_0242ac1c0002row14_col7 {\n",
              "            : ;\n",
              "            text-align:  left;\n",
              "        }    #T_c3e815aa_e170_11ea_8113_0242ac1c0002row14_col8 {\n",
              "            background-color:  lightgrey;\n",
              "            text-align:  left;\n",
              "        }</style><table id=\"T_c3e815aa_e170_11ea_8113_0242ac1c0002\" ><thead>    <tr>        <th class=\"blank level0\" ></th>        <th class=\"col_heading level0 col0\" >Model</th>        <th class=\"col_heading level0 col1\" >Accuracy</th>        <th class=\"col_heading level0 col2\" >AUC</th>        <th class=\"col_heading level0 col3\" >Recall</th>        <th class=\"col_heading level0 col4\" >Prec.</th>        <th class=\"col_heading level0 col5\" >F1</th>        <th class=\"col_heading level0 col6\" >Kappa</th>        <th class=\"col_heading level0 col7\" >MCC</th>        <th class=\"col_heading level0 col8\" >TT (Sec)</th>    </tr></thead><tbody>\n",
              "                <tr>\n",
              "                        <th id=\"T_c3e815aa_e170_11ea_8113_0242ac1c0002level0_row0\" class=\"row_heading level0 row0\" >0</th>\n",
              "                        <td id=\"T_c3e815aa_e170_11ea_8113_0242ac1c0002row0_col0\" class=\"data row0 col0\" >Extreme Gradient Boosting</td>\n",
              "                        <td id=\"T_c3e815aa_e170_11ea_8113_0242ac1c0002row0_col1\" class=\"data row0 col1\" >0.9996</td>\n",
              "                        <td id=\"T_c3e815aa_e170_11ea_8113_0242ac1c0002row0_col2\" class=\"data row0 col2\" >0.9813</td>\n",
              "                        <td id=\"T_c3e815aa_e170_11ea_8113_0242ac1c0002row0_col3\" class=\"data row0 col3\" >0.7905</td>\n",
              "                        <td id=\"T_c3e815aa_e170_11ea_8113_0242ac1c0002row0_col4\" class=\"data row0 col4\" >0.9559</td>\n",
              "                        <td id=\"T_c3e815aa_e170_11ea_8113_0242ac1c0002row0_col5\" class=\"data row0 col5\" >0.8645</td>\n",
              "                        <td id=\"T_c3e815aa_e170_11ea_8113_0242ac1c0002row0_col6\" class=\"data row0 col6\" >0.8643</td>\n",
              "                        <td id=\"T_c3e815aa_e170_11ea_8113_0242ac1c0002row0_col7\" class=\"data row0 col7\" >0.8686</td>\n",
              "                        <td id=\"T_c3e815aa_e170_11ea_8113_0242ac1c0002row0_col8\" class=\"data row0 col8\" >29.0295</td>\n",
              "            </tr>\n",
              "            <tr>\n",
              "                        <th id=\"T_c3e815aa_e170_11ea_8113_0242ac1c0002level0_row1\" class=\"row_heading level0 row1\" >1</th>\n",
              "                        <td id=\"T_c3e815aa_e170_11ea_8113_0242ac1c0002row1_col0\" class=\"data row1 col0\" >CatBoost Classifier</td>\n",
              "                        <td id=\"T_c3e815aa_e170_11ea_8113_0242ac1c0002row1_col1\" class=\"data row1 col1\" >0.9996</td>\n",
              "                        <td id=\"T_c3e815aa_e170_11ea_8113_0242ac1c0002row1_col2\" class=\"data row1 col2\" >0.9794</td>\n",
              "                        <td id=\"T_c3e815aa_e170_11ea_8113_0242ac1c0002row1_col3\" class=\"data row1 col3\" >0.7877</td>\n",
              "                        <td id=\"T_c3e815aa_e170_11ea_8113_0242ac1c0002row1_col4\" class=\"data row1 col4\" >0.9619</td>\n",
              "                        <td id=\"T_c3e815aa_e170_11ea_8113_0242ac1c0002row1_col5\" class=\"data row1 col5\" >0.8656</td>\n",
              "                        <td id=\"T_c3e815aa_e170_11ea_8113_0242ac1c0002row1_col6\" class=\"data row1 col6\" >0.8654</td>\n",
              "                        <td id=\"T_c3e815aa_e170_11ea_8113_0242ac1c0002row1_col7\" class=\"data row1 col7\" >0.8700</td>\n",
              "                        <td id=\"T_c3e815aa_e170_11ea_8113_0242ac1c0002row1_col8\" class=\"data row1 col8\" >61.9962</td>\n",
              "            </tr>\n",
              "            <tr>\n",
              "                        <th id=\"T_c3e815aa_e170_11ea_8113_0242ac1c0002level0_row2\" class=\"row_heading level0 row2\" >2</th>\n",
              "                        <td id=\"T_c3e815aa_e170_11ea_8113_0242ac1c0002row2_col0\" class=\"data row2 col0\" >Random Forest Classifier</td>\n",
              "                        <td id=\"T_c3e815aa_e170_11ea_8113_0242ac1c0002row2_col1\" class=\"data row2 col1\" >0.9995</td>\n",
              "                        <td id=\"T_c3e815aa_e170_11ea_8113_0242ac1c0002row2_col2\" class=\"data row2 col2\" >0.9211</td>\n",
              "                        <td id=\"T_c3e815aa_e170_11ea_8113_0242ac1c0002row2_col3\" class=\"data row2 col3\" >0.7558</td>\n",
              "                        <td id=\"T_c3e815aa_e170_11ea_8113_0242ac1c0002row2_col4\" class=\"data row2 col4\" >0.9554</td>\n",
              "                        <td id=\"T_c3e815aa_e170_11ea_8113_0242ac1c0002row2_col5\" class=\"data row2 col5\" >0.8422</td>\n",
              "                        <td id=\"T_c3e815aa_e170_11ea_8113_0242ac1c0002row2_col6\" class=\"data row2 col6\" >0.8420</td>\n",
              "                        <td id=\"T_c3e815aa_e170_11ea_8113_0242ac1c0002row2_col7\" class=\"data row2 col7\" >0.8487</td>\n",
              "                        <td id=\"T_c3e815aa_e170_11ea_8113_0242ac1c0002row2_col8\" class=\"data row2 col8\" >9.3135</td>\n",
              "            </tr>\n",
              "            <tr>\n",
              "                        <th id=\"T_c3e815aa_e170_11ea_8113_0242ac1c0002level0_row3\" class=\"row_heading level0 row3\" >3</th>\n",
              "                        <td id=\"T_c3e815aa_e170_11ea_8113_0242ac1c0002row3_col0\" class=\"data row3 col0\" >Extra Trees Classifier</td>\n",
              "                        <td id=\"T_c3e815aa_e170_11ea_8113_0242ac1c0002row3_col1\" class=\"data row3 col1\" >0.9995</td>\n",
              "                        <td id=\"T_c3e815aa_e170_11ea_8113_0242ac1c0002row3_col2\" class=\"data row3 col2\" >0.9459</td>\n",
              "                        <td id=\"T_c3e815aa_e170_11ea_8113_0242ac1c0002row3_col3\" class=\"data row3 col3\" >0.7762</td>\n",
              "                        <td id=\"T_c3e815aa_e170_11ea_8113_0242ac1c0002row3_col4\" class=\"data row3 col4\" >0.9552</td>\n",
              "                        <td id=\"T_c3e815aa_e170_11ea_8113_0242ac1c0002row3_col5\" class=\"data row3 col5\" >0.8554</td>\n",
              "                        <td id=\"T_c3e815aa_e170_11ea_8113_0242ac1c0002row3_col6\" class=\"data row3 col6\" >0.8552</td>\n",
              "                        <td id=\"T_c3e815aa_e170_11ea_8113_0242ac1c0002row3_col7\" class=\"data row3 col7\" >0.8603</td>\n",
              "                        <td id=\"T_c3e815aa_e170_11ea_8113_0242ac1c0002row3_col8\" class=\"data row3 col8\" >8.7829</td>\n",
              "            </tr>\n",
              "            <tr>\n",
              "                        <th id=\"T_c3e815aa_e170_11ea_8113_0242ac1c0002level0_row4\" class=\"row_heading level0 row4\" >4</th>\n",
              "                        <td id=\"T_c3e815aa_e170_11ea_8113_0242ac1c0002row4_col0\" class=\"data row4 col0\" >Linear Discriminant Analysis</td>\n",
              "                        <td id=\"T_c3e815aa_e170_11ea_8113_0242ac1c0002row4_col1\" class=\"data row4 col1\" >0.9994</td>\n",
              "                        <td id=\"T_c3e815aa_e170_11ea_8113_0242ac1c0002row4_col2\" class=\"data row4 col2\" >0.9803</td>\n",
              "                        <td id=\"T_c3e815aa_e170_11ea_8113_0242ac1c0002row4_col3\" class=\"data row4 col3\" >0.7644</td>\n",
              "                        <td id=\"T_c3e815aa_e170_11ea_8113_0242ac1c0002row4_col4\" class=\"data row4 col4\" >0.8912</td>\n",
              "                        <td id=\"T_c3e815aa_e170_11ea_8113_0242ac1c0002row4_col5\" class=\"data row4 col5\" >0.8205</td>\n",
              "                        <td id=\"T_c3e815aa_e170_11ea_8113_0242ac1c0002row4_col6\" class=\"data row4 col6\" >0.8202</td>\n",
              "                        <td id=\"T_c3e815aa_e170_11ea_8113_0242ac1c0002row4_col7\" class=\"data row4 col7\" >0.8238</td>\n",
              "                        <td id=\"T_c3e815aa_e170_11ea_8113_0242ac1c0002row4_col8\" class=\"data row4 col8\" >0.7677</td>\n",
              "            </tr>\n",
              "            <tr>\n",
              "                        <th id=\"T_c3e815aa_e170_11ea_8113_0242ac1c0002level0_row5\" class=\"row_heading level0 row5\" >5</th>\n",
              "                        <td id=\"T_c3e815aa_e170_11ea_8113_0242ac1c0002row5_col0\" class=\"data row5 col0\" >Ada Boost Classifier</td>\n",
              "                        <td id=\"T_c3e815aa_e170_11ea_8113_0242ac1c0002row5_col1\" class=\"data row5 col1\" >0.9992</td>\n",
              "                        <td id=\"T_c3e815aa_e170_11ea_8113_0242ac1c0002row5_col2\" class=\"data row5 col2\" >0.9705</td>\n",
              "                        <td id=\"T_c3e815aa_e170_11ea_8113_0242ac1c0002row5_col3\" class=\"data row5 col3\" >0.7096</td>\n",
              "                        <td id=\"T_c3e815aa_e170_11ea_8113_0242ac1c0002row5_col4\" class=\"data row5 col4\" >0.8295</td>\n",
              "                        <td id=\"T_c3e815aa_e170_11ea_8113_0242ac1c0002row5_col5\" class=\"data row5 col5\" >0.7601</td>\n",
              "                        <td id=\"T_c3e815aa_e170_11ea_8113_0242ac1c0002row5_col6\" class=\"data row5 col6\" >0.7597</td>\n",
              "                        <td id=\"T_c3e815aa_e170_11ea_8113_0242ac1c0002row5_col7\" class=\"data row5 col7\" >0.7644</td>\n",
              "                        <td id=\"T_c3e815aa_e170_11ea_8113_0242ac1c0002row5_col8\" class=\"data row5 col8\" >45.8392</td>\n",
              "            </tr>\n",
              "            <tr>\n",
              "                        <th id=\"T_c3e815aa_e170_11ea_8113_0242ac1c0002level0_row6\" class=\"row_heading level0 row6\" >6</th>\n",
              "                        <td id=\"T_c3e815aa_e170_11ea_8113_0242ac1c0002row6_col0\" class=\"data row6 col0\" >Decision Tree Classifier</td>\n",
              "                        <td id=\"T_c3e815aa_e170_11ea_8113_0242ac1c0002row6_col1\" class=\"data row6 col1\" >0.9991</td>\n",
              "                        <td id=\"T_c3e815aa_e170_11ea_8113_0242ac1c0002row6_col2\" class=\"data row6 col2\" >0.8748</td>\n",
              "                        <td id=\"T_c3e815aa_e170_11ea_8113_0242ac1c0002row6_col3\" class=\"data row6 col3\" >0.7500</td>\n",
              "                        <td id=\"T_c3e815aa_e170_11ea_8113_0242ac1c0002row6_col4\" class=\"data row6 col4\" >0.7376</td>\n",
              "                        <td id=\"T_c3e815aa_e170_11ea_8113_0242ac1c0002row6_col5\" class=\"data row6 col5\" >0.7432</td>\n",
              "                        <td id=\"T_c3e815aa_e170_11ea_8113_0242ac1c0002row6_col6\" class=\"data row6 col6\" >0.7427</td>\n",
              "                        <td id=\"T_c3e815aa_e170_11ea_8113_0242ac1c0002row6_col7\" class=\"data row6 col7\" >0.7430</td>\n",
              "                        <td id=\"T_c3e815aa_e170_11ea_8113_0242ac1c0002row6_col8\" class=\"data row6 col8\" >12.5398</td>\n",
              "            </tr>\n",
              "            <tr>\n",
              "                        <th id=\"T_c3e815aa_e170_11ea_8113_0242ac1c0002level0_row7\" class=\"row_heading level0 row7\" >7</th>\n",
              "                        <td id=\"T_c3e815aa_e170_11ea_8113_0242ac1c0002row7_col0\" class=\"data row7 col0\" >Logistic Regression</td>\n",
              "                        <td id=\"T_c3e815aa_e170_11ea_8113_0242ac1c0002row7_col1\" class=\"data row7 col1\" >0.9990</td>\n",
              "                        <td id=\"T_c3e815aa_e170_11ea_8113_0242ac1c0002row7_col2\" class=\"data row7 col2\" >0.9088</td>\n",
              "                        <td id=\"T_c3e815aa_e170_11ea_8113_0242ac1c0002row7_col3\" class=\"data row7 col3\" >0.6860</td>\n",
              "                        <td id=\"T_c3e815aa_e170_11ea_8113_0242ac1c0002row7_col4\" class=\"data row7 col4\" >0.7453</td>\n",
              "                        <td id=\"T_c3e815aa_e170_11ea_8113_0242ac1c0002row7_col5\" class=\"data row7 col5\" >0.7100</td>\n",
              "                        <td id=\"T_c3e815aa_e170_11ea_8113_0242ac1c0002row7_col6\" class=\"data row7 col6\" >0.7095</td>\n",
              "                        <td id=\"T_c3e815aa_e170_11ea_8113_0242ac1c0002row7_col7\" class=\"data row7 col7\" >0.7123</td>\n",
              "                        <td id=\"T_c3e815aa_e170_11ea_8113_0242ac1c0002row7_col8\" class=\"data row7 col8\" >3.3855</td>\n",
              "            </tr>\n",
              "            <tr>\n",
              "                        <th id=\"T_c3e815aa_e170_11ea_8113_0242ac1c0002level0_row8\" class=\"row_heading level0 row8\" >8</th>\n",
              "                        <td id=\"T_c3e815aa_e170_11ea_8113_0242ac1c0002row8_col0\" class=\"data row8 col0\" >Gradient Boosting Classifier</td>\n",
              "                        <td id=\"T_c3e815aa_e170_11ea_8113_0242ac1c0002row8_col1\" class=\"data row8 col1\" >0.9990</td>\n",
              "                        <td id=\"T_c3e815aa_e170_11ea_8113_0242ac1c0002row8_col2\" class=\"data row8 col2\" >0.6120</td>\n",
              "                        <td id=\"T_c3e815aa_e170_11ea_8113_0242ac1c0002row8_col3\" class=\"data row8 col3\" >0.4673</td>\n",
              "                        <td id=\"T_c3e815aa_e170_11ea_8113_0242ac1c0002row8_col4\" class=\"data row8 col4\" >0.8707</td>\n",
              "                        <td id=\"T_c3e815aa_e170_11ea_8113_0242ac1c0002row8_col5\" class=\"data row8 col5\" >0.5920</td>\n",
              "                        <td id=\"T_c3e815aa_e170_11ea_8113_0242ac1c0002row8_col6\" class=\"data row8 col6\" >0.5916</td>\n",
              "                        <td id=\"T_c3e815aa_e170_11ea_8113_0242ac1c0002row8_col7\" class=\"data row8 col7\" >0.6273</td>\n",
              "                        <td id=\"T_c3e815aa_e170_11ea_8113_0242ac1c0002row8_col8\" class=\"data row8 col8\" >243.9936</td>\n",
              "            </tr>\n",
              "            <tr>\n",
              "                        <th id=\"T_c3e815aa_e170_11ea_8113_0242ac1c0002level0_row9\" class=\"row_heading level0 row9\" >9</th>\n",
              "                        <td id=\"T_c3e815aa_e170_11ea_8113_0242ac1c0002row9_col0\" class=\"data row9 col0\" >Ridge Classifier</td>\n",
              "                        <td id=\"T_c3e815aa_e170_11ea_8113_0242ac1c0002row9_col1\" class=\"data row9 col1\" >0.9989</td>\n",
              "                        <td id=\"T_c3e815aa_e170_11ea_8113_0242ac1c0002row9_col2\" class=\"data row9 col2\" >0.0000</td>\n",
              "                        <td id=\"T_c3e815aa_e170_11ea_8113_0242ac1c0002row9_col3\" class=\"data row9 col3\" >0.4215</td>\n",
              "                        <td id=\"T_c3e815aa_e170_11ea_8113_0242ac1c0002row9_col4\" class=\"data row9 col4\" >0.8698</td>\n",
              "                        <td id=\"T_c3e815aa_e170_11ea_8113_0242ac1c0002row9_col5\" class=\"data row9 col5\" >0.5608</td>\n",
              "                        <td id=\"T_c3e815aa_e170_11ea_8113_0242ac1c0002row9_col6\" class=\"data row9 col6\" >0.5604</td>\n",
              "                        <td id=\"T_c3e815aa_e170_11ea_8113_0242ac1c0002row9_col7\" class=\"data row9 col7\" >0.6006</td>\n",
              "                        <td id=\"T_c3e815aa_e170_11ea_8113_0242ac1c0002row9_col8\" class=\"data row9 col8\" >0.1210</td>\n",
              "            </tr>\n",
              "            <tr>\n",
              "                        <th id=\"T_c3e815aa_e170_11ea_8113_0242ac1c0002level0_row10\" class=\"row_heading level0 row10\" >10</th>\n",
              "                        <td id=\"T_c3e815aa_e170_11ea_8113_0242ac1c0002row10_col0\" class=\"data row10 col0\" >K Neighbors Classifier</td>\n",
              "                        <td id=\"T_c3e815aa_e170_11ea_8113_0242ac1c0002row10_col1\" class=\"data row10 col1\" >0.9984</td>\n",
              "                        <td id=\"T_c3e815aa_e170_11ea_8113_0242ac1c0002row10_col2\" class=\"data row10 col2\" >0.6047</td>\n",
              "                        <td id=\"T_c3e815aa_e170_11ea_8113_0242ac1c0002row10_col3\" class=\"data row10 col3\" >0.0699</td>\n",
              "                        <td id=\"T_c3e815aa_e170_11ea_8113_0242ac1c0002row10_col4\" class=\"data row10 col4\" >0.9417</td>\n",
              "                        <td id=\"T_c3e815aa_e170_11ea_8113_0242ac1c0002row10_col5\" class=\"data row10 col5\" >0.1291</td>\n",
              "                        <td id=\"T_c3e815aa_e170_11ea_8113_0242ac1c0002row10_col6\" class=\"data row10 col6\" >0.1289</td>\n",
              "                        <td id=\"T_c3e815aa_e170_11ea_8113_0242ac1c0002row10_col7\" class=\"data row10 col7\" >0.2519</td>\n",
              "                        <td id=\"T_c3e815aa_e170_11ea_8113_0242ac1c0002row10_col8\" class=\"data row10 col8\" >1.1610</td>\n",
              "            </tr>\n",
              "            <tr>\n",
              "                        <th id=\"T_c3e815aa_e170_11ea_8113_0242ac1c0002level0_row11\" class=\"row_heading level0 row11\" >11</th>\n",
              "                        <td id=\"T_c3e815aa_e170_11ea_8113_0242ac1c0002row11_col0\" class=\"data row11 col0\" >SVM - Linear Kernel</td>\n",
              "                        <td id=\"T_c3e815aa_e170_11ea_8113_0242ac1c0002row11_col1\" class=\"data row11 col1\" >0.9982</td>\n",
              "                        <td id=\"T_c3e815aa_e170_11ea_8113_0242ac1c0002row11_col2\" class=\"data row11 col2\" >0.0000</td>\n",
              "                        <td id=\"T_c3e815aa_e170_11ea_8113_0242ac1c0002row11_col3\" class=\"data row11 col3\" >0.0000</td>\n",
              "                        <td id=\"T_c3e815aa_e170_11ea_8113_0242ac1c0002row11_col4\" class=\"data row11 col4\" >0.0000</td>\n",
              "                        <td id=\"T_c3e815aa_e170_11ea_8113_0242ac1c0002row11_col5\" class=\"data row11 col5\" >0.0000</td>\n",
              "                        <td id=\"T_c3e815aa_e170_11ea_8113_0242ac1c0002row11_col6\" class=\"data row11 col6\" >-0.0002</td>\n",
              "                        <td id=\"T_c3e815aa_e170_11ea_8113_0242ac1c0002row11_col7\" class=\"data row11 col7\" >-0.0003</td>\n",
              "                        <td id=\"T_c3e815aa_e170_11ea_8113_0242ac1c0002row11_col8\" class=\"data row11 col8\" >5.9194</td>\n",
              "            </tr>\n",
              "            <tr>\n",
              "                        <th id=\"T_c3e815aa_e170_11ea_8113_0242ac1c0002level0_row12\" class=\"row_heading level0 row12\" >12</th>\n",
              "                        <td id=\"T_c3e815aa_e170_11ea_8113_0242ac1c0002row12_col0\" class=\"data row12 col0\" >Light Gradient Boosting Machine</td>\n",
              "                        <td id=\"T_c3e815aa_e170_11ea_8113_0242ac1c0002row12_col1\" class=\"data row12 col1\" >0.9963</td>\n",
              "                        <td id=\"T_c3e815aa_e170_11ea_8113_0242ac1c0002row12_col2\" class=\"data row12 col2\" >0.7412</td>\n",
              "                        <td id=\"T_c3e815aa_e170_11ea_8113_0242ac1c0002row12_col3\" class=\"data row12 col3\" >0.5282</td>\n",
              "                        <td id=\"T_c3e815aa_e170_11ea_8113_0242ac1c0002row12_col4\" class=\"data row12 col4\" >0.2770</td>\n",
              "                        <td id=\"T_c3e815aa_e170_11ea_8113_0242ac1c0002row12_col5\" class=\"data row12 col5\" >0.3511</td>\n",
              "                        <td id=\"T_c3e815aa_e170_11ea_8113_0242ac1c0002row12_col6\" class=\"data row12 col6\" >0.3496</td>\n",
              "                        <td id=\"T_c3e815aa_e170_11ea_8113_0242ac1c0002row12_col7\" class=\"data row12 col7\" >0.3735</td>\n",
              "                        <td id=\"T_c3e815aa_e170_11ea_8113_0242ac1c0002row12_col8\" class=\"data row12 col8\" >2.9947</td>\n",
              "            </tr>\n",
              "            <tr>\n",
              "                        <th id=\"T_c3e815aa_e170_11ea_8113_0242ac1c0002level0_row13\" class=\"row_heading level0 row13\" >13</th>\n",
              "                        <td id=\"T_c3e815aa_e170_11ea_8113_0242ac1c0002row13_col0\" class=\"data row13 col0\" >Naive Bayes</td>\n",
              "                        <td id=\"T_c3e815aa_e170_11ea_8113_0242ac1c0002row13_col1\" class=\"data row13 col1\" >0.9935</td>\n",
              "                        <td id=\"T_c3e815aa_e170_11ea_8113_0242ac1c0002row13_col2\" class=\"data row13 col2\" >0.9657</td>\n",
              "                        <td id=\"T_c3e815aa_e170_11ea_8113_0242ac1c0002row13_col3\" class=\"data row13 col3\" >0.6400</td>\n",
              "                        <td id=\"T_c3e815aa_e170_11ea_8113_0242ac1c0002row13_col4\" class=\"data row13 col4\" >0.1571</td>\n",
              "                        <td id=\"T_c3e815aa_e170_11ea_8113_0242ac1c0002row13_col5\" class=\"data row13 col5\" >0.2519</td>\n",
              "                        <td id=\"T_c3e815aa_e170_11ea_8113_0242ac1c0002row13_col6\" class=\"data row13 col6\" >0.2499</td>\n",
              "                        <td id=\"T_c3e815aa_e170_11ea_8113_0242ac1c0002row13_col7\" class=\"data row13 col7\" >0.3147</td>\n",
              "                        <td id=\"T_c3e815aa_e170_11ea_8113_0242ac1c0002row13_col8\" class=\"data row13 col8\" >0.0762</td>\n",
              "            </tr>\n",
              "            <tr>\n",
              "                        <th id=\"T_c3e815aa_e170_11ea_8113_0242ac1c0002level0_row14\" class=\"row_heading level0 row14\" >14</th>\n",
              "                        <td id=\"T_c3e815aa_e170_11ea_8113_0242ac1c0002row14_col0\" class=\"data row14 col0\" >Quadratic Discriminant Analysis</td>\n",
              "                        <td id=\"T_c3e815aa_e170_11ea_8113_0242ac1c0002row14_col1\" class=\"data row14 col1\" >0.9776</td>\n",
              "                        <td id=\"T_c3e815aa_e170_11ea_8113_0242ac1c0002row14_col2\" class=\"data row14 col2\" >0.9701</td>\n",
              "                        <td id=\"T_c3e815aa_e170_11ea_8113_0242ac1c0002row14_col3\" class=\"data row14 col3\" >0.8604</td>\n",
              "                        <td id=\"T_c3e815aa_e170_11ea_8113_0242ac1c0002row14_col4\" class=\"data row14 col4\" >0.0628</td>\n",
              "                        <td id=\"T_c3e815aa_e170_11ea_8113_0242ac1c0002row14_col5\" class=\"data row14 col5\" >0.1171</td>\n",
              "                        <td id=\"T_c3e815aa_e170_11ea_8113_0242ac1c0002row14_col6\" class=\"data row14 col6\" >0.1143</td>\n",
              "                        <td id=\"T_c3e815aa_e170_11ea_8113_0242ac1c0002row14_col7\" class=\"data row14 col7\" >0.2290</td>\n",
              "                        <td id=\"T_c3e815aa_e170_11ea_8113_0242ac1c0002row14_col8\" class=\"data row14 col8\" >0.3464</td>\n",
              "            </tr>\n",
              "    </tbody></table>"
            ],
            "text/plain": [
              "<pandas.io.formats.style.Styler at 0x7fb16b098cf8>"
            ]
          },
          "metadata": {
            "tags": []
          }
        }
      ]
    },
    {
      "cell_type": "code",
      "metadata": {
        "id": "q6Ig5Ui0dYfW",
        "colab_type": "code",
        "colab": {
          "base_uri": "https://localhost:8080/",
          "height": 292,
          "referenced_widgets": [
            "229375c2742744edb43c24064612d15a",
            "2942c5651f5849a3a47db45dfda77082",
            "d17580e626ba4216b4261a99377cc897"
          ]
        },
        "outputId": "20f0c91b-5ced-43d9-a998-9ee7dff46a41"
      },
      "source": [
        "catboost = create_model('catboost')"
      ],
      "execution_count": null,
      "outputs": [
        {
          "output_type": "display_data",
          "data": {
            "text/html": [
              "<style  type=\"text/css\" >\n",
              "    #T_7693a1a4_e1f0_11ea_8bd8_0242ac1c0002row10_col0 {\n",
              "            background:  yellow;\n",
              "        }    #T_7693a1a4_e1f0_11ea_8bd8_0242ac1c0002row10_col1 {\n",
              "            background:  yellow;\n",
              "        }    #T_7693a1a4_e1f0_11ea_8bd8_0242ac1c0002row10_col2 {\n",
              "            background:  yellow;\n",
              "        }    #T_7693a1a4_e1f0_11ea_8bd8_0242ac1c0002row10_col3 {\n",
              "            background:  yellow;\n",
              "        }    #T_7693a1a4_e1f0_11ea_8bd8_0242ac1c0002row10_col4 {\n",
              "            background:  yellow;\n",
              "        }    #T_7693a1a4_e1f0_11ea_8bd8_0242ac1c0002row10_col5 {\n",
              "            background:  yellow;\n",
              "        }    #T_7693a1a4_e1f0_11ea_8bd8_0242ac1c0002row10_col6 {\n",
              "            background:  yellow;\n",
              "        }</style><table id=\"T_7693a1a4_e1f0_11ea_8bd8_0242ac1c0002\" ><thead>    <tr>        <th class=\"blank level0\" ></th>        <th class=\"col_heading level0 col0\" >Accuracy</th>        <th class=\"col_heading level0 col1\" >AUC</th>        <th class=\"col_heading level0 col2\" >Recall</th>        <th class=\"col_heading level0 col3\" >Prec.</th>        <th class=\"col_heading level0 col4\" >F1</th>        <th class=\"col_heading level0 col5\" >Kappa</th>        <th class=\"col_heading level0 col6\" >MCC</th>    </tr></thead><tbody>\n",
              "                <tr>\n",
              "                        <th id=\"T_7693a1a4_e1f0_11ea_8bd8_0242ac1c0002level0_row0\" class=\"row_heading level0 row0\" >0</th>\n",
              "                        <td id=\"T_7693a1a4_e1f0_11ea_8bd8_0242ac1c0002row0_col0\" class=\"data row0 col0\" >0.9995</td>\n",
              "                        <td id=\"T_7693a1a4_e1f0_11ea_8bd8_0242ac1c0002row0_col1\" class=\"data row0 col1\" >0.9454</td>\n",
              "                        <td id=\"T_7693a1a4_e1f0_11ea_8bd8_0242ac1c0002row0_col2\" class=\"data row0 col2\" >0.7429</td>\n",
              "                        <td id=\"T_7693a1a4_e1f0_11ea_8bd8_0242ac1c0002row0_col3\" class=\"data row0 col3\" >1.0000</td>\n",
              "                        <td id=\"T_7693a1a4_e1f0_11ea_8bd8_0242ac1c0002row0_col4\" class=\"data row0 col4\" >0.8525</td>\n",
              "                        <td id=\"T_7693a1a4_e1f0_11ea_8bd8_0242ac1c0002row0_col5\" class=\"data row0 col5\" >0.8522</td>\n",
              "                        <td id=\"T_7693a1a4_e1f0_11ea_8bd8_0242ac1c0002row0_col6\" class=\"data row0 col6\" >0.8617</td>\n",
              "            </tr>\n",
              "            <tr>\n",
              "                        <th id=\"T_7693a1a4_e1f0_11ea_8bd8_0242ac1c0002level0_row1\" class=\"row_heading level0 row1\" >1</th>\n",
              "                        <td id=\"T_7693a1a4_e1f0_11ea_8bd8_0242ac1c0002row1_col0\" class=\"data row1 col0\" >0.9998</td>\n",
              "                        <td id=\"T_7693a1a4_e1f0_11ea_8bd8_0242ac1c0002row1_col1\" class=\"data row1 col1\" >1.0000</td>\n",
              "                        <td id=\"T_7693a1a4_e1f0_11ea_8bd8_0242ac1c0002row1_col2\" class=\"data row1 col2\" >0.9429</td>\n",
              "                        <td id=\"T_7693a1a4_e1f0_11ea_8bd8_0242ac1c0002row1_col3\" class=\"data row1 col3\" >0.9706</td>\n",
              "                        <td id=\"T_7693a1a4_e1f0_11ea_8bd8_0242ac1c0002row1_col4\" class=\"data row1 col4\" >0.9565</td>\n",
              "                        <td id=\"T_7693a1a4_e1f0_11ea_8bd8_0242ac1c0002row1_col5\" class=\"data row1 col5\" >0.9564</td>\n",
              "                        <td id=\"T_7693a1a4_e1f0_11ea_8bd8_0242ac1c0002row1_col6\" class=\"data row1 col6\" >0.9565</td>\n",
              "            </tr>\n",
              "            <tr>\n",
              "                        <th id=\"T_7693a1a4_e1f0_11ea_8bd8_0242ac1c0002level0_row2\" class=\"row_heading level0 row2\" >2</th>\n",
              "                        <td id=\"T_7693a1a4_e1f0_11ea_8bd8_0242ac1c0002row2_col0\" class=\"data row2 col0\" >0.9996</td>\n",
              "                        <td id=\"T_7693a1a4_e1f0_11ea_8bd8_0242ac1c0002row2_col1\" class=\"data row2 col1\" >0.9970</td>\n",
              "                        <td id=\"T_7693a1a4_e1f0_11ea_8bd8_0242ac1c0002row2_col2\" class=\"data row2 col2\" >0.8857</td>\n",
              "                        <td id=\"T_7693a1a4_e1f0_11ea_8bd8_0242ac1c0002row2_col3\" class=\"data row2 col3\" >0.9118</td>\n",
              "                        <td id=\"T_7693a1a4_e1f0_11ea_8bd8_0242ac1c0002row2_col4\" class=\"data row2 col4\" >0.8986</td>\n",
              "                        <td id=\"T_7693a1a4_e1f0_11ea_8bd8_0242ac1c0002row2_col5\" class=\"data row2 col5\" >0.8984</td>\n",
              "                        <td id=\"T_7693a1a4_e1f0_11ea_8bd8_0242ac1c0002row2_col6\" class=\"data row2 col6\" >0.8985</td>\n",
              "            </tr>\n",
              "            <tr>\n",
              "                        <th id=\"T_7693a1a4_e1f0_11ea_8bd8_0242ac1c0002level0_row3\" class=\"row_heading level0 row3\" >3</th>\n",
              "                        <td id=\"T_7693a1a4_e1f0_11ea_8bd8_0242ac1c0002row3_col0\" class=\"data row3 col0\" >0.9994</td>\n",
              "                        <td id=\"T_7693a1a4_e1f0_11ea_8bd8_0242ac1c0002row3_col1\" class=\"data row3 col1\" >0.9731</td>\n",
              "                        <td id=\"T_7693a1a4_e1f0_11ea_8bd8_0242ac1c0002row3_col2\" class=\"data row3 col2\" >0.7429</td>\n",
              "                        <td id=\"T_7693a1a4_e1f0_11ea_8bd8_0242ac1c0002row3_col3\" class=\"data row3 col3\" >0.9286</td>\n",
              "                        <td id=\"T_7693a1a4_e1f0_11ea_8bd8_0242ac1c0002row3_col4\" class=\"data row3 col4\" >0.8254</td>\n",
              "                        <td id=\"T_7693a1a4_e1f0_11ea_8bd8_0242ac1c0002row3_col5\" class=\"data row3 col5\" >0.8251</td>\n",
              "                        <td id=\"T_7693a1a4_e1f0_11ea_8bd8_0242ac1c0002row3_col6\" class=\"data row3 col6\" >0.8303</td>\n",
              "            </tr>\n",
              "            <tr>\n",
              "                        <th id=\"T_7693a1a4_e1f0_11ea_8bd8_0242ac1c0002level0_row4\" class=\"row_heading level0 row4\" >4</th>\n",
              "                        <td id=\"T_7693a1a4_e1f0_11ea_8bd8_0242ac1c0002row4_col0\" class=\"data row4 col0\" >0.9995</td>\n",
              "                        <td id=\"T_7693a1a4_e1f0_11ea_8bd8_0242ac1c0002row4_col1\" class=\"data row4 col1\" >0.9501</td>\n",
              "                        <td id=\"T_7693a1a4_e1f0_11ea_8bd8_0242ac1c0002row4_col2\" class=\"data row4 col2\" >0.7647</td>\n",
              "                        <td id=\"T_7693a1a4_e1f0_11ea_8bd8_0242ac1c0002row4_col3\" class=\"data row4 col3\" >0.9286</td>\n",
              "                        <td id=\"T_7693a1a4_e1f0_11ea_8bd8_0242ac1c0002row4_col4\" class=\"data row4 col4\" >0.8387</td>\n",
              "                        <td id=\"T_7693a1a4_e1f0_11ea_8bd8_0242ac1c0002row4_col5\" class=\"data row4 col5\" >0.8385</td>\n",
              "                        <td id=\"T_7693a1a4_e1f0_11ea_8bd8_0242ac1c0002row4_col6\" class=\"data row4 col6\" >0.8424</td>\n",
              "            </tr>\n",
              "            <tr>\n",
              "                        <th id=\"T_7693a1a4_e1f0_11ea_8bd8_0242ac1c0002level0_row5\" class=\"row_heading level0 row5\" >5</th>\n",
              "                        <td id=\"T_7693a1a4_e1f0_11ea_8bd8_0242ac1c0002row5_col0\" class=\"data row5 col0\" >0.9995</td>\n",
              "                        <td id=\"T_7693a1a4_e1f0_11ea_8bd8_0242ac1c0002row5_col1\" class=\"data row5 col1\" >0.9546</td>\n",
              "                        <td id=\"T_7693a1a4_e1f0_11ea_8bd8_0242ac1c0002row5_col2\" class=\"data row5 col2\" >0.7353</td>\n",
              "                        <td id=\"T_7693a1a4_e1f0_11ea_8bd8_0242ac1c0002row5_col3\" class=\"data row5 col3\" >0.9615</td>\n",
              "                        <td id=\"T_7693a1a4_e1f0_11ea_8bd8_0242ac1c0002row5_col4\" class=\"data row5 col4\" >0.8333</td>\n",
              "                        <td id=\"T_7693a1a4_e1f0_11ea_8bd8_0242ac1c0002row5_col5\" class=\"data row5 col5\" >0.8331</td>\n",
              "                        <td id=\"T_7693a1a4_e1f0_11ea_8bd8_0242ac1c0002row5_col6\" class=\"data row5 col6\" >0.8406</td>\n",
              "            </tr>\n",
              "            <tr>\n",
              "                        <th id=\"T_7693a1a4_e1f0_11ea_8bd8_0242ac1c0002level0_row6\" class=\"row_heading level0 row6\" >6</th>\n",
              "                        <td id=\"T_7693a1a4_e1f0_11ea_8bd8_0242ac1c0002row6_col0\" class=\"data row6 col0\" >0.9997</td>\n",
              "                        <td id=\"T_7693a1a4_e1f0_11ea_8bd8_0242ac1c0002row6_col1\" class=\"data row6 col1\" >0.9829</td>\n",
              "                        <td id=\"T_7693a1a4_e1f0_11ea_8bd8_0242ac1c0002row6_col2\" class=\"data row6 col2\" >0.8235</td>\n",
              "                        <td id=\"T_7693a1a4_e1f0_11ea_8bd8_0242ac1c0002row6_col3\" class=\"data row6 col3\" >1.0000</td>\n",
              "                        <td id=\"T_7693a1a4_e1f0_11ea_8bd8_0242ac1c0002row6_col4\" class=\"data row6 col4\" >0.9032</td>\n",
              "                        <td id=\"T_7693a1a4_e1f0_11ea_8bd8_0242ac1c0002row6_col5\" class=\"data row6 col5\" >0.9031</td>\n",
              "                        <td id=\"T_7693a1a4_e1f0_11ea_8bd8_0242ac1c0002row6_col6\" class=\"data row6 col6\" >0.9073</td>\n",
              "            </tr>\n",
              "            <tr>\n",
              "                        <th id=\"T_7693a1a4_e1f0_11ea_8bd8_0242ac1c0002level0_row7\" class=\"row_heading level0 row7\" >7</th>\n",
              "                        <td id=\"T_7693a1a4_e1f0_11ea_8bd8_0242ac1c0002row7_col0\" class=\"data row7 col0\" >0.9997</td>\n",
              "                        <td id=\"T_7693a1a4_e1f0_11ea_8bd8_0242ac1c0002row7_col1\" class=\"data row7 col1\" >0.9914</td>\n",
              "                        <td id=\"T_7693a1a4_e1f0_11ea_8bd8_0242ac1c0002row7_col2\" class=\"data row7 col2\" >0.8824</td>\n",
              "                        <td id=\"T_7693a1a4_e1f0_11ea_8bd8_0242ac1c0002row7_col3\" class=\"data row7 col3\" >0.9677</td>\n",
              "                        <td id=\"T_7693a1a4_e1f0_11ea_8bd8_0242ac1c0002row7_col4\" class=\"data row7 col4\" >0.9231</td>\n",
              "                        <td id=\"T_7693a1a4_e1f0_11ea_8bd8_0242ac1c0002row7_col5\" class=\"data row7 col5\" >0.9230</td>\n",
              "                        <td id=\"T_7693a1a4_e1f0_11ea_8bd8_0242ac1c0002row7_col6\" class=\"data row7 col6\" >0.9239</td>\n",
              "            </tr>\n",
              "            <tr>\n",
              "                        <th id=\"T_7693a1a4_e1f0_11ea_8bd8_0242ac1c0002level0_row8\" class=\"row_heading level0 row8\" >8</th>\n",
              "                        <td id=\"T_7693a1a4_e1f0_11ea_8bd8_0242ac1c0002row8_col0\" class=\"data row8 col0\" >0.9996</td>\n",
              "                        <td id=\"T_7693a1a4_e1f0_11ea_8bd8_0242ac1c0002row8_col1\" class=\"data row8 col1\" >0.9980</td>\n",
              "                        <td id=\"T_7693a1a4_e1f0_11ea_8bd8_0242ac1c0002row8_col2\" class=\"data row8 col2\" >0.8529</td>\n",
              "                        <td id=\"T_7693a1a4_e1f0_11ea_8bd8_0242ac1c0002row8_col3\" class=\"data row8 col3\" >0.9355</td>\n",
              "                        <td id=\"T_7693a1a4_e1f0_11ea_8bd8_0242ac1c0002row8_col4\" class=\"data row8 col4\" >0.8923</td>\n",
              "                        <td id=\"T_7693a1a4_e1f0_11ea_8bd8_0242ac1c0002row8_col5\" class=\"data row8 col5\" >0.8921</td>\n",
              "                        <td id=\"T_7693a1a4_e1f0_11ea_8bd8_0242ac1c0002row8_col6\" class=\"data row8 col6\" >0.8931</td>\n",
              "            </tr>\n",
              "            <tr>\n",
              "                        <th id=\"T_7693a1a4_e1f0_11ea_8bd8_0242ac1c0002level0_row9\" class=\"row_heading level0 row9\" >9</th>\n",
              "                        <td id=\"T_7693a1a4_e1f0_11ea_8bd8_0242ac1c0002row9_col0\" class=\"data row9 col0\" >0.9995</td>\n",
              "                        <td id=\"T_7693a1a4_e1f0_11ea_8bd8_0242ac1c0002row9_col1\" class=\"data row9 col1\" >0.9253</td>\n",
              "                        <td id=\"T_7693a1a4_e1f0_11ea_8bd8_0242ac1c0002row9_col2\" class=\"data row9 col2\" >0.7353</td>\n",
              "                        <td id=\"T_7693a1a4_e1f0_11ea_8bd8_0242ac1c0002row9_col3\" class=\"data row9 col3\" >0.9615</td>\n",
              "                        <td id=\"T_7693a1a4_e1f0_11ea_8bd8_0242ac1c0002row9_col4\" class=\"data row9 col4\" >0.8333</td>\n",
              "                        <td id=\"T_7693a1a4_e1f0_11ea_8bd8_0242ac1c0002row9_col5\" class=\"data row9 col5\" >0.8331</td>\n",
              "                        <td id=\"T_7693a1a4_e1f0_11ea_8bd8_0242ac1c0002row9_col6\" class=\"data row9 col6\" >0.8406</td>\n",
              "            </tr>\n",
              "            <tr>\n",
              "                        <th id=\"T_7693a1a4_e1f0_11ea_8bd8_0242ac1c0002level0_row10\" class=\"row_heading level0 row10\" >Mean</th>\n",
              "                        <td id=\"T_7693a1a4_e1f0_11ea_8bd8_0242ac1c0002row10_col0\" class=\"data row10 col0\" >0.9996</td>\n",
              "                        <td id=\"T_7693a1a4_e1f0_11ea_8bd8_0242ac1c0002row10_col1\" class=\"data row10 col1\" >0.9718</td>\n",
              "                        <td id=\"T_7693a1a4_e1f0_11ea_8bd8_0242ac1c0002row10_col2\" class=\"data row10 col2\" >0.8108</td>\n",
              "                        <td id=\"T_7693a1a4_e1f0_11ea_8bd8_0242ac1c0002row10_col3\" class=\"data row10 col3\" >0.9566</td>\n",
              "                        <td id=\"T_7693a1a4_e1f0_11ea_8bd8_0242ac1c0002row10_col4\" class=\"data row10 col4\" >0.8757</td>\n",
              "                        <td id=\"T_7693a1a4_e1f0_11ea_8bd8_0242ac1c0002row10_col5\" class=\"data row10 col5\" >0.8755</td>\n",
              "                        <td id=\"T_7693a1a4_e1f0_11ea_8bd8_0242ac1c0002row10_col6\" class=\"data row10 col6\" >0.8795</td>\n",
              "            </tr>\n",
              "            <tr>\n",
              "                        <th id=\"T_7693a1a4_e1f0_11ea_8bd8_0242ac1c0002level0_row11\" class=\"row_heading level0 row11\" >SD</th>\n",
              "                        <td id=\"T_7693a1a4_e1f0_11ea_8bd8_0242ac1c0002row11_col0\" class=\"data row11 col0\" >0.0001</td>\n",
              "                        <td id=\"T_7693a1a4_e1f0_11ea_8bd8_0242ac1c0002row11_col1\" class=\"data row11 col1\" >0.0250</td>\n",
              "                        <td id=\"T_7693a1a4_e1f0_11ea_8bd8_0242ac1c0002row11_col2\" class=\"data row11 col2\" >0.0727</td>\n",
              "                        <td id=\"T_7693a1a4_e1f0_11ea_8bd8_0242ac1c0002row11_col3\" class=\"data row11 col3\" >0.0286</td>\n",
              "                        <td id=\"T_7693a1a4_e1f0_11ea_8bd8_0242ac1c0002row11_col4\" class=\"data row11 col4\" >0.0428</td>\n",
              "                        <td id=\"T_7693a1a4_e1f0_11ea_8bd8_0242ac1c0002row11_col5\" class=\"data row11 col5\" >0.0429</td>\n",
              "                        <td id=\"T_7693a1a4_e1f0_11ea_8bd8_0242ac1c0002row11_col6\" class=\"data row11 col6\" >0.0405</td>\n",
              "            </tr>\n",
              "    </tbody></table>"
            ],
            "text/plain": [
              "<pandas.io.formats.style.Styler at 0x7fe1d1d613c8>"
            ]
          },
          "metadata": {
            "tags": []
          }
        }
      ]
    },
    {
      "cell_type": "code",
      "metadata": {
        "id": "_qJ2PSstguUd",
        "colab_type": "code",
        "colab": {
          "base_uri": "https://localhost:8080/",
          "height": 292,
          "referenced_widgets": [
            "710aae2815584ba3b83c01bf73925608",
            "fd3bcd49c77b46868a321b1b105d8a1f",
            "6f2fd93d405a47e997b8106ab7f61e11"
          ]
        },
        "outputId": "45490430-e372-4f09-b9a9-5f5a8af7fa6c"
      },
      "source": [
        "tuned_catboost = tune_model(catboost)"
      ],
      "execution_count": null,
      "outputs": [
        {
          "output_type": "display_data",
          "data": {
            "text/html": [
              "<style  type=\"text/css\" >\n",
              "    #T_03791736_e177_11ea_8113_0242ac1c0002row10_col0 {\n",
              "            background:  yellow;\n",
              "        }    #T_03791736_e177_11ea_8113_0242ac1c0002row10_col1 {\n",
              "            background:  yellow;\n",
              "        }    #T_03791736_e177_11ea_8113_0242ac1c0002row10_col2 {\n",
              "            background:  yellow;\n",
              "        }    #T_03791736_e177_11ea_8113_0242ac1c0002row10_col3 {\n",
              "            background:  yellow;\n",
              "        }    #T_03791736_e177_11ea_8113_0242ac1c0002row10_col4 {\n",
              "            background:  yellow;\n",
              "        }    #T_03791736_e177_11ea_8113_0242ac1c0002row10_col5 {\n",
              "            background:  yellow;\n",
              "        }    #T_03791736_e177_11ea_8113_0242ac1c0002row10_col6 {\n",
              "            background:  yellow;\n",
              "        }</style><table id=\"T_03791736_e177_11ea_8113_0242ac1c0002\" ><thead>    <tr>        <th class=\"blank level0\" ></th>        <th class=\"col_heading level0 col0\" >Accuracy</th>        <th class=\"col_heading level0 col1\" >AUC</th>        <th class=\"col_heading level0 col2\" >Recall</th>        <th class=\"col_heading level0 col3\" >Prec.</th>        <th class=\"col_heading level0 col4\" >F1</th>        <th class=\"col_heading level0 col5\" >Kappa</th>        <th class=\"col_heading level0 col6\" >MCC</th>    </tr></thead><tbody>\n",
              "                <tr>\n",
              "                        <th id=\"T_03791736_e177_11ea_8113_0242ac1c0002level0_row0\" class=\"row_heading level0 row0\" >0</th>\n",
              "                        <td id=\"T_03791736_e177_11ea_8113_0242ac1c0002row0_col0\" class=\"data row0 col0\" >0.9996</td>\n",
              "                        <td id=\"T_03791736_e177_11ea_8113_0242ac1c0002row0_col1\" class=\"data row0 col1\" >0.9873</td>\n",
              "                        <td id=\"T_03791736_e177_11ea_8113_0242ac1c0002row0_col2\" class=\"data row0 col2\" >0.7714</td>\n",
              "                        <td id=\"T_03791736_e177_11ea_8113_0242ac1c0002row0_col3\" class=\"data row0 col3\" >1.0000</td>\n",
              "                        <td id=\"T_03791736_e177_11ea_8113_0242ac1c0002row0_col4\" class=\"data row0 col4\" >0.8710</td>\n",
              "                        <td id=\"T_03791736_e177_11ea_8113_0242ac1c0002row0_col5\" class=\"data row0 col5\" >0.8708</td>\n",
              "                        <td id=\"T_03791736_e177_11ea_8113_0242ac1c0002row0_col6\" class=\"data row0 col6\" >0.8781</td>\n",
              "            </tr>\n",
              "            <tr>\n",
              "                        <th id=\"T_03791736_e177_11ea_8113_0242ac1c0002level0_row1\" class=\"row_heading level0 row1\" >1</th>\n",
              "                        <td id=\"T_03791736_e177_11ea_8113_0242ac1c0002row1_col0\" class=\"data row1 col0\" >0.9996</td>\n",
              "                        <td id=\"T_03791736_e177_11ea_8113_0242ac1c0002row1_col1\" class=\"data row1 col1\" >0.9762</td>\n",
              "                        <td id=\"T_03791736_e177_11ea_8113_0242ac1c0002row1_col2\" class=\"data row1 col2\" >0.8286</td>\n",
              "                        <td id=\"T_03791736_e177_11ea_8113_0242ac1c0002row1_col3\" class=\"data row1 col3\" >0.9667</td>\n",
              "                        <td id=\"T_03791736_e177_11ea_8113_0242ac1c0002row1_col4\" class=\"data row1 col4\" >0.8923</td>\n",
              "                        <td id=\"T_03791736_e177_11ea_8113_0242ac1c0002row1_col5\" class=\"data row1 col5\" >0.8921</td>\n",
              "                        <td id=\"T_03791736_e177_11ea_8113_0242ac1c0002row1_col6\" class=\"data row1 col6\" >0.8948</td>\n",
              "            </tr>\n",
              "            <tr>\n",
              "                        <th id=\"T_03791736_e177_11ea_8113_0242ac1c0002level0_row2\" class=\"row_heading level0 row2\" >2</th>\n",
              "                        <td id=\"T_03791736_e177_11ea_8113_0242ac1c0002row2_col0\" class=\"data row2 col0\" >0.9997</td>\n",
              "                        <td id=\"T_03791736_e177_11ea_8113_0242ac1c0002row2_col1\" class=\"data row2 col1\" >0.9782</td>\n",
              "                        <td id=\"T_03791736_e177_11ea_8113_0242ac1c0002row2_col2\" class=\"data row2 col2\" >0.8857</td>\n",
              "                        <td id=\"T_03791736_e177_11ea_8113_0242ac1c0002row2_col3\" class=\"data row2 col3\" >0.9394</td>\n",
              "                        <td id=\"T_03791736_e177_11ea_8113_0242ac1c0002row2_col4\" class=\"data row2 col4\" >0.9118</td>\n",
              "                        <td id=\"T_03791736_e177_11ea_8113_0242ac1c0002row2_col5\" class=\"data row2 col5\" >0.9116</td>\n",
              "                        <td id=\"T_03791736_e177_11ea_8113_0242ac1c0002row2_col6\" class=\"data row2 col6\" >0.9120</td>\n",
              "            </tr>\n",
              "            <tr>\n",
              "                        <th id=\"T_03791736_e177_11ea_8113_0242ac1c0002level0_row3\" class=\"row_heading level0 row3\" >3</th>\n",
              "                        <td id=\"T_03791736_e177_11ea_8113_0242ac1c0002row3_col0\" class=\"data row3 col0\" >0.9995</td>\n",
              "                        <td id=\"T_03791736_e177_11ea_8113_0242ac1c0002row3_col1\" class=\"data row3 col1\" >0.9633</td>\n",
              "                        <td id=\"T_03791736_e177_11ea_8113_0242ac1c0002row3_col2\" class=\"data row3 col2\" >0.7714</td>\n",
              "                        <td id=\"T_03791736_e177_11ea_8113_0242ac1c0002row3_col3\" class=\"data row3 col3\" >0.9310</td>\n",
              "                        <td id=\"T_03791736_e177_11ea_8113_0242ac1c0002row3_col4\" class=\"data row3 col4\" >0.8438</td>\n",
              "                        <td id=\"T_03791736_e177_11ea_8113_0242ac1c0002row3_col5\" class=\"data row3 col5\" >0.8435</td>\n",
              "                        <td id=\"T_03791736_e177_11ea_8113_0242ac1c0002row3_col6\" class=\"data row3 col6\" >0.8472</td>\n",
              "            </tr>\n",
              "            <tr>\n",
              "                        <th id=\"T_03791736_e177_11ea_8113_0242ac1c0002level0_row4\" class=\"row_heading level0 row4\" >4</th>\n",
              "                        <td id=\"T_03791736_e177_11ea_8113_0242ac1c0002row4_col0\" class=\"data row4 col0\" >0.9996</td>\n",
              "                        <td id=\"T_03791736_e177_11ea_8113_0242ac1c0002row4_col1\" class=\"data row4 col1\" >0.9975</td>\n",
              "                        <td id=\"T_03791736_e177_11ea_8113_0242ac1c0002row4_col2\" class=\"data row4 col2\" >0.7941</td>\n",
              "                        <td id=\"T_03791736_e177_11ea_8113_0242ac1c0002row4_col3\" class=\"data row4 col3\" >1.0000</td>\n",
              "                        <td id=\"T_03791736_e177_11ea_8113_0242ac1c0002row4_col4\" class=\"data row4 col4\" >0.8852</td>\n",
              "                        <td id=\"T_03791736_e177_11ea_8113_0242ac1c0002row4_col5\" class=\"data row4 col5\" >0.8851</td>\n",
              "                        <td id=\"T_03791736_e177_11ea_8113_0242ac1c0002row4_col6\" class=\"data row4 col6\" >0.8910</td>\n",
              "            </tr>\n",
              "            <tr>\n",
              "                        <th id=\"T_03791736_e177_11ea_8113_0242ac1c0002level0_row5\" class=\"row_heading level0 row5\" >5</th>\n",
              "                        <td id=\"T_03791736_e177_11ea_8113_0242ac1c0002row5_col0\" class=\"data row5 col0\" >0.9996</td>\n",
              "                        <td id=\"T_03791736_e177_11ea_8113_0242ac1c0002row5_col1\" class=\"data row5 col1\" >0.9916</td>\n",
              "                        <td id=\"T_03791736_e177_11ea_8113_0242ac1c0002row5_col2\" class=\"data row5 col2\" >0.8235</td>\n",
              "                        <td id=\"T_03791736_e177_11ea_8113_0242ac1c0002row5_col3\" class=\"data row5 col3\" >0.9333</td>\n",
              "                        <td id=\"T_03791736_e177_11ea_8113_0242ac1c0002row5_col4\" class=\"data row5 col4\" >0.8750</td>\n",
              "                        <td id=\"T_03791736_e177_11ea_8113_0242ac1c0002row5_col5\" class=\"data row5 col5\" >0.8748</td>\n",
              "                        <td id=\"T_03791736_e177_11ea_8113_0242ac1c0002row5_col6\" class=\"data row5 col6\" >0.8765</td>\n",
              "            </tr>\n",
              "            <tr>\n",
              "                        <th id=\"T_03791736_e177_11ea_8113_0242ac1c0002level0_row6\" class=\"row_heading level0 row6\" >6</th>\n",
              "                        <td id=\"T_03791736_e177_11ea_8113_0242ac1c0002row6_col0\" class=\"data row6 col0\" >0.9997</td>\n",
              "                        <td id=\"T_03791736_e177_11ea_8113_0242ac1c0002row6_col1\" class=\"data row6 col1\" >0.9835</td>\n",
              "                        <td id=\"T_03791736_e177_11ea_8113_0242ac1c0002row6_col2\" class=\"data row6 col2\" >0.8529</td>\n",
              "                        <td id=\"T_03791736_e177_11ea_8113_0242ac1c0002row6_col3\" class=\"data row6 col3\" >1.0000</td>\n",
              "                        <td id=\"T_03791736_e177_11ea_8113_0242ac1c0002row6_col4\" class=\"data row6 col4\" >0.9206</td>\n",
              "                        <td id=\"T_03791736_e177_11ea_8113_0242ac1c0002row6_col5\" class=\"data row6 col5\" >0.9205</td>\n",
              "                        <td id=\"T_03791736_e177_11ea_8113_0242ac1c0002row6_col6\" class=\"data row6 col6\" >0.9234</td>\n",
              "            </tr>\n",
              "            <tr>\n",
              "                        <th id=\"T_03791736_e177_11ea_8113_0242ac1c0002level0_row7\" class=\"row_heading level0 row7\" >7</th>\n",
              "                        <td id=\"T_03791736_e177_11ea_8113_0242ac1c0002row7_col0\" class=\"data row7 col0\" >0.9993</td>\n",
              "                        <td id=\"T_03791736_e177_11ea_8113_0242ac1c0002row7_col1\" class=\"data row7 col1\" >0.9802</td>\n",
              "                        <td id=\"T_03791736_e177_11ea_8113_0242ac1c0002row7_col2\" class=\"data row7 col2\" >0.7059</td>\n",
              "                        <td id=\"T_03791736_e177_11ea_8113_0242ac1c0002row7_col3\" class=\"data row7 col3\" >0.8571</td>\n",
              "                        <td id=\"T_03791736_e177_11ea_8113_0242ac1c0002row7_col4\" class=\"data row7 col4\" >0.7742</td>\n",
              "                        <td id=\"T_03791736_e177_11ea_8113_0242ac1c0002row7_col5\" class=\"data row7 col5\" >0.7738</td>\n",
              "                        <td id=\"T_03791736_e177_11ea_8113_0242ac1c0002row7_col6\" class=\"data row7 col6\" >0.7775</td>\n",
              "            </tr>\n",
              "            <tr>\n",
              "                        <th id=\"T_03791736_e177_11ea_8113_0242ac1c0002level0_row8\" class=\"row_heading level0 row8\" >8</th>\n",
              "                        <td id=\"T_03791736_e177_11ea_8113_0242ac1c0002row8_col0\" class=\"data row8 col0\" >0.9995</td>\n",
              "                        <td id=\"T_03791736_e177_11ea_8113_0242ac1c0002row8_col1\" class=\"data row8 col1\" >0.9758</td>\n",
              "                        <td id=\"T_03791736_e177_11ea_8113_0242ac1c0002row8_col2\" class=\"data row8 col2\" >0.7353</td>\n",
              "                        <td id=\"T_03791736_e177_11ea_8113_0242ac1c0002row8_col3\" class=\"data row8 col3\" >1.0000</td>\n",
              "                        <td id=\"T_03791736_e177_11ea_8113_0242ac1c0002row8_col4\" class=\"data row8 col4\" >0.8475</td>\n",
              "                        <td id=\"T_03791736_e177_11ea_8113_0242ac1c0002row8_col5\" class=\"data row8 col5\" >0.8472</td>\n",
              "                        <td id=\"T_03791736_e177_11ea_8113_0242ac1c0002row8_col6\" class=\"data row8 col6\" >0.8573</td>\n",
              "            </tr>\n",
              "            <tr>\n",
              "                        <th id=\"T_03791736_e177_11ea_8113_0242ac1c0002level0_row9\" class=\"row_heading level0 row9\" >9</th>\n",
              "                        <td id=\"T_03791736_e177_11ea_8113_0242ac1c0002row9_col0\" class=\"data row9 col0\" >0.9996</td>\n",
              "                        <td id=\"T_03791736_e177_11ea_8113_0242ac1c0002row9_col1\" class=\"data row9 col1\" >0.9952</td>\n",
              "                        <td id=\"T_03791736_e177_11ea_8113_0242ac1c0002row9_col2\" class=\"data row9 col2\" >0.7941</td>\n",
              "                        <td id=\"T_03791736_e177_11ea_8113_0242ac1c0002row9_col3\" class=\"data row9 col3\" >0.9643</td>\n",
              "                        <td id=\"T_03791736_e177_11ea_8113_0242ac1c0002row9_col4\" class=\"data row9 col4\" >0.8710</td>\n",
              "                        <td id=\"T_03791736_e177_11ea_8113_0242ac1c0002row9_col5\" class=\"data row9 col5\" >0.8708</td>\n",
              "                        <td id=\"T_03791736_e177_11ea_8113_0242ac1c0002row9_col6\" class=\"data row9 col6\" >0.8749</td>\n",
              "            </tr>\n",
              "            <tr>\n",
              "                        <th id=\"T_03791736_e177_11ea_8113_0242ac1c0002level0_row10\" class=\"row_heading level0 row10\" >Mean</th>\n",
              "                        <td id=\"T_03791736_e177_11ea_8113_0242ac1c0002row10_col0\" class=\"data row10 col0\" >0.9996</td>\n",
              "                        <td id=\"T_03791736_e177_11ea_8113_0242ac1c0002row10_col1\" class=\"data row10 col1\" >0.9829</td>\n",
              "                        <td id=\"T_03791736_e177_11ea_8113_0242ac1c0002row10_col2\" class=\"data row10 col2\" >0.7963</td>\n",
              "                        <td id=\"T_03791736_e177_11ea_8113_0242ac1c0002row10_col3\" class=\"data row10 col3\" >0.9592</td>\n",
              "                        <td id=\"T_03791736_e177_11ea_8113_0242ac1c0002row10_col4\" class=\"data row10 col4\" >0.8692</td>\n",
              "                        <td id=\"T_03791736_e177_11ea_8113_0242ac1c0002row10_col5\" class=\"data row10 col5\" >0.8690</td>\n",
              "                        <td id=\"T_03791736_e177_11ea_8113_0242ac1c0002row10_col6\" class=\"data row10 col6\" >0.8733</td>\n",
              "            </tr>\n",
              "            <tr>\n",
              "                        <th id=\"T_03791736_e177_11ea_8113_0242ac1c0002level0_row11\" class=\"row_heading level0 row11\" >SD</th>\n",
              "                        <td id=\"T_03791736_e177_11ea_8113_0242ac1c0002row11_col0\" class=\"data row11 col0\" >0.0001</td>\n",
              "                        <td id=\"T_03791736_e177_11ea_8113_0242ac1c0002row11_col1\" class=\"data row11 col1\" >0.0098</td>\n",
              "                        <td id=\"T_03791736_e177_11ea_8113_0242ac1c0002row11_col2\" class=\"data row11 col2\" >0.0511</td>\n",
              "                        <td id=\"T_03791736_e177_11ea_8113_0242ac1c0002row11_col3\" class=\"data row11 col3\" >0.0436</td>\n",
              "                        <td id=\"T_03791736_e177_11ea_8113_0242ac1c0002row11_col4\" class=\"data row11 col4\" >0.0393</td>\n",
              "                        <td id=\"T_03791736_e177_11ea_8113_0242ac1c0002row11_col5\" class=\"data row11 col5\" >0.0393</td>\n",
              "                        <td id=\"T_03791736_e177_11ea_8113_0242ac1c0002row11_col6\" class=\"data row11 col6\" >0.0386</td>\n",
              "            </tr>\n",
              "    </tbody></table>"
            ],
            "text/plain": [
              "<pandas.io.formats.style.Styler at 0x7fb19b1b4710>"
            ]
          },
          "metadata": {
            "tags": []
          }
        }
      ]
    },
    {
      "cell_type": "code",
      "metadata": {
        "id": "NWNBtT7smQTm",
        "colab_type": "code",
        "colab": {
          "base_uri": "https://localhost:8080/",
          "height": 1000
        },
        "outputId": "73e6a759-579c-43b3-e303-f5dc7453387e"
      },
      "source": [
        "from catboost import CatBoostClassifier\n",
        "cat=CatBoostClassifier()\n",
        "cat.fit(X_train,Y_train)"
      ],
      "execution_count": null,
      "outputs": [
        {
          "output_type": "stream",
          "text": [
            "Learning rate set to 0.098829\n",
            "0:\tlearn: 0.3637795\ttotal: 127ms\tremaining: 2m 6s\n",
            "1:\tlearn: 0.1968380\ttotal: 205ms\tremaining: 1m 42s\n",
            "2:\tlearn: 0.1055782\ttotal: 278ms\tremaining: 1m 32s\n",
            "3:\tlearn: 0.0588021\ttotal: 349ms\tremaining: 1m 26s\n",
            "4:\tlearn: 0.0348034\ttotal: 427ms\tremaining: 1m 24s\n",
            "5:\tlearn: 0.0221403\ttotal: 494ms\tremaining: 1m 21s\n",
            "6:\tlearn: 0.0148589\ttotal: 558ms\tremaining: 1m 19s\n",
            "7:\tlearn: 0.0103591\ttotal: 637ms\tremaining: 1m 19s\n",
            "8:\tlearn: 0.0078168\ttotal: 705ms\tremaining: 1m 17s\n",
            "9:\tlearn: 0.0061547\ttotal: 773ms\tremaining: 1m 16s\n",
            "10:\tlearn: 0.0050153\ttotal: 843ms\tremaining: 1m 15s\n",
            "11:\tlearn: 0.0043004\ttotal: 912ms\tremaining: 1m 15s\n",
            "12:\tlearn: 0.0038036\ttotal: 986ms\tremaining: 1m 14s\n",
            "13:\tlearn: 0.0034092\ttotal: 1.06s\tremaining: 1m 14s\n",
            "14:\tlearn: 0.0031354\ttotal: 1.13s\tremaining: 1m 14s\n",
            "15:\tlearn: 0.0029350\ttotal: 1.2s\tremaining: 1m 13s\n",
            "16:\tlearn: 0.0027920\ttotal: 1.27s\tremaining: 1m 13s\n",
            "17:\tlearn: 0.0026597\ttotal: 1.36s\tremaining: 1m 14s\n",
            "18:\tlearn: 0.0025445\ttotal: 1.43s\tremaining: 1m 13s\n",
            "19:\tlearn: 0.0024798\ttotal: 1.5s\tremaining: 1m 13s\n",
            "20:\tlearn: 0.0024282\ttotal: 1.57s\tremaining: 1m 13s\n",
            "21:\tlearn: 0.0023812\ttotal: 1.65s\tremaining: 1m 13s\n",
            "22:\tlearn: 0.0023406\ttotal: 1.73s\tremaining: 1m 13s\n",
            "23:\tlearn: 0.0022886\ttotal: 1.8s\tremaining: 1m 13s\n",
            "24:\tlearn: 0.0022558\ttotal: 1.86s\tremaining: 1m 12s\n",
            "25:\tlearn: 0.0022228\ttotal: 1.94s\tremaining: 1m 12s\n",
            "26:\tlearn: 0.0021998\ttotal: 2.01s\tremaining: 1m 12s\n",
            "27:\tlearn: 0.0021880\ttotal: 2.08s\tremaining: 1m 12s\n",
            "28:\tlearn: 0.0021773\ttotal: 2.15s\tremaining: 1m 11s\n",
            "29:\tlearn: 0.0021698\ttotal: 2.22s\tremaining: 1m 11s\n",
            "30:\tlearn: 0.0021523\ttotal: 2.28s\tremaining: 1m 11s\n",
            "31:\tlearn: 0.0021327\ttotal: 2.35s\tremaining: 1m 11s\n",
            "32:\tlearn: 0.0021113\ttotal: 2.42s\tremaining: 1m 10s\n",
            "33:\tlearn: 0.0020915\ttotal: 2.49s\tremaining: 1m 10s\n",
            "34:\tlearn: 0.0020688\ttotal: 2.56s\tremaining: 1m 10s\n",
            "35:\tlearn: 0.0020504\ttotal: 2.63s\tremaining: 1m 10s\n",
            "36:\tlearn: 0.0020119\ttotal: 2.71s\tremaining: 1m 10s\n",
            "37:\tlearn: 0.0019949\ttotal: 2.78s\tremaining: 1m 10s\n",
            "38:\tlearn: 0.0019879\ttotal: 2.85s\tremaining: 1m 10s\n",
            "39:\tlearn: 0.0019736\ttotal: 2.92s\tremaining: 1m 10s\n",
            "40:\tlearn: 0.0019636\ttotal: 3s\tremaining: 1m 10s\n",
            "41:\tlearn: 0.0019437\ttotal: 3.07s\tremaining: 1m 10s\n",
            "42:\tlearn: 0.0019314\ttotal: 3.13s\tremaining: 1m 9s\n",
            "43:\tlearn: 0.0019163\ttotal: 3.21s\tremaining: 1m 9s\n",
            "44:\tlearn: 0.0018993\ttotal: 3.27s\tremaining: 1m 9s\n",
            "45:\tlearn: 0.0018847\ttotal: 3.34s\tremaining: 1m 9s\n",
            "46:\tlearn: 0.0018696\ttotal: 3.41s\tremaining: 1m 9s\n",
            "47:\tlearn: 0.0018573\ttotal: 3.48s\tremaining: 1m 8s\n",
            "48:\tlearn: 0.0018439\ttotal: 3.54s\tremaining: 1m 8s\n",
            "49:\tlearn: 0.0018346\ttotal: 3.61s\tremaining: 1m 8s\n",
            "50:\tlearn: 0.0018272\ttotal: 3.69s\tremaining: 1m 8s\n",
            "51:\tlearn: 0.0018187\ttotal: 3.76s\tremaining: 1m 8s\n",
            "52:\tlearn: 0.0018033\ttotal: 3.83s\tremaining: 1m 8s\n",
            "53:\tlearn: 0.0017929\ttotal: 3.89s\tremaining: 1m 8s\n",
            "54:\tlearn: 0.0017847\ttotal: 3.96s\tremaining: 1m 8s\n",
            "55:\tlearn: 0.0017741\ttotal: 4.04s\tremaining: 1m 8s\n",
            "56:\tlearn: 0.0017667\ttotal: 4.1s\tremaining: 1m 7s\n",
            "57:\tlearn: 0.0017572\ttotal: 4.17s\tremaining: 1m 7s\n",
            "58:\tlearn: 0.0017475\ttotal: 4.24s\tremaining: 1m 7s\n",
            "59:\tlearn: 0.0017419\ttotal: 4.3s\tremaining: 1m 7s\n",
            "60:\tlearn: 0.0017308\ttotal: 4.38s\tremaining: 1m 7s\n",
            "61:\tlearn: 0.0017230\ttotal: 4.45s\tremaining: 1m 7s\n",
            "62:\tlearn: 0.0017164\ttotal: 4.52s\tremaining: 1m 7s\n",
            "63:\tlearn: 0.0017068\ttotal: 4.59s\tremaining: 1m 7s\n",
            "64:\tlearn: 0.0016947\ttotal: 4.67s\tremaining: 1m 7s\n",
            "65:\tlearn: 0.0016789\ttotal: 4.74s\tremaining: 1m 7s\n",
            "66:\tlearn: 0.0016681\ttotal: 4.82s\tremaining: 1m 7s\n",
            "67:\tlearn: 0.0016567\ttotal: 4.88s\tremaining: 1m 6s\n",
            "68:\tlearn: 0.0016461\ttotal: 4.95s\tremaining: 1m 6s\n",
            "69:\tlearn: 0.0016351\ttotal: 5.03s\tremaining: 1m 6s\n",
            "70:\tlearn: 0.0016213\ttotal: 5.1s\tremaining: 1m 6s\n",
            "71:\tlearn: 0.0016114\ttotal: 5.17s\tremaining: 1m 6s\n",
            "72:\tlearn: 0.0016047\ttotal: 5.24s\tremaining: 1m 6s\n",
            "73:\tlearn: 0.0015927\ttotal: 5.31s\tremaining: 1m 6s\n",
            "74:\tlearn: 0.0015781\ttotal: 5.38s\tremaining: 1m 6s\n",
            "75:\tlearn: 0.0015706\ttotal: 5.45s\tremaining: 1m 6s\n",
            "76:\tlearn: 0.0015628\ttotal: 5.52s\tremaining: 1m 6s\n",
            "77:\tlearn: 0.0015498\ttotal: 5.58s\tremaining: 1m 6s\n",
            "78:\tlearn: 0.0015411\ttotal: 5.65s\tremaining: 1m 5s\n",
            "79:\tlearn: 0.0015364\ttotal: 5.73s\tremaining: 1m 5s\n",
            "80:\tlearn: 0.0015297\ttotal: 5.79s\tremaining: 1m 5s\n",
            "81:\tlearn: 0.0015221\ttotal: 5.86s\tremaining: 1m 5s\n",
            "82:\tlearn: 0.0015128\ttotal: 5.92s\tremaining: 1m 5s\n",
            "83:\tlearn: 0.0015047\ttotal: 6s\tremaining: 1m 5s\n",
            "84:\tlearn: 0.0014977\ttotal: 6.07s\tremaining: 1m 5s\n",
            "85:\tlearn: 0.0014908\ttotal: 6.14s\tremaining: 1m 5s\n",
            "86:\tlearn: 0.0014747\ttotal: 6.21s\tremaining: 1m 5s\n",
            "87:\tlearn: 0.0014692\ttotal: 6.28s\tremaining: 1m 5s\n",
            "88:\tlearn: 0.0014638\ttotal: 6.35s\tremaining: 1m 5s\n",
            "89:\tlearn: 0.0014534\ttotal: 6.43s\tremaining: 1m 5s\n",
            "90:\tlearn: 0.0014465\ttotal: 6.5s\tremaining: 1m 4s\n",
            "91:\tlearn: 0.0014364\ttotal: 6.58s\tremaining: 1m 4s\n",
            "92:\tlearn: 0.0014340\ttotal: 6.66s\tremaining: 1m 4s\n",
            "93:\tlearn: 0.0014239\ttotal: 6.75s\tremaining: 1m 5s\n",
            "94:\tlearn: 0.0014187\ttotal: 6.82s\tremaining: 1m 4s\n",
            "95:\tlearn: 0.0014086\ttotal: 6.9s\tremaining: 1m 4s\n",
            "96:\tlearn: 0.0014030\ttotal: 6.97s\tremaining: 1m 4s\n",
            "97:\tlearn: 0.0013972\ttotal: 7.05s\tremaining: 1m 4s\n",
            "98:\tlearn: 0.0013939\ttotal: 7.13s\tremaining: 1m 4s\n",
            "99:\tlearn: 0.0013893\ttotal: 7.2s\tremaining: 1m 4s\n",
            "100:\tlearn: 0.0013817\ttotal: 7.27s\tremaining: 1m 4s\n",
            "101:\tlearn: 0.0013749\ttotal: 7.35s\tremaining: 1m 4s\n",
            "102:\tlearn: 0.0013700\ttotal: 7.42s\tremaining: 1m 4s\n",
            "103:\tlearn: 0.0013643\ttotal: 7.49s\tremaining: 1m 4s\n",
            "104:\tlearn: 0.0013571\ttotal: 7.56s\tremaining: 1m 4s\n",
            "105:\tlearn: 0.0013462\ttotal: 7.64s\tremaining: 1m 4s\n",
            "106:\tlearn: 0.0013399\ttotal: 7.71s\tremaining: 1m 4s\n",
            "107:\tlearn: 0.0013339\ttotal: 7.78s\tremaining: 1m 4s\n",
            "108:\tlearn: 0.0013308\ttotal: 7.85s\tremaining: 1m 4s\n",
            "109:\tlearn: 0.0013268\ttotal: 7.92s\tremaining: 1m 4s\n",
            "110:\tlearn: 0.0013201\ttotal: 7.99s\tremaining: 1m 4s\n",
            "111:\tlearn: 0.0013096\ttotal: 8.07s\tremaining: 1m 3s\n",
            "112:\tlearn: 0.0013059\ttotal: 8.13s\tremaining: 1m 3s\n",
            "113:\tlearn: 0.0012961\ttotal: 8.21s\tremaining: 1m 3s\n",
            "114:\tlearn: 0.0012887\ttotal: 8.28s\tremaining: 1m 3s\n",
            "115:\tlearn: 0.0012837\ttotal: 8.35s\tremaining: 1m 3s\n",
            "116:\tlearn: 0.0012786\ttotal: 8.43s\tremaining: 1m 3s\n",
            "117:\tlearn: 0.0012648\ttotal: 8.5s\tremaining: 1m 3s\n",
            "118:\tlearn: 0.0012544\ttotal: 8.57s\tremaining: 1m 3s\n",
            "119:\tlearn: 0.0012495\ttotal: 8.64s\tremaining: 1m 3s\n",
            "120:\tlearn: 0.0012458\ttotal: 8.71s\tremaining: 1m 3s\n",
            "121:\tlearn: 0.0012418\ttotal: 8.78s\tremaining: 1m 3s\n",
            "122:\tlearn: 0.0012361\ttotal: 8.86s\tremaining: 1m 3s\n",
            "123:\tlearn: 0.0012318\ttotal: 8.93s\tremaining: 1m 3s\n",
            "124:\tlearn: 0.0012224\ttotal: 9s\tremaining: 1m 3s\n",
            "125:\tlearn: 0.0012143\ttotal: 9.08s\tremaining: 1m 2s\n",
            "126:\tlearn: 0.0012066\ttotal: 9.15s\tremaining: 1m 2s\n",
            "127:\tlearn: 0.0011961\ttotal: 9.21s\tremaining: 1m 2s\n",
            "128:\tlearn: 0.0011941\ttotal: 9.28s\tremaining: 1m 2s\n",
            "129:\tlearn: 0.0011908\ttotal: 9.35s\tremaining: 1m 2s\n",
            "130:\tlearn: 0.0011836\ttotal: 9.42s\tremaining: 1m 2s\n",
            "131:\tlearn: 0.0011795\ttotal: 9.49s\tremaining: 1m 2s\n",
            "132:\tlearn: 0.0011711\ttotal: 9.56s\tremaining: 1m 2s\n",
            "133:\tlearn: 0.0011680\ttotal: 9.63s\tremaining: 1m 2s\n",
            "134:\tlearn: 0.0011638\ttotal: 9.7s\tremaining: 1m 2s\n",
            "135:\tlearn: 0.0011564\ttotal: 9.79s\tremaining: 1m 2s\n",
            "136:\tlearn: 0.0011497\ttotal: 9.85s\tremaining: 1m 2s\n",
            "137:\tlearn: 0.0011473\ttotal: 9.92s\tremaining: 1m 1s\n",
            "138:\tlearn: 0.0011437\ttotal: 9.98s\tremaining: 1m 1s\n",
            "139:\tlearn: 0.0011411\ttotal: 10.1s\tremaining: 1m 1s\n",
            "140:\tlearn: 0.0011392\ttotal: 10.1s\tremaining: 1m 1s\n",
            "141:\tlearn: 0.0011363\ttotal: 10.2s\tremaining: 1m 1s\n",
            "142:\tlearn: 0.0011334\ttotal: 10.3s\tremaining: 1m 1s\n",
            "143:\tlearn: 0.0011261\ttotal: 10.3s\tremaining: 1m 1s\n",
            "144:\tlearn: 0.0011178\ttotal: 10.4s\tremaining: 1m 1s\n",
            "145:\tlearn: 0.0011156\ttotal: 10.5s\tremaining: 1m 1s\n",
            "146:\tlearn: 0.0011118\ttotal: 10.6s\tremaining: 1m 1s\n",
            "147:\tlearn: 0.0011091\ttotal: 10.6s\tremaining: 1m 1s\n",
            "148:\tlearn: 0.0011055\ttotal: 10.7s\tremaining: 1m 1s\n",
            "149:\tlearn: 0.0011038\ttotal: 10.8s\tremaining: 1m 1s\n",
            "150:\tlearn: 0.0011023\ttotal: 10.8s\tremaining: 1m\n",
            "151:\tlearn: 0.0010963\ttotal: 10.9s\tremaining: 1m\n",
            "152:\tlearn: 0.0010925\ttotal: 11s\tremaining: 1m\n",
            "153:\tlearn: 0.0010895\ttotal: 11s\tremaining: 1m\n",
            "154:\tlearn: 0.0010875\ttotal: 11.1s\tremaining: 1m\n",
            "155:\tlearn: 0.0010854\ttotal: 11.2s\tremaining: 1m\n",
            "156:\tlearn: 0.0010830\ttotal: 11.3s\tremaining: 1m\n",
            "157:\tlearn: 0.0010785\ttotal: 11.3s\tremaining: 1m\n",
            "158:\tlearn: 0.0010755\ttotal: 11.4s\tremaining: 1m\n",
            "159:\tlearn: 0.0010675\ttotal: 11.5s\tremaining: 1m\n",
            "160:\tlearn: 0.0010658\ttotal: 11.6s\tremaining: 1m\n",
            "161:\tlearn: 0.0010634\ttotal: 11.6s\tremaining: 1m\n",
            "162:\tlearn: 0.0010607\ttotal: 11.7s\tremaining: 60s\n",
            "163:\tlearn: 0.0010583\ttotal: 11.8s\tremaining: 59.9s\n",
            "164:\tlearn: 0.0010568\ttotal: 11.8s\tremaining: 59.9s\n",
            "165:\tlearn: 0.0010533\ttotal: 11.9s\tremaining: 59.8s\n",
            "166:\tlearn: 0.0010478\ttotal: 12s\tremaining: 59.7s\n",
            "167:\tlearn: 0.0010457\ttotal: 12s\tremaining: 59.6s\n",
            "168:\tlearn: 0.0010445\ttotal: 12.1s\tremaining: 59.5s\n",
            "169:\tlearn: 0.0010430\ttotal: 12.2s\tremaining: 59.5s\n",
            "170:\tlearn: 0.0010369\ttotal: 12.3s\tremaining: 59.4s\n",
            "171:\tlearn: 0.0010344\ttotal: 12.3s\tremaining: 59.3s\n",
            "172:\tlearn: 0.0010326\ttotal: 12.4s\tremaining: 59.3s\n",
            "173:\tlearn: 0.0010286\ttotal: 12.5s\tremaining: 59.2s\n",
            "174:\tlearn: 0.0010261\ttotal: 12.5s\tremaining: 59.1s\n",
            "175:\tlearn: 0.0010242\ttotal: 12.6s\tremaining: 59s\n",
            "176:\tlearn: 0.0010189\ttotal: 12.7s\tremaining: 58.9s\n",
            "177:\tlearn: 0.0010108\ttotal: 12.7s\tremaining: 58.8s\n",
            "178:\tlearn: 0.0010091\ttotal: 12.8s\tremaining: 58.8s\n",
            "179:\tlearn: 0.0010069\ttotal: 12.9s\tremaining: 58.7s\n",
            "180:\tlearn: 0.0010001\ttotal: 13s\tremaining: 58.7s\n",
            "181:\tlearn: 0.0009986\ttotal: 13s\tremaining: 58.6s\n",
            "182:\tlearn: 0.0009970\ttotal: 13.1s\tremaining: 58.6s\n",
            "183:\tlearn: 0.0009953\ttotal: 13.2s\tremaining: 58.5s\n",
            "184:\tlearn: 0.0009911\ttotal: 13.3s\tremaining: 58.4s\n",
            "185:\tlearn: 0.0009889\ttotal: 13.3s\tremaining: 58.3s\n",
            "186:\tlearn: 0.0009872\ttotal: 13.4s\tremaining: 58.3s\n",
            "187:\tlearn: 0.0009849\ttotal: 13.5s\tremaining: 58.2s\n",
            "188:\tlearn: 0.0009812\ttotal: 13.5s\tremaining: 58.1s\n",
            "189:\tlearn: 0.0009767\ttotal: 13.6s\tremaining: 58.1s\n",
            "190:\tlearn: 0.0009732\ttotal: 13.7s\tremaining: 58s\n",
            "191:\tlearn: 0.0009703\ttotal: 13.8s\tremaining: 57.9s\n",
            "192:\tlearn: 0.0009684\ttotal: 13.8s\tremaining: 57.9s\n",
            "193:\tlearn: 0.0009646\ttotal: 13.9s\tremaining: 57.8s\n",
            "194:\tlearn: 0.0009629\ttotal: 14s\tremaining: 57.7s\n",
            "195:\tlearn: 0.0009615\ttotal: 14s\tremaining: 57.6s\n",
            "196:\tlearn: 0.0009600\ttotal: 14.1s\tremaining: 57.5s\n",
            "197:\tlearn: 0.0009581\ttotal: 14.2s\tremaining: 57.5s\n",
            "198:\tlearn: 0.0009565\ttotal: 14.2s\tremaining: 57.4s\n",
            "199:\tlearn: 0.0009557\ttotal: 14.3s\tremaining: 57.3s\n",
            "200:\tlearn: 0.0009541\ttotal: 14.4s\tremaining: 57.2s\n",
            "201:\tlearn: 0.0009478\ttotal: 14.5s\tremaining: 57.1s\n",
            "202:\tlearn: 0.0009463\ttotal: 14.5s\tremaining: 57s\n",
            "203:\tlearn: 0.0009388\ttotal: 14.6s\tremaining: 56.9s\n",
            "204:\tlearn: 0.0009328\ttotal: 14.7s\tremaining: 56.9s\n",
            "205:\tlearn: 0.0009281\ttotal: 14.7s\tremaining: 56.8s\n",
            "206:\tlearn: 0.0009262\ttotal: 14.8s\tremaining: 56.7s\n",
            "207:\tlearn: 0.0009212\ttotal: 14.9s\tremaining: 56.7s\n",
            "208:\tlearn: 0.0009202\ttotal: 14.9s\tremaining: 56.6s\n",
            "209:\tlearn: 0.0009174\ttotal: 15s\tremaining: 56.5s\n",
            "210:\tlearn: 0.0009122\ttotal: 15.1s\tremaining: 56.4s\n",
            "211:\tlearn: 0.0009072\ttotal: 15.2s\tremaining: 56.4s\n",
            "212:\tlearn: 0.0009031\ttotal: 15.2s\tremaining: 56.3s\n",
            "213:\tlearn: 0.0008997\ttotal: 15.3s\tremaining: 56.3s\n",
            "214:\tlearn: 0.0008962\ttotal: 15.4s\tremaining: 56.2s\n",
            "215:\tlearn: 0.0008889\ttotal: 15.5s\tremaining: 56.1s\n",
            "216:\tlearn: 0.0008845\ttotal: 15.5s\tremaining: 56s\n",
            "217:\tlearn: 0.0008827\ttotal: 15.6s\tremaining: 56s\n",
            "218:\tlearn: 0.0008796\ttotal: 15.7s\tremaining: 55.9s\n",
            "219:\tlearn: 0.0008784\ttotal: 15.7s\tremaining: 55.8s\n",
            "220:\tlearn: 0.0008749\ttotal: 15.8s\tremaining: 55.7s\n",
            "221:\tlearn: 0.0008735\ttotal: 15.9s\tremaining: 55.7s\n",
            "222:\tlearn: 0.0008704\ttotal: 16s\tremaining: 55.6s\n",
            "223:\tlearn: 0.0008680\ttotal: 16s\tremaining: 55.5s\n",
            "224:\tlearn: 0.0008652\ttotal: 16.1s\tremaining: 55.4s\n",
            "225:\tlearn: 0.0008624\ttotal: 16.2s\tremaining: 55.4s\n",
            "226:\tlearn: 0.0008609\ttotal: 16.2s\tremaining: 55.3s\n",
            "227:\tlearn: 0.0008584\ttotal: 16.3s\tremaining: 55.2s\n",
            "228:\tlearn: 0.0008555\ttotal: 16.4s\tremaining: 55.2s\n",
            "229:\tlearn: 0.0008522\ttotal: 16.4s\tremaining: 55.1s\n",
            "230:\tlearn: 0.0008496\ttotal: 16.5s\tremaining: 55s\n",
            "231:\tlearn: 0.0008438\ttotal: 16.6s\tremaining: 55s\n",
            "232:\tlearn: 0.0008414\ttotal: 16.7s\tremaining: 54.9s\n",
            "233:\tlearn: 0.0008383\ttotal: 16.7s\tremaining: 54.8s\n",
            "234:\tlearn: 0.0008372\ttotal: 16.8s\tremaining: 54.7s\n",
            "235:\tlearn: 0.0008354\ttotal: 16.9s\tremaining: 54.7s\n",
            "236:\tlearn: 0.0008344\ttotal: 17s\tremaining: 54.6s\n",
            "237:\tlearn: 0.0008320\ttotal: 17s\tremaining: 54.6s\n",
            "238:\tlearn: 0.0008304\ttotal: 17.1s\tremaining: 54.5s\n",
            "239:\tlearn: 0.0008294\ttotal: 17.2s\tremaining: 54.4s\n",
            "240:\tlearn: 0.0008275\ttotal: 17.3s\tremaining: 54.3s\n",
            "241:\tlearn: 0.0008257\ttotal: 17.3s\tremaining: 54.3s\n",
            "242:\tlearn: 0.0008240\ttotal: 17.4s\tremaining: 54.2s\n",
            "243:\tlearn: 0.0008222\ttotal: 17.5s\tremaining: 54.1s\n",
            "244:\tlearn: 0.0008206\ttotal: 17.5s\tremaining: 54s\n",
            "245:\tlearn: 0.0008183\ttotal: 17.6s\tremaining: 54s\n",
            "246:\tlearn: 0.0008152\ttotal: 17.7s\tremaining: 53.9s\n",
            "247:\tlearn: 0.0008143\ttotal: 17.7s\tremaining: 53.8s\n",
            "248:\tlearn: 0.0008117\ttotal: 17.8s\tremaining: 53.8s\n",
            "249:\tlearn: 0.0008100\ttotal: 17.9s\tremaining: 53.7s\n",
            "250:\tlearn: 0.0008085\ttotal: 18s\tremaining: 53.7s\n",
            "251:\tlearn: 0.0008037\ttotal: 18s\tremaining: 53.6s\n",
            "252:\tlearn: 0.0008028\ttotal: 18.1s\tremaining: 53.5s\n",
            "253:\tlearn: 0.0008014\ttotal: 18.2s\tremaining: 53.4s\n",
            "254:\tlearn: 0.0008005\ttotal: 18.3s\tremaining: 53.4s\n",
            "255:\tlearn: 0.0007992\ttotal: 18.3s\tremaining: 53.3s\n",
            "256:\tlearn: 0.0007963\ttotal: 18.4s\tremaining: 53.2s\n",
            "257:\tlearn: 0.0007929\ttotal: 18.5s\tremaining: 53.1s\n",
            "258:\tlearn: 0.0007893\ttotal: 18.5s\tremaining: 53s\n",
            "259:\tlearn: 0.0007862\ttotal: 18.6s\tremaining: 53s\n",
            "260:\tlearn: 0.0007851\ttotal: 18.7s\tremaining: 52.9s\n",
            "261:\tlearn: 0.0007823\ttotal: 18.7s\tremaining: 52.8s\n",
            "262:\tlearn: 0.0007791\ttotal: 18.8s\tremaining: 52.7s\n",
            "263:\tlearn: 0.0007759\ttotal: 18.9s\tremaining: 52.6s\n",
            "264:\tlearn: 0.0007718\ttotal: 19s\tremaining: 52.6s\n",
            "265:\tlearn: 0.0007689\ttotal: 19s\tremaining: 52.5s\n",
            "266:\tlearn: 0.0007668\ttotal: 19.1s\tremaining: 52.4s\n",
            "267:\tlearn: 0.0007652\ttotal: 19.2s\tremaining: 52.4s\n",
            "268:\tlearn: 0.0007646\ttotal: 19.2s\tremaining: 52.3s\n",
            "269:\tlearn: 0.0007624\ttotal: 19.3s\tremaining: 52.2s\n",
            "270:\tlearn: 0.0007600\ttotal: 19.4s\tremaining: 52.1s\n",
            "271:\tlearn: 0.0007566\ttotal: 19.5s\tremaining: 52.1s\n",
            "272:\tlearn: 0.0007537\ttotal: 19.5s\tremaining: 52s\n",
            "273:\tlearn: 0.0007507\ttotal: 19.6s\tremaining: 51.9s\n",
            "274:\tlearn: 0.0007486\ttotal: 19.7s\tremaining: 51.8s\n",
            "275:\tlearn: 0.0007448\ttotal: 19.7s\tremaining: 51.8s\n",
            "276:\tlearn: 0.0007431\ttotal: 19.8s\tremaining: 51.7s\n",
            "277:\tlearn: 0.0007405\ttotal: 19.9s\tremaining: 51.6s\n",
            "278:\tlearn: 0.0007385\ttotal: 20s\tremaining: 51.6s\n",
            "279:\tlearn: 0.0007359\ttotal: 20s\tremaining: 51.5s\n",
            "280:\tlearn: 0.0007335\ttotal: 20.1s\tremaining: 51.4s\n",
            "281:\tlearn: 0.0007286\ttotal: 20.2s\tremaining: 51.4s\n",
            "282:\tlearn: 0.0007260\ttotal: 20.2s\tremaining: 51.3s\n",
            "283:\tlearn: 0.0007234\ttotal: 20.3s\tremaining: 51.2s\n",
            "284:\tlearn: 0.0007221\ttotal: 20.4s\tremaining: 51.2s\n",
            "285:\tlearn: 0.0007193\ttotal: 20.5s\tremaining: 51.1s\n",
            "286:\tlearn: 0.0007144\ttotal: 20.5s\tremaining: 51s\n",
            "287:\tlearn: 0.0007138\ttotal: 20.6s\tremaining: 50.9s\n",
            "288:\tlearn: 0.0007125\ttotal: 20.7s\tremaining: 50.9s\n",
            "289:\tlearn: 0.0007097\ttotal: 20.7s\tremaining: 50.8s\n",
            "290:\tlearn: 0.0007093\ttotal: 20.8s\tremaining: 50.7s\n",
            "291:\tlearn: 0.0007078\ttotal: 20.9s\tremaining: 50.6s\n",
            "292:\tlearn: 0.0007053\ttotal: 21s\tremaining: 50.6s\n",
            "293:\tlearn: 0.0007048\ttotal: 21s\tremaining: 50.5s\n",
            "294:\tlearn: 0.0006980\ttotal: 21.1s\tremaining: 50.4s\n",
            "295:\tlearn: 0.0006958\ttotal: 21.2s\tremaining: 50.4s\n",
            "296:\tlearn: 0.0006924\ttotal: 21.3s\tremaining: 50.3s\n",
            "297:\tlearn: 0.0006919\ttotal: 21.3s\tremaining: 50.2s\n",
            "298:\tlearn: 0.0006913\ttotal: 21.4s\tremaining: 50.2s\n",
            "299:\tlearn: 0.0006891\ttotal: 21.5s\tremaining: 50.1s\n",
            "300:\tlearn: 0.0006881\ttotal: 21.5s\tremaining: 50s\n",
            "301:\tlearn: 0.0006840\ttotal: 21.6s\tremaining: 50s\n",
            "302:\tlearn: 0.0006819\ttotal: 21.7s\tremaining: 49.9s\n",
            "303:\tlearn: 0.0006810\ttotal: 21.8s\tremaining: 49.8s\n",
            "304:\tlearn: 0.0006765\ttotal: 21.8s\tremaining: 49.7s\n",
            "305:\tlearn: 0.0006754\ttotal: 21.9s\tremaining: 49.7s\n",
            "306:\tlearn: 0.0006698\ttotal: 22s\tremaining: 49.6s\n",
            "307:\tlearn: 0.0006685\ttotal: 22s\tremaining: 49.5s\n",
            "308:\tlearn: 0.0006671\ttotal: 22.1s\tremaining: 49.5s\n",
            "309:\tlearn: 0.0006661\ttotal: 22.2s\tremaining: 49.4s\n",
            "310:\tlearn: 0.0006631\ttotal: 22.3s\tremaining: 49.3s\n",
            "311:\tlearn: 0.0006623\ttotal: 22.3s\tremaining: 49.2s\n",
            "312:\tlearn: 0.0006588\ttotal: 22.4s\tremaining: 49.2s\n",
            "313:\tlearn: 0.0006554\ttotal: 22.5s\tremaining: 49.1s\n",
            "314:\tlearn: 0.0006538\ttotal: 22.5s\tremaining: 49s\n",
            "315:\tlearn: 0.0006527\ttotal: 22.6s\tremaining: 49s\n",
            "316:\tlearn: 0.0006506\ttotal: 22.7s\tremaining: 48.9s\n",
            "317:\tlearn: 0.0006482\ttotal: 22.8s\tremaining: 48.8s\n",
            "318:\tlearn: 0.0006454\ttotal: 22.8s\tremaining: 48.7s\n",
            "319:\tlearn: 0.0006435\ttotal: 22.9s\tremaining: 48.7s\n",
            "320:\tlearn: 0.0006413\ttotal: 23s\tremaining: 48.6s\n",
            "321:\tlearn: 0.0006403\ttotal: 23.1s\tremaining: 48.5s\n",
            "322:\tlearn: 0.0006380\ttotal: 23.1s\tremaining: 48.5s\n",
            "323:\tlearn: 0.0006358\ttotal: 23.2s\tremaining: 48.4s\n",
            "324:\tlearn: 0.0006348\ttotal: 23.3s\tremaining: 48.3s\n",
            "325:\tlearn: 0.0006329\ttotal: 23.3s\tremaining: 48.3s\n",
            "326:\tlearn: 0.0006295\ttotal: 23.4s\tremaining: 48.2s\n",
            "327:\tlearn: 0.0006289\ttotal: 23.5s\tremaining: 48.1s\n",
            "328:\tlearn: 0.0006267\ttotal: 23.6s\tremaining: 48s\n",
            "329:\tlearn: 0.0006257\ttotal: 23.6s\tremaining: 48s\n",
            "330:\tlearn: 0.0006231\ttotal: 23.7s\tremaining: 47.9s\n",
            "331:\tlearn: 0.0006214\ttotal: 23.8s\tremaining: 47.8s\n",
            "332:\tlearn: 0.0006184\ttotal: 23.8s\tremaining: 47.7s\n",
            "333:\tlearn: 0.0006174\ttotal: 23.9s\tremaining: 47.7s\n",
            "334:\tlearn: 0.0006166\ttotal: 24s\tremaining: 47.6s\n",
            "335:\tlearn: 0.0006141\ttotal: 24s\tremaining: 47.5s\n",
            "336:\tlearn: 0.0006131\ttotal: 24.1s\tremaining: 47.4s\n",
            "337:\tlearn: 0.0006123\ttotal: 24.2s\tremaining: 47.4s\n",
            "338:\tlearn: 0.0006111\ttotal: 24.3s\tremaining: 47.3s\n",
            "339:\tlearn: 0.0006103\ttotal: 24.3s\tremaining: 47.2s\n",
            "340:\tlearn: 0.0006087\ttotal: 24.4s\tremaining: 47.1s\n",
            "341:\tlearn: 0.0006082\ttotal: 24.5s\tremaining: 47.1s\n",
            "342:\tlearn: 0.0006077\ttotal: 24.6s\tremaining: 47s\n",
            "343:\tlearn: 0.0006054\ttotal: 24.6s\tremaining: 47s\n",
            "344:\tlearn: 0.0006026\ttotal: 24.7s\tremaining: 46.9s\n",
            "345:\tlearn: 0.0006007\ttotal: 24.8s\tremaining: 46.8s\n",
            "346:\tlearn: 0.0005935\ttotal: 24.9s\tremaining: 46.8s\n",
            "347:\tlearn: 0.0005913\ttotal: 24.9s\tremaining: 46.7s\n",
            "348:\tlearn: 0.0005824\ttotal: 25s\tremaining: 46.7s\n",
            "349:\tlearn: 0.0005800\ttotal: 25.1s\tremaining: 46.6s\n",
            "350:\tlearn: 0.0005785\ttotal: 25.1s\tremaining: 46.5s\n",
            "351:\tlearn: 0.0005764\ttotal: 25.2s\tremaining: 46.4s\n",
            "352:\tlearn: 0.0005745\ttotal: 25.3s\tremaining: 46.4s\n",
            "353:\tlearn: 0.0005733\ttotal: 25.4s\tremaining: 46.3s\n",
            "354:\tlearn: 0.0005717\ttotal: 25.4s\tremaining: 46.2s\n",
            "355:\tlearn: 0.0005703\ttotal: 25.5s\tremaining: 46.1s\n",
            "356:\tlearn: 0.0005676\ttotal: 25.6s\tremaining: 46.1s\n",
            "357:\tlearn: 0.0005670\ttotal: 25.6s\tremaining: 46s\n",
            "358:\tlearn: 0.0005655\ttotal: 25.7s\tremaining: 45.9s\n",
            "359:\tlearn: 0.0005651\ttotal: 25.8s\tremaining: 45.8s\n",
            "360:\tlearn: 0.0005632\ttotal: 25.8s\tremaining: 45.8s\n",
            "361:\tlearn: 0.0005607\ttotal: 25.9s\tremaining: 45.7s\n",
            "362:\tlearn: 0.0005597\ttotal: 26s\tremaining: 45.6s\n",
            "363:\tlearn: 0.0005584\ttotal: 26.1s\tremaining: 45.5s\n",
            "364:\tlearn: 0.0005561\ttotal: 26.1s\tremaining: 45.5s\n",
            "365:\tlearn: 0.0005543\ttotal: 26.2s\tremaining: 45.4s\n",
            "366:\tlearn: 0.0005525\ttotal: 26.3s\tremaining: 45.3s\n",
            "367:\tlearn: 0.0005521\ttotal: 26.4s\tremaining: 45.3s\n",
            "368:\tlearn: 0.0005488\ttotal: 26.4s\tremaining: 45.2s\n",
            "369:\tlearn: 0.0005476\ttotal: 26.5s\tremaining: 45.1s\n",
            "370:\tlearn: 0.0005460\ttotal: 26.6s\tremaining: 45.1s\n",
            "371:\tlearn: 0.0005452\ttotal: 26.6s\tremaining: 45s\n",
            "372:\tlearn: 0.0005436\ttotal: 26.7s\tremaining: 44.9s\n",
            "373:\tlearn: 0.0005419\ttotal: 26.8s\tremaining: 44.8s\n",
            "374:\tlearn: 0.0005390\ttotal: 26.9s\tremaining: 44.8s\n",
            "375:\tlearn: 0.0005380\ttotal: 26.9s\tremaining: 44.7s\n",
            "376:\tlearn: 0.0005372\ttotal: 27s\tremaining: 44.6s\n",
            "377:\tlearn: 0.0005318\ttotal: 27.1s\tremaining: 44.6s\n",
            "378:\tlearn: 0.0005293\ttotal: 27.1s\tremaining: 44.5s\n",
            "379:\tlearn: 0.0005265\ttotal: 27.2s\tremaining: 44.4s\n",
            "380:\tlearn: 0.0005207\ttotal: 27.3s\tremaining: 44.4s\n",
            "381:\tlearn: 0.0005158\ttotal: 27.4s\tremaining: 44.3s\n",
            "382:\tlearn: 0.0005128\ttotal: 27.4s\tremaining: 44.2s\n",
            "383:\tlearn: 0.0005099\ttotal: 27.5s\tremaining: 44.1s\n",
            "384:\tlearn: 0.0005072\ttotal: 27.6s\tremaining: 44.1s\n",
            "385:\tlearn: 0.0005060\ttotal: 27.7s\tremaining: 44s\n",
            "386:\tlearn: 0.0005040\ttotal: 27.7s\tremaining: 43.9s\n",
            "387:\tlearn: 0.0005023\ttotal: 27.8s\tremaining: 43.9s\n",
            "388:\tlearn: 0.0004994\ttotal: 27.9s\tremaining: 43.8s\n",
            "389:\tlearn: 0.0004990\ttotal: 27.9s\tremaining: 43.7s\n",
            "390:\tlearn: 0.0004976\ttotal: 28s\tremaining: 43.6s\n",
            "391:\tlearn: 0.0004952\ttotal: 28.1s\tremaining: 43.6s\n",
            "392:\tlearn: 0.0004941\ttotal: 28.2s\tremaining: 43.5s\n",
            "393:\tlearn: 0.0004922\ttotal: 28.2s\tremaining: 43.4s\n",
            "394:\tlearn: 0.0004896\ttotal: 28.3s\tremaining: 43.4s\n",
            "395:\tlearn: 0.0004872\ttotal: 28.4s\tremaining: 43.3s\n",
            "396:\tlearn: 0.0004844\ttotal: 28.5s\tremaining: 43.2s\n",
            "397:\tlearn: 0.0004839\ttotal: 28.5s\tremaining: 43.1s\n",
            "398:\tlearn: 0.0004774\ttotal: 28.6s\tremaining: 43.1s\n",
            "399:\tlearn: 0.0004739\ttotal: 28.7s\tremaining: 43s\n",
            "400:\tlearn: 0.0004701\ttotal: 28.7s\tremaining: 42.9s\n",
            "401:\tlearn: 0.0004683\ttotal: 28.8s\tremaining: 42.9s\n",
            "402:\tlearn: 0.0004679\ttotal: 28.9s\tremaining: 42.8s\n",
            "403:\tlearn: 0.0004637\ttotal: 29s\tremaining: 42.7s\n",
            "404:\tlearn: 0.0004626\ttotal: 29s\tremaining: 42.7s\n",
            "405:\tlearn: 0.0004584\ttotal: 29.1s\tremaining: 42.6s\n",
            "406:\tlearn: 0.0004580\ttotal: 29.2s\tremaining: 42.6s\n",
            "407:\tlearn: 0.0004560\ttotal: 29.3s\tremaining: 42.5s\n",
            "408:\tlearn: 0.0004513\ttotal: 29.4s\tremaining: 42.4s\n",
            "409:\tlearn: 0.0004506\ttotal: 29.4s\tremaining: 42.4s\n",
            "410:\tlearn: 0.0004475\ttotal: 29.5s\tremaining: 42.3s\n",
            "411:\tlearn: 0.0004464\ttotal: 29.6s\tremaining: 42.2s\n",
            "412:\tlearn: 0.0004439\ttotal: 29.6s\tremaining: 42.1s\n",
            "413:\tlearn: 0.0004425\ttotal: 29.7s\tremaining: 42.1s\n",
            "414:\tlearn: 0.0004409\ttotal: 29.8s\tremaining: 42s\n",
            "415:\tlearn: 0.0004400\ttotal: 29.9s\tremaining: 41.9s\n",
            "416:\tlearn: 0.0004375\ttotal: 29.9s\tremaining: 41.8s\n",
            "417:\tlearn: 0.0004351\ttotal: 30s\tremaining: 41.8s\n",
            "418:\tlearn: 0.0004337\ttotal: 30.1s\tremaining: 41.7s\n",
            "419:\tlearn: 0.0004308\ttotal: 30.1s\tremaining: 41.6s\n",
            "420:\tlearn: 0.0004301\ttotal: 30.2s\tremaining: 41.5s\n",
            "421:\tlearn: 0.0004288\ttotal: 30.3s\tremaining: 41.5s\n",
            "422:\tlearn: 0.0004258\ttotal: 30.4s\tremaining: 41.4s\n",
            "423:\tlearn: 0.0004250\ttotal: 30.4s\tremaining: 41.3s\n",
            "424:\tlearn: 0.0004243\ttotal: 30.5s\tremaining: 41.3s\n",
            "425:\tlearn: 0.0004238\ttotal: 30.6s\tremaining: 41.2s\n",
            "426:\tlearn: 0.0004216\ttotal: 30.6s\tremaining: 41.1s\n",
            "427:\tlearn: 0.0004210\ttotal: 30.7s\tremaining: 41s\n",
            "428:\tlearn: 0.0004190\ttotal: 30.8s\tremaining: 41s\n",
            "429:\tlearn: 0.0004157\ttotal: 30.9s\tremaining: 40.9s\n",
            "430:\tlearn: 0.0004152\ttotal: 30.9s\tremaining: 40.8s\n",
            "431:\tlearn: 0.0004132\ttotal: 31s\tremaining: 40.8s\n",
            "432:\tlearn: 0.0004123\ttotal: 31.1s\tremaining: 40.7s\n",
            "433:\tlearn: 0.0004110\ttotal: 31.1s\tremaining: 40.6s\n",
            "434:\tlearn: 0.0004107\ttotal: 31.2s\tremaining: 40.5s\n",
            "435:\tlearn: 0.0004089\ttotal: 31.3s\tremaining: 40.5s\n",
            "436:\tlearn: 0.0004064\ttotal: 31.4s\tremaining: 40.4s\n",
            "437:\tlearn: 0.0004030\ttotal: 31.4s\tremaining: 40.3s\n",
            "438:\tlearn: 0.0004002\ttotal: 31.5s\tremaining: 40.3s\n",
            "439:\tlearn: 0.0003965\ttotal: 31.6s\tremaining: 40.2s\n",
            "440:\tlearn: 0.0003956\ttotal: 31.7s\tremaining: 40.1s\n",
            "441:\tlearn: 0.0003953\ttotal: 31.7s\tremaining: 40s\n",
            "442:\tlearn: 0.0003917\ttotal: 31.8s\tremaining: 40s\n",
            "443:\tlearn: 0.0003913\ttotal: 31.9s\tremaining: 39.9s\n",
            "444:\tlearn: 0.0003898\ttotal: 31.9s\tremaining: 39.8s\n",
            "445:\tlearn: 0.0003881\ttotal: 32s\tremaining: 39.8s\n",
            "446:\tlearn: 0.0003820\ttotal: 32.1s\tremaining: 39.7s\n",
            "447:\tlearn: 0.0003812\ttotal: 32.2s\tremaining: 39.6s\n",
            "448:\tlearn: 0.0003806\ttotal: 32.2s\tremaining: 39.5s\n",
            "449:\tlearn: 0.0003803\ttotal: 32.3s\tremaining: 39.5s\n",
            "450:\tlearn: 0.0003774\ttotal: 32.4s\tremaining: 39.4s\n",
            "451:\tlearn: 0.0003761\ttotal: 32.4s\tremaining: 39.3s\n",
            "452:\tlearn: 0.0003745\ttotal: 32.5s\tremaining: 39.3s\n",
            "453:\tlearn: 0.0003729\ttotal: 32.6s\tremaining: 39.2s\n",
            "454:\tlearn: 0.0003715\ttotal: 32.7s\tremaining: 39.1s\n",
            "455:\tlearn: 0.0003707\ttotal: 32.7s\tremaining: 39.1s\n",
            "456:\tlearn: 0.0003698\ttotal: 32.8s\tremaining: 39s\n",
            "457:\tlearn: 0.0003694\ttotal: 32.9s\tremaining: 38.9s\n",
            "458:\tlearn: 0.0003682\ttotal: 32.9s\tremaining: 38.8s\n",
            "459:\tlearn: 0.0003675\ttotal: 33s\tremaining: 38.8s\n",
            "460:\tlearn: 0.0003655\ttotal: 33.1s\tremaining: 38.7s\n",
            "461:\tlearn: 0.0003615\ttotal: 33.2s\tremaining: 38.6s\n",
            "462:\tlearn: 0.0003598\ttotal: 33.2s\tremaining: 38.5s\n",
            "463:\tlearn: 0.0003585\ttotal: 33.3s\tremaining: 38.5s\n",
            "464:\tlearn: 0.0003532\ttotal: 33.4s\tremaining: 38.4s\n",
            "465:\tlearn: 0.0003529\ttotal: 33.5s\tremaining: 38.3s\n",
            "466:\tlearn: 0.0003517\ttotal: 33.5s\tremaining: 38.3s\n",
            "467:\tlearn: 0.0003497\ttotal: 33.6s\tremaining: 38.2s\n",
            "468:\tlearn: 0.0003477\ttotal: 33.7s\tremaining: 38.1s\n",
            "469:\tlearn: 0.0003462\ttotal: 33.7s\tremaining: 38.1s\n",
            "470:\tlearn: 0.0003426\ttotal: 33.8s\tremaining: 38s\n",
            "471:\tlearn: 0.0003425\ttotal: 33.9s\tremaining: 37.9s\n",
            "472:\tlearn: 0.0003424\ttotal: 34s\tremaining: 37.8s\n",
            "473:\tlearn: 0.0003419\ttotal: 34s\tremaining: 37.8s\n",
            "474:\tlearn: 0.0003418\ttotal: 34.1s\tremaining: 37.7s\n",
            "475:\tlearn: 0.0003412\ttotal: 34.2s\tremaining: 37.6s\n",
            "476:\tlearn: 0.0003388\ttotal: 34.3s\tremaining: 37.6s\n",
            "477:\tlearn: 0.0003369\ttotal: 34.3s\tremaining: 37.5s\n",
            "478:\tlearn: 0.0003342\ttotal: 34.4s\tremaining: 37.4s\n",
            "479:\tlearn: 0.0003327\ttotal: 34.5s\tremaining: 37.3s\n",
            "480:\tlearn: 0.0003314\ttotal: 34.6s\tremaining: 37.3s\n",
            "481:\tlearn: 0.0003308\ttotal: 34.6s\tremaining: 37.2s\n",
            "482:\tlearn: 0.0003294\ttotal: 34.7s\tremaining: 37.1s\n",
            "483:\tlearn: 0.0003291\ttotal: 34.8s\tremaining: 37.1s\n",
            "484:\tlearn: 0.0003273\ttotal: 34.8s\tremaining: 37s\n",
            "485:\tlearn: 0.0003247\ttotal: 34.9s\tremaining: 36.9s\n",
            "486:\tlearn: 0.0003243\ttotal: 35s\tremaining: 36.8s\n",
            "487:\tlearn: 0.0003217\ttotal: 35s\tremaining: 36.8s\n",
            "488:\tlearn: 0.0003208\ttotal: 35.1s\tremaining: 36.7s\n",
            "489:\tlearn: 0.0003198\ttotal: 35.2s\tremaining: 36.6s\n",
            "490:\tlearn: 0.0003175\ttotal: 35.3s\tremaining: 36.6s\n",
            "491:\tlearn: 0.0003141\ttotal: 35.3s\tremaining: 36.5s\n",
            "492:\tlearn: 0.0003113\ttotal: 35.4s\tremaining: 36.4s\n",
            "493:\tlearn: 0.0003106\ttotal: 35.5s\tremaining: 36.3s\n",
            "494:\tlearn: 0.0003091\ttotal: 35.6s\tremaining: 36.3s\n",
            "495:\tlearn: 0.0003086\ttotal: 35.6s\tremaining: 36.2s\n",
            "496:\tlearn: 0.0003084\ttotal: 35.7s\tremaining: 36.1s\n",
            "497:\tlearn: 0.0003049\ttotal: 35.7s\tremaining: 36s\n",
            "498:\tlearn: 0.0003037\ttotal: 35.8s\tremaining: 36s\n",
            "499:\tlearn: 0.0003024\ttotal: 35.9s\tremaining: 35.9s\n",
            "500:\tlearn: 0.0003015\ttotal: 36s\tremaining: 35.8s\n",
            "501:\tlearn: 0.0003006\ttotal: 36s\tremaining: 35.7s\n",
            "502:\tlearn: 0.0002988\ttotal: 36.1s\tremaining: 35.7s\n",
            "503:\tlearn: 0.0002986\ttotal: 36.2s\tremaining: 35.6s\n",
            "504:\tlearn: 0.0002962\ttotal: 36.3s\tremaining: 35.6s\n",
            "505:\tlearn: 0.0002921\ttotal: 36.4s\tremaining: 35.5s\n",
            "506:\tlearn: 0.0002917\ttotal: 36.4s\tremaining: 35.4s\n",
            "507:\tlearn: 0.0002913\ttotal: 36.5s\tremaining: 35.4s\n",
            "508:\tlearn: 0.0002907\ttotal: 36.6s\tremaining: 35.3s\n",
            "509:\tlearn: 0.0002903\ttotal: 36.6s\tremaining: 35.2s\n",
            "510:\tlearn: 0.0002901\ttotal: 36.7s\tremaining: 35.1s\n",
            "511:\tlearn: 0.0002889\ttotal: 36.8s\tremaining: 35.1s\n",
            "512:\tlearn: 0.0002868\ttotal: 36.9s\tremaining: 35s\n",
            "513:\tlearn: 0.0002853\ttotal: 36.9s\tremaining: 34.9s\n",
            "514:\tlearn: 0.0002844\ttotal: 37s\tremaining: 34.8s\n",
            "515:\tlearn: 0.0002831\ttotal: 37.1s\tremaining: 34.8s\n",
            "516:\tlearn: 0.0002828\ttotal: 37.1s\tremaining: 34.7s\n",
            "517:\tlearn: 0.0002816\ttotal: 37.2s\tremaining: 34.6s\n",
            "518:\tlearn: 0.0002805\ttotal: 37.3s\tremaining: 34.5s\n",
            "519:\tlearn: 0.0002798\ttotal: 37.4s\tremaining: 34.5s\n",
            "520:\tlearn: 0.0002775\ttotal: 37.4s\tremaining: 34.4s\n",
            "521:\tlearn: 0.0002763\ttotal: 37.5s\tremaining: 34.3s\n",
            "522:\tlearn: 0.0002759\ttotal: 37.6s\tremaining: 34.3s\n",
            "523:\tlearn: 0.0002751\ttotal: 37.6s\tremaining: 34.2s\n",
            "524:\tlearn: 0.0002734\ttotal: 37.7s\tremaining: 34.1s\n",
            "525:\tlearn: 0.0002728\ttotal: 37.8s\tremaining: 34s\n",
            "526:\tlearn: 0.0002709\ttotal: 37.9s\tremaining: 34s\n",
            "527:\tlearn: 0.0002699\ttotal: 37.9s\tremaining: 33.9s\n",
            "528:\tlearn: 0.0002686\ttotal: 38s\tremaining: 33.8s\n",
            "529:\tlearn: 0.0002677\ttotal: 38.1s\tremaining: 33.8s\n",
            "530:\tlearn: 0.0002656\ttotal: 38.2s\tremaining: 33.7s\n",
            "531:\tlearn: 0.0002647\ttotal: 38.2s\tremaining: 33.6s\n",
            "532:\tlearn: 0.0002643\ttotal: 38.3s\tremaining: 33.6s\n",
            "533:\tlearn: 0.0002632\ttotal: 38.4s\tremaining: 33.5s\n",
            "534:\tlearn: 0.0002628\ttotal: 38.5s\tremaining: 33.4s\n",
            "535:\tlearn: 0.0002626\ttotal: 38.5s\tremaining: 33.4s\n",
            "536:\tlearn: 0.0002619\ttotal: 38.6s\tremaining: 33.3s\n",
            "537:\tlearn: 0.0002618\ttotal: 38.7s\tremaining: 33.2s\n",
            "538:\tlearn: 0.0002617\ttotal: 38.7s\tremaining: 33.1s\n",
            "539:\tlearn: 0.0002609\ttotal: 38.8s\tremaining: 33.1s\n",
            "540:\tlearn: 0.0002593\ttotal: 38.9s\tremaining: 33s\n",
            "541:\tlearn: 0.0002587\ttotal: 38.9s\tremaining: 32.9s\n",
            "542:\tlearn: 0.0002570\ttotal: 39s\tremaining: 32.8s\n",
            "543:\tlearn: 0.0002558\ttotal: 39.1s\tremaining: 32.8s\n",
            "544:\tlearn: 0.0002556\ttotal: 39.2s\tremaining: 32.7s\n",
            "545:\tlearn: 0.0002536\ttotal: 39.3s\tremaining: 32.6s\n",
            "546:\tlearn: 0.0002534\ttotal: 39.3s\tremaining: 32.6s\n",
            "547:\tlearn: 0.0002514\ttotal: 39.4s\tremaining: 32.5s\n",
            "548:\tlearn: 0.0002498\ttotal: 39.5s\tremaining: 32.4s\n",
            "549:\tlearn: 0.0002492\ttotal: 39.5s\tremaining: 32.4s\n",
            "550:\tlearn: 0.0002482\ttotal: 39.6s\tremaining: 32.3s\n",
            "551:\tlearn: 0.0002476\ttotal: 39.7s\tremaining: 32.2s\n",
            "552:\tlearn: 0.0002467\ttotal: 39.8s\tremaining: 32.2s\n",
            "553:\tlearn: 0.0002464\ttotal: 39.8s\tremaining: 32.1s\n",
            "554:\tlearn: 0.0002458\ttotal: 39.9s\tremaining: 32s\n",
            "555:\tlearn: 0.0002449\ttotal: 40s\tremaining: 31.9s\n",
            "556:\tlearn: 0.0002448\ttotal: 40.1s\tremaining: 31.9s\n",
            "557:\tlearn: 0.0002435\ttotal: 40.1s\tremaining: 31.8s\n",
            "558:\tlearn: 0.0002410\ttotal: 40.2s\tremaining: 31.7s\n",
            "559:\tlearn: 0.0002389\ttotal: 40.3s\tremaining: 31.6s\n",
            "560:\tlearn: 0.0002363\ttotal: 40.4s\tremaining: 31.6s\n",
            "561:\tlearn: 0.0002342\ttotal: 40.4s\tremaining: 31.5s\n",
            "562:\tlearn: 0.0002327\ttotal: 40.5s\tremaining: 31.4s\n",
            "563:\tlearn: 0.0002318\ttotal: 40.6s\tremaining: 31.4s\n",
            "564:\tlearn: 0.0002316\ttotal: 40.6s\tremaining: 31.3s\n",
            "565:\tlearn: 0.0002314\ttotal: 40.7s\tremaining: 31.2s\n",
            "566:\tlearn: 0.0002309\ttotal: 40.8s\tremaining: 31.1s\n",
            "567:\tlearn: 0.0002293\ttotal: 40.9s\tremaining: 31.1s\n",
            "568:\tlearn: 0.0002287\ttotal: 40.9s\tremaining: 31s\n",
            "569:\tlearn: 0.0002282\ttotal: 41s\tremaining: 30.9s\n",
            "570:\tlearn: 0.0002275\ttotal: 41.1s\tremaining: 30.9s\n",
            "571:\tlearn: 0.0002273\ttotal: 41.1s\tremaining: 30.8s\n",
            "572:\tlearn: 0.0002272\ttotal: 41.2s\tremaining: 30.7s\n",
            "573:\tlearn: 0.0002267\ttotal: 41.3s\tremaining: 30.6s\n",
            "574:\tlearn: 0.0002258\ttotal: 41.4s\tremaining: 30.6s\n",
            "575:\tlearn: 0.0002246\ttotal: 41.4s\tremaining: 30.5s\n",
            "576:\tlearn: 0.0002245\ttotal: 41.5s\tremaining: 30.4s\n",
            "577:\tlearn: 0.0002243\ttotal: 41.6s\tremaining: 30.4s\n",
            "578:\tlearn: 0.0002238\ttotal: 41.6s\tremaining: 30.3s\n",
            "579:\tlearn: 0.0002227\ttotal: 41.7s\tremaining: 30.2s\n",
            "580:\tlearn: 0.0002205\ttotal: 41.8s\tremaining: 30.1s\n",
            "581:\tlearn: 0.0002204\ttotal: 41.9s\tremaining: 30.1s\n",
            "582:\tlearn: 0.0002200\ttotal: 41.9s\tremaining: 30s\n",
            "583:\tlearn: 0.0002193\ttotal: 42s\tremaining: 29.9s\n",
            "584:\tlearn: 0.0002191\ttotal: 42.1s\tremaining: 29.8s\n",
            "585:\tlearn: 0.0002188\ttotal: 42.1s\tremaining: 29.8s\n",
            "586:\tlearn: 0.0002188\ttotal: 42.2s\tremaining: 29.7s\n",
            "587:\tlearn: 0.0002182\ttotal: 42.3s\tremaining: 29.6s\n",
            "588:\tlearn: 0.0002174\ttotal: 42.4s\tremaining: 29.6s\n",
            "589:\tlearn: 0.0002173\ttotal: 42.4s\tremaining: 29.5s\n",
            "590:\tlearn: 0.0002165\ttotal: 42.5s\tremaining: 29.4s\n",
            "591:\tlearn: 0.0002155\ttotal: 42.6s\tremaining: 29.3s\n",
            "592:\tlearn: 0.0002141\ttotal: 42.6s\tremaining: 29.3s\n",
            "593:\tlearn: 0.0002140\ttotal: 42.7s\tremaining: 29.2s\n",
            "594:\tlearn: 0.0002136\ttotal: 42.8s\tremaining: 29.1s\n",
            "595:\tlearn: 0.0002134\ttotal: 42.9s\tremaining: 29.1s\n",
            "596:\tlearn: 0.0002130\ttotal: 42.9s\tremaining: 29s\n",
            "597:\tlearn: 0.0002129\ttotal: 43s\tremaining: 28.9s\n",
            "598:\tlearn: 0.0002127\ttotal: 43.1s\tremaining: 28.8s\n",
            "599:\tlearn: 0.0002124\ttotal: 43.2s\tremaining: 28.8s\n",
            "600:\tlearn: 0.0002100\ttotal: 43.2s\tremaining: 28.7s\n",
            "601:\tlearn: 0.0002096\ttotal: 43.3s\tremaining: 28.6s\n",
            "602:\tlearn: 0.0002088\ttotal: 43.4s\tremaining: 28.6s\n",
            "603:\tlearn: 0.0002080\ttotal: 43.4s\tremaining: 28.5s\n",
            "604:\tlearn: 0.0002061\ttotal: 43.5s\tremaining: 28.4s\n",
            "605:\tlearn: 0.0002058\ttotal: 43.6s\tremaining: 28.3s\n",
            "606:\tlearn: 0.0002057\ttotal: 43.7s\tremaining: 28.3s\n",
            "607:\tlearn: 0.0002052\ttotal: 43.7s\tremaining: 28.2s\n",
            "608:\tlearn: 0.0002024\ttotal: 43.8s\tremaining: 28.1s\n",
            "609:\tlearn: 0.0002016\ttotal: 43.9s\tremaining: 28.1s\n",
            "610:\tlearn: 0.0002009\ttotal: 44s\tremaining: 28s\n",
            "611:\tlearn: 0.0001987\ttotal: 44s\tremaining: 27.9s\n",
            "612:\tlearn: 0.0001975\ttotal: 44.1s\tremaining: 27.8s\n",
            "613:\tlearn: 0.0001962\ttotal: 44.2s\tremaining: 27.8s\n",
            "614:\tlearn: 0.0001952\ttotal: 44.3s\tremaining: 27.7s\n",
            "615:\tlearn: 0.0001932\ttotal: 44.3s\tremaining: 27.6s\n",
            "616:\tlearn: 0.0001925\ttotal: 44.4s\tremaining: 27.6s\n",
            "617:\tlearn: 0.0001912\ttotal: 44.5s\tremaining: 27.5s\n",
            "618:\tlearn: 0.0001908\ttotal: 44.6s\tremaining: 27.4s\n",
            "619:\tlearn: 0.0001901\ttotal: 44.6s\tremaining: 27.4s\n",
            "620:\tlearn: 0.0001896\ttotal: 44.7s\tremaining: 27.3s\n",
            "621:\tlearn: 0.0001891\ttotal: 44.8s\tremaining: 27.2s\n",
            "622:\tlearn: 0.0001872\ttotal: 44.8s\tremaining: 27.1s\n",
            "623:\tlearn: 0.0001859\ttotal: 44.9s\tremaining: 27.1s\n",
            "624:\tlearn: 0.0001858\ttotal: 45s\tremaining: 27s\n",
            "625:\tlearn: 0.0001838\ttotal: 45.1s\tremaining: 26.9s\n",
            "626:\tlearn: 0.0001832\ttotal: 45.1s\tremaining: 26.9s\n",
            "627:\tlearn: 0.0001829\ttotal: 45.2s\tremaining: 26.8s\n",
            "628:\tlearn: 0.0001808\ttotal: 45.3s\tremaining: 26.7s\n",
            "629:\tlearn: 0.0001794\ttotal: 45.4s\tremaining: 26.6s\n",
            "630:\tlearn: 0.0001792\ttotal: 45.4s\tremaining: 26.6s\n",
            "631:\tlearn: 0.0001783\ttotal: 45.5s\tremaining: 26.5s\n",
            "632:\tlearn: 0.0001775\ttotal: 45.6s\tremaining: 26.4s\n",
            "633:\tlearn: 0.0001767\ttotal: 45.7s\tremaining: 26.4s\n",
            "634:\tlearn: 0.0001760\ttotal: 45.7s\tremaining: 26.3s\n",
            "635:\tlearn: 0.0001756\ttotal: 45.8s\tremaining: 26.2s\n",
            "636:\tlearn: 0.0001755\ttotal: 45.9s\tremaining: 26.2s\n",
            "637:\tlearn: 0.0001738\ttotal: 46s\tremaining: 26.1s\n",
            "638:\tlearn: 0.0001735\ttotal: 46s\tremaining: 26s\n",
            "639:\tlearn: 0.0001724\ttotal: 46.1s\tremaining: 25.9s\n",
            "640:\tlearn: 0.0001714\ttotal: 46.2s\tremaining: 25.9s\n",
            "641:\tlearn: 0.0001702\ttotal: 46.3s\tremaining: 25.8s\n",
            "642:\tlearn: 0.0001701\ttotal: 46.3s\tremaining: 25.7s\n",
            "643:\tlearn: 0.0001694\ttotal: 46.4s\tremaining: 25.6s\n",
            "644:\tlearn: 0.0001689\ttotal: 46.5s\tremaining: 25.6s\n",
            "645:\tlearn: 0.0001688\ttotal: 46.5s\tremaining: 25.5s\n",
            "646:\tlearn: 0.0001685\ttotal: 46.6s\tremaining: 25.4s\n",
            "647:\tlearn: 0.0001680\ttotal: 46.7s\tremaining: 25.4s\n",
            "648:\tlearn: 0.0001678\ttotal: 46.8s\tremaining: 25.3s\n",
            "649:\tlearn: 0.0001676\ttotal: 46.9s\tremaining: 25.2s\n",
            "650:\tlearn: 0.0001672\ttotal: 46.9s\tremaining: 25.2s\n",
            "651:\tlearn: 0.0001662\ttotal: 47s\tremaining: 25.1s\n",
            "652:\tlearn: 0.0001660\ttotal: 47.1s\tremaining: 25s\n",
            "653:\tlearn: 0.0001658\ttotal: 47.2s\tremaining: 24.9s\n",
            "654:\tlearn: 0.0001655\ttotal: 47.2s\tremaining: 24.9s\n",
            "655:\tlearn: 0.0001652\ttotal: 47.3s\tremaining: 24.8s\n",
            "656:\tlearn: 0.0001648\ttotal: 47.4s\tremaining: 24.7s\n",
            "657:\tlearn: 0.0001646\ttotal: 47.5s\tremaining: 24.7s\n",
            "658:\tlearn: 0.0001644\ttotal: 47.5s\tremaining: 24.6s\n",
            "659:\tlearn: 0.0001630\ttotal: 47.6s\tremaining: 24.5s\n",
            "660:\tlearn: 0.0001620\ttotal: 47.7s\tremaining: 24.4s\n",
            "661:\tlearn: 0.0001612\ttotal: 47.8s\tremaining: 24.4s\n",
            "662:\tlearn: 0.0001603\ttotal: 47.8s\tremaining: 24.3s\n",
            "663:\tlearn: 0.0001597\ttotal: 47.9s\tremaining: 24.2s\n",
            "664:\tlearn: 0.0001593\ttotal: 48s\tremaining: 24.2s\n",
            "665:\tlearn: 0.0001592\ttotal: 48s\tremaining: 24.1s\n",
            "666:\tlearn: 0.0001587\ttotal: 48.1s\tremaining: 24s\n",
            "667:\tlearn: 0.0001586\ttotal: 48.2s\tremaining: 24s\n",
            "668:\tlearn: 0.0001584\ttotal: 48.3s\tremaining: 23.9s\n",
            "669:\tlearn: 0.0001582\ttotal: 48.3s\tremaining: 23.8s\n",
            "670:\tlearn: 0.0001578\ttotal: 48.4s\tremaining: 23.7s\n",
            "671:\tlearn: 0.0001559\ttotal: 48.5s\tremaining: 23.7s\n",
            "672:\tlearn: 0.0001557\ttotal: 48.6s\tremaining: 23.6s\n",
            "673:\tlearn: 0.0001556\ttotal: 48.6s\tremaining: 23.5s\n",
            "674:\tlearn: 0.0001555\ttotal: 48.7s\tremaining: 23.5s\n",
            "675:\tlearn: 0.0001547\ttotal: 48.8s\tremaining: 23.4s\n",
            "676:\tlearn: 0.0001544\ttotal: 48.9s\tremaining: 23.3s\n",
            "677:\tlearn: 0.0001541\ttotal: 48.9s\tremaining: 23.2s\n",
            "678:\tlearn: 0.0001539\ttotal: 49s\tremaining: 23.2s\n",
            "679:\tlearn: 0.0001538\ttotal: 49.1s\tremaining: 23.1s\n",
            "680:\tlearn: 0.0001531\ttotal: 49.2s\tremaining: 23s\n",
            "681:\tlearn: 0.0001530\ttotal: 49.2s\tremaining: 23s\n",
            "682:\tlearn: 0.0001529\ttotal: 49.3s\tremaining: 22.9s\n",
            "683:\tlearn: 0.0001528\ttotal: 49.4s\tremaining: 22.8s\n",
            "684:\tlearn: 0.0001526\ttotal: 49.5s\tremaining: 22.7s\n",
            "685:\tlearn: 0.0001517\ttotal: 49.5s\tremaining: 22.7s\n",
            "686:\tlearn: 0.0001511\ttotal: 49.6s\tremaining: 22.6s\n",
            "687:\tlearn: 0.0001508\ttotal: 49.7s\tremaining: 22.5s\n",
            "688:\tlearn: 0.0001506\ttotal: 49.7s\tremaining: 22.5s\n",
            "689:\tlearn: 0.0001495\ttotal: 49.8s\tremaining: 22.4s\n",
            "690:\tlearn: 0.0001486\ttotal: 49.9s\tremaining: 22.3s\n",
            "691:\tlearn: 0.0001482\ttotal: 50s\tremaining: 22.2s\n",
            "692:\tlearn: 0.0001477\ttotal: 50s\tremaining: 22.2s\n",
            "693:\tlearn: 0.0001476\ttotal: 50.1s\tremaining: 22.1s\n",
            "694:\tlearn: 0.0001476\ttotal: 50.2s\tremaining: 22s\n",
            "695:\tlearn: 0.0001469\ttotal: 50.3s\tremaining: 22s\n",
            "696:\tlearn: 0.0001468\ttotal: 50.3s\tremaining: 21.9s\n",
            "697:\tlearn: 0.0001457\ttotal: 50.4s\tremaining: 21.8s\n",
            "698:\tlearn: 0.0001456\ttotal: 50.5s\tremaining: 21.7s\n",
            "699:\tlearn: 0.0001454\ttotal: 50.6s\tremaining: 21.7s\n",
            "700:\tlearn: 0.0001444\ttotal: 50.6s\tremaining: 21.6s\n",
            "701:\tlearn: 0.0001439\ttotal: 50.7s\tremaining: 21.5s\n",
            "702:\tlearn: 0.0001437\ttotal: 50.8s\tremaining: 21.5s\n",
            "703:\tlearn: 0.0001436\ttotal: 50.9s\tremaining: 21.4s\n",
            "704:\tlearn: 0.0001435\ttotal: 50.9s\tremaining: 21.3s\n",
            "705:\tlearn: 0.0001430\ttotal: 51s\tremaining: 21.2s\n",
            "706:\tlearn: 0.0001424\ttotal: 51.1s\tremaining: 21.2s\n",
            "707:\tlearn: 0.0001414\ttotal: 51.1s\tremaining: 21.1s\n",
            "708:\tlearn: 0.0001411\ttotal: 51.2s\tremaining: 21s\n",
            "709:\tlearn: 0.0001409\ttotal: 51.3s\tremaining: 20.9s\n",
            "710:\tlearn: 0.0001408\ttotal: 51.4s\tremaining: 20.9s\n",
            "711:\tlearn: 0.0001403\ttotal: 51.4s\tremaining: 20.8s\n",
            "712:\tlearn: 0.0001401\ttotal: 51.5s\tremaining: 20.7s\n",
            "713:\tlearn: 0.0001400\ttotal: 51.6s\tremaining: 20.7s\n",
            "714:\tlearn: 0.0001399\ttotal: 51.7s\tremaining: 20.6s\n",
            "715:\tlearn: 0.0001396\ttotal: 51.7s\tremaining: 20.5s\n",
            "716:\tlearn: 0.0001394\ttotal: 51.8s\tremaining: 20.4s\n",
            "717:\tlearn: 0.0001394\ttotal: 51.9s\tremaining: 20.4s\n",
            "718:\tlearn: 0.0001393\ttotal: 51.9s\tremaining: 20.3s\n",
            "719:\tlearn: 0.0001385\ttotal: 52s\tremaining: 20.2s\n",
            "720:\tlearn: 0.0001384\ttotal: 52.1s\tremaining: 20.2s\n",
            "721:\tlearn: 0.0001381\ttotal: 52.2s\tremaining: 20.1s\n",
            "722:\tlearn: 0.0001379\ttotal: 52.2s\tremaining: 20s\n",
            "723:\tlearn: 0.0001378\ttotal: 52.3s\tremaining: 19.9s\n",
            "724:\tlearn: 0.0001377\ttotal: 52.4s\tremaining: 19.9s\n",
            "725:\tlearn: 0.0001375\ttotal: 52.4s\tremaining: 19.8s\n",
            "726:\tlearn: 0.0001367\ttotal: 52.5s\tremaining: 19.7s\n",
            "727:\tlearn: 0.0001361\ttotal: 52.6s\tremaining: 19.7s\n",
            "728:\tlearn: 0.0001359\ttotal: 52.7s\tremaining: 19.6s\n",
            "729:\tlearn: 0.0001358\ttotal: 52.7s\tremaining: 19.5s\n",
            "730:\tlearn: 0.0001357\ttotal: 52.8s\tremaining: 19.4s\n",
            "731:\tlearn: 0.0001347\ttotal: 52.9s\tremaining: 19.4s\n",
            "732:\tlearn: 0.0001346\ttotal: 53s\tremaining: 19.3s\n",
            "733:\tlearn: 0.0001342\ttotal: 53s\tremaining: 19.2s\n",
            "734:\tlearn: 0.0001337\ttotal: 53.1s\tremaining: 19.1s\n",
            "735:\tlearn: 0.0001332\ttotal: 53.2s\tremaining: 19.1s\n",
            "736:\tlearn: 0.0001331\ttotal: 53.3s\tremaining: 19s\n",
            "737:\tlearn: 0.0001330\ttotal: 53.3s\tremaining: 18.9s\n",
            "738:\tlearn: 0.0001327\ttotal: 53.4s\tremaining: 18.9s\n",
            "739:\tlearn: 0.0001320\ttotal: 53.5s\tremaining: 18.8s\n",
            "740:\tlearn: 0.0001320\ttotal: 53.5s\tremaining: 18.7s\n",
            "741:\tlearn: 0.0001318\ttotal: 53.6s\tremaining: 18.6s\n",
            "742:\tlearn: 0.0001317\ttotal: 53.7s\tremaining: 18.6s\n",
            "743:\tlearn: 0.0001315\ttotal: 53.8s\tremaining: 18.5s\n",
            "744:\tlearn: 0.0001313\ttotal: 53.8s\tremaining: 18.4s\n",
            "745:\tlearn: 0.0001308\ttotal: 53.9s\tremaining: 18.4s\n",
            "746:\tlearn: 0.0001308\ttotal: 54s\tremaining: 18.3s\n",
            "747:\tlearn: 0.0001305\ttotal: 54s\tremaining: 18.2s\n",
            "748:\tlearn: 0.0001301\ttotal: 54.1s\tremaining: 18.1s\n",
            "749:\tlearn: 0.0001300\ttotal: 54.2s\tremaining: 18.1s\n",
            "750:\tlearn: 0.0001297\ttotal: 54.3s\tremaining: 18s\n",
            "751:\tlearn: 0.0001292\ttotal: 54.3s\tremaining: 17.9s\n",
            "752:\tlearn: 0.0001285\ttotal: 54.4s\tremaining: 17.8s\n",
            "753:\tlearn: 0.0001279\ttotal: 54.5s\tremaining: 17.8s\n",
            "754:\tlearn: 0.0001262\ttotal: 54.6s\tremaining: 17.7s\n",
            "755:\tlearn: 0.0001260\ttotal: 54.7s\tremaining: 17.6s\n",
            "756:\tlearn: 0.0001257\ttotal: 54.7s\tremaining: 17.6s\n",
            "757:\tlearn: 0.0001252\ttotal: 54.8s\tremaining: 17.5s\n",
            "758:\tlearn: 0.0001252\ttotal: 54.9s\tremaining: 17.4s\n",
            "759:\tlearn: 0.0001247\ttotal: 54.9s\tremaining: 17.4s\n",
            "760:\tlearn: 0.0001246\ttotal: 55s\tremaining: 17.3s\n",
            "761:\tlearn: 0.0001246\ttotal: 55.1s\tremaining: 17.2s\n",
            "762:\tlearn: 0.0001234\ttotal: 55.2s\tremaining: 17.1s\n",
            "763:\tlearn: 0.0001227\ttotal: 55.2s\tremaining: 17.1s\n",
            "764:\tlearn: 0.0001224\ttotal: 55.3s\tremaining: 17s\n",
            "765:\tlearn: 0.0001222\ttotal: 55.4s\tremaining: 16.9s\n",
            "766:\tlearn: 0.0001213\ttotal: 55.4s\tremaining: 16.8s\n",
            "767:\tlearn: 0.0001210\ttotal: 55.5s\tremaining: 16.8s\n",
            "768:\tlearn: 0.0001207\ttotal: 55.6s\tremaining: 16.7s\n",
            "769:\tlearn: 0.0001205\ttotal: 55.7s\tremaining: 16.6s\n",
            "770:\tlearn: 0.0001204\ttotal: 55.7s\tremaining: 16.6s\n",
            "771:\tlearn: 0.0001201\ttotal: 55.8s\tremaining: 16.5s\n",
            "772:\tlearn: 0.0001199\ttotal: 55.9s\tremaining: 16.4s\n",
            "773:\tlearn: 0.0001197\ttotal: 56s\tremaining: 16.3s\n",
            "774:\tlearn: 0.0001195\ttotal: 56s\tremaining: 16.3s\n",
            "775:\tlearn: 0.0001193\ttotal: 56.1s\tremaining: 16.2s\n",
            "776:\tlearn: 0.0001193\ttotal: 56.2s\tremaining: 16.1s\n",
            "777:\tlearn: 0.0001192\ttotal: 56.2s\tremaining: 16s\n",
            "778:\tlearn: 0.0001191\ttotal: 56.3s\tremaining: 16s\n",
            "779:\tlearn: 0.0001189\ttotal: 56.4s\tremaining: 15.9s\n",
            "780:\tlearn: 0.0001183\ttotal: 56.5s\tremaining: 15.8s\n",
            "781:\tlearn: 0.0001180\ttotal: 56.5s\tremaining: 15.8s\n",
            "782:\tlearn: 0.0001180\ttotal: 56.6s\tremaining: 15.7s\n",
            "783:\tlearn: 0.0001178\ttotal: 56.7s\tremaining: 15.6s\n",
            "784:\tlearn: 0.0001176\ttotal: 56.8s\tremaining: 15.5s\n",
            "785:\tlearn: 0.0001172\ttotal: 56.8s\tremaining: 15.5s\n",
            "786:\tlearn: 0.0001167\ttotal: 56.9s\tremaining: 15.4s\n",
            "787:\tlearn: 0.0001165\ttotal: 57s\tremaining: 15.3s\n",
            "788:\tlearn: 0.0001163\ttotal: 57s\tremaining: 15.3s\n",
            "789:\tlearn: 0.0001163\ttotal: 57.1s\tremaining: 15.2s\n",
            "790:\tlearn: 0.0001156\ttotal: 57.2s\tremaining: 15.1s\n",
            "791:\tlearn: 0.0001155\ttotal: 57.3s\tremaining: 15s\n",
            "792:\tlearn: 0.0001154\ttotal: 57.3s\tremaining: 15s\n",
            "793:\tlearn: 0.0001152\ttotal: 57.4s\tremaining: 14.9s\n",
            "794:\tlearn: 0.0001150\ttotal: 57.5s\tremaining: 14.8s\n",
            "795:\tlearn: 0.0001148\ttotal: 57.6s\tremaining: 14.8s\n",
            "796:\tlearn: 0.0001147\ttotal: 57.7s\tremaining: 14.7s\n",
            "797:\tlearn: 0.0001140\ttotal: 57.7s\tremaining: 14.6s\n",
            "798:\tlearn: 0.0001138\ttotal: 57.8s\tremaining: 14.5s\n",
            "799:\tlearn: 0.0001136\ttotal: 57.9s\tremaining: 14.5s\n",
            "800:\tlearn: 0.0001130\ttotal: 58s\tremaining: 14.4s\n",
            "801:\tlearn: 0.0001130\ttotal: 58s\tremaining: 14.3s\n",
            "802:\tlearn: 0.0001129\ttotal: 58.1s\tremaining: 14.3s\n",
            "803:\tlearn: 0.0001128\ttotal: 58.2s\tremaining: 14.2s\n",
            "804:\tlearn: 0.0001127\ttotal: 58.3s\tremaining: 14.1s\n",
            "805:\tlearn: 0.0001121\ttotal: 58.3s\tremaining: 14s\n",
            "806:\tlearn: 0.0001120\ttotal: 58.4s\tremaining: 14s\n",
            "807:\tlearn: 0.0001117\ttotal: 58.5s\tremaining: 13.9s\n",
            "808:\tlearn: 0.0001117\ttotal: 58.6s\tremaining: 13.8s\n",
            "809:\tlearn: 0.0001113\ttotal: 58.6s\tremaining: 13.8s\n",
            "810:\tlearn: 0.0001111\ttotal: 58.7s\tremaining: 13.7s\n",
            "811:\tlearn: 0.0001111\ttotal: 58.8s\tremaining: 13.6s\n",
            "812:\tlearn: 0.0001109\ttotal: 58.8s\tremaining: 13.5s\n",
            "813:\tlearn: 0.0001105\ttotal: 58.9s\tremaining: 13.5s\n",
            "814:\tlearn: 0.0001103\ttotal: 59s\tremaining: 13.4s\n",
            "815:\tlearn: 0.0001097\ttotal: 59.1s\tremaining: 13.3s\n",
            "816:\tlearn: 0.0001096\ttotal: 59.1s\tremaining: 13.2s\n",
            "817:\tlearn: 0.0001091\ttotal: 59.2s\tremaining: 13.2s\n",
            "818:\tlearn: 0.0001089\ttotal: 59.3s\tremaining: 13.1s\n",
            "819:\tlearn: 0.0001088\ttotal: 59.4s\tremaining: 13s\n",
            "820:\tlearn: 0.0001088\ttotal: 59.4s\tremaining: 13s\n",
            "821:\tlearn: 0.0001086\ttotal: 59.5s\tremaining: 12.9s\n",
            "822:\tlearn: 0.0001084\ttotal: 59.6s\tremaining: 12.8s\n",
            "823:\tlearn: 0.0001080\ttotal: 59.7s\tremaining: 12.7s\n",
            "824:\tlearn: 0.0001075\ttotal: 59.8s\tremaining: 12.7s\n",
            "825:\tlearn: 0.0001075\ttotal: 59.8s\tremaining: 12.6s\n",
            "826:\tlearn: 0.0001074\ttotal: 59.9s\tremaining: 12.5s\n",
            "827:\tlearn: 0.0001073\ttotal: 59.9s\tremaining: 12.5s\n",
            "828:\tlearn: 0.0001071\ttotal: 1m\tremaining: 12.4s\n",
            "829:\tlearn: 0.0001069\ttotal: 1m\tremaining: 12.3s\n",
            "830:\tlearn: 0.0001068\ttotal: 1m\tremaining: 12.2s\n",
            "831:\tlearn: 0.0001067\ttotal: 1m\tremaining: 12.2s\n",
            "832:\tlearn: 0.0001065\ttotal: 1m\tremaining: 12.1s\n",
            "833:\tlearn: 0.0001064\ttotal: 1m\tremaining: 12s\n",
            "834:\tlearn: 0.0001063\ttotal: 1m\tremaining: 11.9s\n",
            "835:\tlearn: 0.0001062\ttotal: 1m\tremaining: 11.9s\n",
            "836:\tlearn: 0.0001059\ttotal: 1m\tremaining: 11.8s\n",
            "837:\tlearn: 0.0001058\ttotal: 1m\tremaining: 11.7s\n",
            "838:\tlearn: 0.0001054\ttotal: 1m\tremaining: 11.7s\n",
            "839:\tlearn: 0.0001053\ttotal: 1m\tremaining: 11.6s\n",
            "840:\tlearn: 0.0001049\ttotal: 1m\tremaining: 11.5s\n",
            "841:\tlearn: 0.0001047\ttotal: 1m 1s\tremaining: 11.4s\n",
            "842:\tlearn: 0.0001045\ttotal: 1m 1s\tremaining: 11.4s\n",
            "843:\tlearn: 0.0001044\ttotal: 1m 1s\tremaining: 11.3s\n",
            "844:\tlearn: 0.0001043\ttotal: 1m 1s\tremaining: 11.2s\n",
            "845:\tlearn: 0.0001037\ttotal: 1m 1s\tremaining: 11.2s\n",
            "846:\tlearn: 0.0001033\ttotal: 1m 1s\tremaining: 11.1s\n",
            "847:\tlearn: 0.0001033\ttotal: 1m 1s\tremaining: 11s\n",
            "848:\tlearn: 0.0001033\ttotal: 1m 1s\tremaining: 10.9s\n",
            "849:\tlearn: 0.0001033\ttotal: 1m 1s\tremaining: 10.9s\n",
            "850:\tlearn: 0.0001033\ttotal: 1m 1s\tremaining: 10.8s\n",
            "851:\tlearn: 0.0001032\ttotal: 1m 1s\tremaining: 10.7s\n",
            "852:\tlearn: 0.0001031\ttotal: 1m 1s\tremaining: 10.6s\n",
            "853:\tlearn: 0.0001028\ttotal: 1m 1s\tremaining: 10.6s\n",
            "854:\tlearn: 0.0001025\ttotal: 1m 1s\tremaining: 10.5s\n",
            "855:\tlearn: 0.0001020\ttotal: 1m 1s\tremaining: 10.4s\n",
            "856:\tlearn: 0.0001017\ttotal: 1m 2s\tremaining: 10.4s\n",
            "857:\tlearn: 0.0001017\ttotal: 1m 2s\tremaining: 10.3s\n",
            "858:\tlearn: 0.0001014\ttotal: 1m 2s\tremaining: 10.2s\n",
            "859:\tlearn: 0.0001009\ttotal: 1m 2s\tremaining: 10.1s\n",
            "860:\tlearn: 0.0001006\ttotal: 1m 2s\tremaining: 10.1s\n",
            "861:\tlearn: 0.0001005\ttotal: 1m 2s\tremaining: 9.99s\n",
            "862:\tlearn: 0.0001005\ttotal: 1m 2s\tremaining: 9.92s\n",
            "863:\tlearn: 0.0001005\ttotal: 1m 2s\tremaining: 9.85s\n",
            "864:\tlearn: 0.0001004\ttotal: 1m 2s\tremaining: 9.78s\n",
            "865:\tlearn: 0.0001002\ttotal: 1m 2s\tremaining: 9.71s\n",
            "866:\tlearn: 0.0001001\ttotal: 1m 2s\tremaining: 9.63s\n",
            "867:\tlearn: 0.0001000\ttotal: 1m 2s\tremaining: 9.56s\n",
            "868:\tlearn: 0.0000999\ttotal: 1m 2s\tremaining: 9.49s\n",
            "869:\tlearn: 0.0000998\ttotal: 1m 3s\tremaining: 9.42s\n",
            "870:\tlearn: 0.0000991\ttotal: 1m 3s\tremaining: 9.34s\n",
            "871:\tlearn: 0.0000988\ttotal: 1m 3s\tremaining: 9.27s\n",
            "872:\tlearn: 0.0000986\ttotal: 1m 3s\tremaining: 9.2s\n",
            "873:\tlearn: 0.0000985\ttotal: 1m 3s\tremaining: 9.13s\n",
            "874:\tlearn: 0.0000980\ttotal: 1m 3s\tremaining: 9.05s\n",
            "875:\tlearn: 0.0000978\ttotal: 1m 3s\tremaining: 8.98s\n",
            "876:\tlearn: 0.0000978\ttotal: 1m 3s\tremaining: 8.91s\n",
            "877:\tlearn: 0.0000977\ttotal: 1m 3s\tremaining: 8.83s\n",
            "878:\tlearn: 0.0000976\ttotal: 1m 3s\tremaining: 8.76s\n",
            "879:\tlearn: 0.0000974\ttotal: 1m 3s\tremaining: 8.69s\n",
            "880:\tlearn: 0.0000974\ttotal: 1m 3s\tremaining: 8.62s\n",
            "881:\tlearn: 0.0000971\ttotal: 1m 3s\tremaining: 8.55s\n",
            "882:\tlearn: 0.0000968\ttotal: 1m 3s\tremaining: 8.47s\n",
            "883:\tlearn: 0.0000968\ttotal: 1m 4s\tremaining: 8.4s\n",
            "884:\tlearn: 0.0000963\ttotal: 1m 4s\tremaining: 8.33s\n",
            "885:\tlearn: 0.0000962\ttotal: 1m 4s\tremaining: 8.26s\n",
            "886:\tlearn: 0.0000960\ttotal: 1m 4s\tremaining: 8.19s\n",
            "887:\tlearn: 0.0000955\ttotal: 1m 4s\tremaining: 8.11s\n",
            "888:\tlearn: 0.0000953\ttotal: 1m 4s\tremaining: 8.04s\n",
            "889:\tlearn: 0.0000953\ttotal: 1m 4s\tremaining: 7.96s\n",
            "890:\tlearn: 0.0000952\ttotal: 1m 4s\tremaining: 7.89s\n",
            "891:\tlearn: 0.0000951\ttotal: 1m 4s\tremaining: 7.82s\n",
            "892:\tlearn: 0.0000951\ttotal: 1m 4s\tremaining: 7.75s\n",
            "893:\tlearn: 0.0000949\ttotal: 1m 4s\tremaining: 7.68s\n",
            "894:\tlearn: 0.0000947\ttotal: 1m 4s\tremaining: 7.61s\n",
            "895:\tlearn: 0.0000944\ttotal: 1m 4s\tremaining: 7.53s\n",
            "896:\tlearn: 0.0000942\ttotal: 1m 4s\tremaining: 7.46s\n",
            "897:\tlearn: 0.0000941\ttotal: 1m 5s\tremaining: 7.39s\n",
            "898:\tlearn: 0.0000940\ttotal: 1m 5s\tremaining: 7.32s\n",
            "899:\tlearn: 0.0000940\ttotal: 1m 5s\tremaining: 7.24s\n",
            "900:\tlearn: 0.0000940\ttotal: 1m 5s\tremaining: 7.17s\n",
            "901:\tlearn: 0.0000939\ttotal: 1m 5s\tremaining: 7.1s\n",
            "902:\tlearn: 0.0000937\ttotal: 1m 5s\tremaining: 7.03s\n",
            "903:\tlearn: 0.0000936\ttotal: 1m 5s\tremaining: 6.95s\n",
            "904:\tlearn: 0.0000936\ttotal: 1m 5s\tremaining: 6.88s\n",
            "905:\tlearn: 0.0000935\ttotal: 1m 5s\tremaining: 6.81s\n",
            "906:\tlearn: 0.0000932\ttotal: 1m 5s\tremaining: 6.74s\n",
            "907:\tlearn: 0.0000931\ttotal: 1m 5s\tremaining: 6.67s\n",
            "908:\tlearn: 0.0000928\ttotal: 1m 5s\tremaining: 6.59s\n",
            "909:\tlearn: 0.0000927\ttotal: 1m 5s\tremaining: 6.52s\n",
            "910:\tlearn: 0.0000925\ttotal: 1m 6s\tremaining: 6.45s\n",
            "911:\tlearn: 0.0000924\ttotal: 1m 6s\tremaining: 6.38s\n",
            "912:\tlearn: 0.0000924\ttotal: 1m 6s\tremaining: 6.3s\n",
            "913:\tlearn: 0.0000924\ttotal: 1m 6s\tremaining: 6.23s\n",
            "914:\tlearn: 0.0000923\ttotal: 1m 6s\tremaining: 6.16s\n",
            "915:\tlearn: 0.0000917\ttotal: 1m 6s\tremaining: 6.09s\n",
            "916:\tlearn: 0.0000916\ttotal: 1m 6s\tremaining: 6.02s\n",
            "917:\tlearn: 0.0000916\ttotal: 1m 6s\tremaining: 5.95s\n",
            "918:\tlearn: 0.0000915\ttotal: 1m 6s\tremaining: 5.87s\n",
            "919:\tlearn: 0.0000914\ttotal: 1m 6s\tremaining: 5.8s\n",
            "920:\tlearn: 0.0000910\ttotal: 1m 6s\tremaining: 5.73s\n",
            "921:\tlearn: 0.0000909\ttotal: 1m 6s\tremaining: 5.66s\n",
            "922:\tlearn: 0.0000906\ttotal: 1m 6s\tremaining: 5.59s\n",
            "923:\tlearn: 0.0000905\ttotal: 1m 7s\tremaining: 5.52s\n",
            "924:\tlearn: 0.0000903\ttotal: 1m 7s\tremaining: 5.44s\n",
            "925:\tlearn: 0.0000902\ttotal: 1m 7s\tremaining: 5.37s\n",
            "926:\tlearn: 0.0000902\ttotal: 1m 7s\tremaining: 5.3s\n",
            "927:\tlearn: 0.0000901\ttotal: 1m 7s\tremaining: 5.23s\n",
            "928:\tlearn: 0.0000900\ttotal: 1m 7s\tremaining: 5.15s\n",
            "929:\tlearn: 0.0000898\ttotal: 1m 7s\tremaining: 5.08s\n",
            "930:\tlearn: 0.0000895\ttotal: 1m 7s\tremaining: 5.01s\n",
            "931:\tlearn: 0.0000895\ttotal: 1m 7s\tremaining: 4.93s\n",
            "932:\tlearn: 0.0000894\ttotal: 1m 7s\tremaining: 4.86s\n",
            "933:\tlearn: 0.0000893\ttotal: 1m 7s\tremaining: 4.79s\n",
            "934:\tlearn: 0.0000892\ttotal: 1m 7s\tremaining: 4.72s\n",
            "935:\tlearn: 0.0000891\ttotal: 1m 7s\tremaining: 4.65s\n",
            "936:\tlearn: 0.0000888\ttotal: 1m 8s\tremaining: 4.58s\n",
            "937:\tlearn: 0.0000887\ttotal: 1m 8s\tremaining: 4.5s\n",
            "938:\tlearn: 0.0000886\ttotal: 1m 8s\tremaining: 4.43s\n",
            "939:\tlearn: 0.0000886\ttotal: 1m 8s\tremaining: 4.36s\n",
            "940:\tlearn: 0.0000884\ttotal: 1m 8s\tremaining: 4.29s\n",
            "941:\tlearn: 0.0000884\ttotal: 1m 8s\tremaining: 4.21s\n",
            "942:\tlearn: 0.0000883\ttotal: 1m 8s\tremaining: 4.14s\n",
            "943:\tlearn: 0.0000877\ttotal: 1m 8s\tremaining: 4.07s\n",
            "944:\tlearn: 0.0000875\ttotal: 1m 8s\tremaining: 4s\n",
            "945:\tlearn: 0.0000872\ttotal: 1m 8s\tremaining: 3.92s\n",
            "946:\tlearn: 0.0000871\ttotal: 1m 8s\tremaining: 3.85s\n",
            "947:\tlearn: 0.0000870\ttotal: 1m 8s\tremaining: 3.78s\n",
            "948:\tlearn: 0.0000867\ttotal: 1m 8s\tremaining: 3.71s\n",
            "949:\tlearn: 0.0000865\ttotal: 1m 9s\tremaining: 3.63s\n",
            "950:\tlearn: 0.0000865\ttotal: 1m 9s\tremaining: 3.56s\n",
            "951:\tlearn: 0.0000864\ttotal: 1m 9s\tremaining: 3.49s\n",
            "952:\tlearn: 0.0000863\ttotal: 1m 9s\tremaining: 3.41s\n",
            "953:\tlearn: 0.0000863\ttotal: 1m 9s\tremaining: 3.34s\n",
            "954:\tlearn: 0.0000862\ttotal: 1m 9s\tremaining: 3.27s\n",
            "955:\tlearn: 0.0000855\ttotal: 1m 9s\tremaining: 3.19s\n",
            "956:\tlearn: 0.0000854\ttotal: 1m 9s\tremaining: 3.12s\n",
            "957:\tlearn: 0.0000852\ttotal: 1m 9s\tremaining: 3.05s\n",
            "958:\tlearn: 0.0000851\ttotal: 1m 9s\tremaining: 2.98s\n",
            "959:\tlearn: 0.0000849\ttotal: 1m 9s\tremaining: 2.9s\n",
            "960:\tlearn: 0.0000848\ttotal: 1m 9s\tremaining: 2.83s\n",
            "961:\tlearn: 0.0000848\ttotal: 1m 9s\tremaining: 2.76s\n",
            "962:\tlearn: 0.0000847\ttotal: 1m 9s\tremaining: 2.69s\n",
            "963:\tlearn: 0.0000847\ttotal: 1m 10s\tremaining: 2.61s\n",
            "964:\tlearn: 0.0000846\ttotal: 1m 10s\tremaining: 2.54s\n",
            "965:\tlearn: 0.0000845\ttotal: 1m 10s\tremaining: 2.47s\n",
            "966:\tlearn: 0.0000845\ttotal: 1m 10s\tremaining: 2.4s\n",
            "967:\tlearn: 0.0000845\ttotal: 1m 10s\tremaining: 2.32s\n",
            "968:\tlearn: 0.0000843\ttotal: 1m 10s\tremaining: 2.25s\n",
            "969:\tlearn: 0.0000842\ttotal: 1m 10s\tremaining: 2.18s\n",
            "970:\tlearn: 0.0000842\ttotal: 1m 10s\tremaining: 2.1s\n",
            "971:\tlearn: 0.0000841\ttotal: 1m 10s\tremaining: 2.03s\n",
            "972:\tlearn: 0.0000841\ttotal: 1m 10s\tremaining: 1.96s\n",
            "973:\tlearn: 0.0000840\ttotal: 1m 10s\tremaining: 1.89s\n",
            "974:\tlearn: 0.0000838\ttotal: 1m 10s\tremaining: 1.81s\n",
            "975:\tlearn: 0.0000838\ttotal: 1m 10s\tremaining: 1.74s\n",
            "976:\tlearn: 0.0000836\ttotal: 1m 10s\tremaining: 1.67s\n",
            "977:\tlearn: 0.0000835\ttotal: 1m 11s\tremaining: 1.6s\n",
            "978:\tlearn: 0.0000832\ttotal: 1m 11s\tremaining: 1.52s\n",
            "979:\tlearn: 0.0000831\ttotal: 1m 11s\tremaining: 1.45s\n",
            "980:\tlearn: 0.0000829\ttotal: 1m 11s\tremaining: 1.38s\n",
            "981:\tlearn: 0.0000827\ttotal: 1m 11s\tremaining: 1.31s\n",
            "982:\tlearn: 0.0000826\ttotal: 1m 11s\tremaining: 1.23s\n",
            "983:\tlearn: 0.0000825\ttotal: 1m 11s\tremaining: 1.16s\n",
            "984:\tlearn: 0.0000823\ttotal: 1m 11s\tremaining: 1.09s\n",
            "985:\tlearn: 0.0000823\ttotal: 1m 11s\tremaining: 1.02s\n",
            "986:\tlearn: 0.0000823\ttotal: 1m 11s\tremaining: 945ms\n",
            "987:\tlearn: 0.0000822\ttotal: 1m 11s\tremaining: 872ms\n",
            "988:\tlearn: 0.0000820\ttotal: 1m 11s\tremaining: 799ms\n",
            "989:\tlearn: 0.0000818\ttotal: 1m 11s\tremaining: 727ms\n",
            "990:\tlearn: 0.0000818\ttotal: 1m 12s\tremaining: 654ms\n",
            "991:\tlearn: 0.0000815\ttotal: 1m 12s\tremaining: 581ms\n",
            "992:\tlearn: 0.0000815\ttotal: 1m 12s\tremaining: 509ms\n",
            "993:\tlearn: 0.0000815\ttotal: 1m 12s\tremaining: 436ms\n",
            "994:\tlearn: 0.0000814\ttotal: 1m 12s\tremaining: 363ms\n",
            "995:\tlearn: 0.0000811\ttotal: 1m 12s\tremaining: 291ms\n",
            "996:\tlearn: 0.0000811\ttotal: 1m 12s\tremaining: 218ms\n",
            "997:\tlearn: 0.0000810\ttotal: 1m 12s\tremaining: 145ms\n",
            "998:\tlearn: 0.0000809\ttotal: 1m 12s\tremaining: 72.6ms\n",
            "999:\tlearn: 0.0000808\ttotal: 1m 12s\tremaining: 0us\n"
          ],
          "name": "stdout"
        },
        {
          "output_type": "execute_result",
          "data": {
            "text/plain": [
              "<catboost.core.CatBoostClassifier at 0x7ff0d6716a20>"
            ]
          },
          "metadata": {
            "tags": []
          },
          "execution_count": 33
        }
      ]
    },
    {
      "cell_type": "code",
      "metadata": {
        "id": "npzpLnaHsOZo",
        "colab_type": "code",
        "colab": {
          "base_uri": "https://localhost:8080/",
          "height": 221
        },
        "outputId": "4ed0e829-20c3-4ceb-9ed3-5f2eb67cb854"
      },
      "source": [
        "y_pred=cat.predict(X_test)\n",
        "print(confusion_matrix(Y_test,y_pred))\n",
        "print(accuracy_score(Y_test,y_pred))\n",
        "print(classification_report(Y_test,y_pred))"
      ],
      "execution_count": null,
      "outputs": [
        {
          "output_type": "stream",
          "text": [
            "[[85279     4]\n",
            " [   41   119]]\n",
            "0.9994733330992591\n",
            "              precision    recall  f1-score   support\n",
            "\n",
            "           0       1.00      1.00      1.00     85283\n",
            "           1       0.97      0.74      0.84       160\n",
            "\n",
            "    accuracy                           1.00     85443\n",
            "   macro avg       0.98      0.87      0.92     85443\n",
            "weighted avg       1.00      1.00      1.00     85443\n",
            "\n"
          ],
          "name": "stdout"
        }
      ]
    },
    {
      "cell_type": "code",
      "metadata": {
        "id": "Fr3MqMYbpVYG",
        "colab_type": "code",
        "colab": {
          "base_uri": "https://localhost:8080/",
          "height": 173
        },
        "outputId": "9c465137-62a1-4578-fda6-bf7bdfe26d80"
      },
      "source": [
        "pd.crosstab(pd.Series(y_pred, name = 'Predicted'), \n",
        "            pd.Series(Y_test, name = 'Actual'),\n",
        "            margins=True)"
      ],
      "execution_count": null,
      "outputs": [
        {
          "output_type": "execute_result",
          "data": {
            "text/html": [
              "<div>\n",
              "<style scoped>\n",
              "    .dataframe tbody tr th:only-of-type {\n",
              "        vertical-align: middle;\n",
              "    }\n",
              "\n",
              "    .dataframe tbody tr th {\n",
              "        vertical-align: top;\n",
              "    }\n",
              "\n",
              "    .dataframe thead th {\n",
              "        text-align: right;\n",
              "    }\n",
              "</style>\n",
              "<table border=\"1\" class=\"dataframe\">\n",
              "  <thead>\n",
              "    <tr style=\"text-align: right;\">\n",
              "      <th>Actual</th>\n",
              "      <th>0</th>\n",
              "      <th>1</th>\n",
              "      <th>All</th>\n",
              "    </tr>\n",
              "    <tr>\n",
              "      <th>Predicted</th>\n",
              "      <th></th>\n",
              "      <th></th>\n",
              "      <th></th>\n",
              "    </tr>\n",
              "  </thead>\n",
              "  <tbody>\n",
              "    <tr>\n",
              "      <th>0</th>\n",
              "      <td>25444</td>\n",
              "      <td>51</td>\n",
              "      <td>25495</td>\n",
              "    </tr>\n",
              "    <tr>\n",
              "      <th>1</th>\n",
              "      <td>36</td>\n",
              "      <td>0</td>\n",
              "      <td>36</td>\n",
              "    </tr>\n",
              "    <tr>\n",
              "      <th>All</th>\n",
              "      <td>25480</td>\n",
              "      <td>51</td>\n",
              "      <td>25531</td>\n",
              "    </tr>\n",
              "  </tbody>\n",
              "</table>\n",
              "</div>"
            ],
            "text/plain": [
              "Actual         0   1    All\n",
              "Predicted                  \n",
              "0          25444  51  25495\n",
              "1             36   0     36\n",
              "All        25480  51  25531"
            ]
          },
          "metadata": {
            "tags": []
          },
          "execution_count": 35
        }
      ]
    },
    {
      "cell_type": "code",
      "metadata": {
        "id": "q5aOwFGp-3qa",
        "colab_type": "code",
        "colab": {
          "base_uri": "https://localhost:8080/",
          "height": 102
        },
        "outputId": "7675089e-c488-4d7d-a961-53d584263a57"
      },
      "source": [
        "generate_model_report(Y_test,y_pred)"
      ],
      "execution_count": null,
      "outputs": [
        {
          "output_type": "stream",
          "text": [
            "Accuracy =  0.9994733330992591\n",
            "Precision =  0.967479674796748\n",
            "Recall =  0.74375\n",
            "F1 Score =  0.8409893992932862\n",
            "Kappa Score =  0.8407301451235945\n"
          ],
          "name": "stdout"
        }
      ]
    },
    {
      "cell_type": "code",
      "metadata": {
        "id": "Gz2oLo0a_XyP",
        "colab_type": "code",
        "colab": {
          "base_uri": "https://localhost:8080/",
          "height": 485
        },
        "outputId": "ec6bf06a-9bea-4c71-fc9e-9474464411d4"
      },
      "source": [
        "generate_auc_roc_curve(cat, X_test)"
      ],
      "execution_count": null,
      "outputs": [
        {
          "output_type": "display_data",
          "data": {
            "image/png": "[encoded data removed]",
            "text/plain": [
              "<Figure size 1008x576 with 1 Axes>"
            ]
          },
          "metadata": {
            "tags": []
          }
        }
      ]
    },
    {
      "cell_type": "code",
      "metadata": {
        "id": "qA2GfXrxCp_M",
        "colab_type": "code",
        "colab": {}
      },
      "source": [
        ""
      ],
      "execution_count": null,
      "outputs": []
    },
    {
      "cell_type": "code",
      "metadata": {
        "id": "xvUWy0BkD6_M",
        "colab_type": "code",
        "colab": {}
      },
      "source": [
        ""
      ],
      "execution_count": null,
      "outputs": []
    }
  ]
}